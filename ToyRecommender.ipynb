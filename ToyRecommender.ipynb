{
 "cells": [
  {
   "cell_type": "markdown",
   "metadata": {
    "id": "fQcQAvOO7_Hb"
   },
   "source": [
    "# Pràctica 2: Recomanador Simple\n",
    "\n",
    "Nom dels alumnes del grup: **Martí Martínez Gargallo i Diego Hernández Antón**\n"
   ]
  },
  {
   "cell_type": "markdown",
   "metadata": {
    "id": "jA23uCs6wksC"
   },
   "source": [
    "## 1. INTRODUCCIÓ"
   ]
  },
  {
   "cell_type": "markdown",
   "metadata": {},
   "source": [
    "### 1.1. Abans de començar...\n",
    "\n",
    "**\\+ A més a més de les que ja es troben presents en la 1a cel·la i funcions natives de Python, durant la pràctica, només es podran fer servir les següents llibreries**:\n",
    "\n",
    "`Pandas, Numpy, Itertools`\n",
    "\n",
    "**\\+ No es poden modificar les definicions de les funcions donades, ni canviar els noms de les variables i paràmetres ja donats**\n",
    "\n",
    "Això no implica però que els hàgiu de fer servir. És a dir, que la funció tingui un paràmetre anomenat `df` no implica que l'hàgiu de fer servir, si no ho trobeu convenient.\n",
    "\n",
    "**\\+ En les funcions, s'especifica què serà i de quin tipus cada un dels paràmetres, cal respectar-ho**\n",
    "\n",
    "Per exemple (ho posarà en el pydoc de la funció), `df` sempre serà indicatiu del `Pandas.DataFrame` de les dades."
   ]
  },
  {
   "cell_type": "markdown",
   "metadata": {
    "id": "9rsNZQEvueYW"
   },
   "source": [
    "### 1.2. Dades: puntuacions de pel·licules"
   ]
  },
  {
   "cell_type": "markdown",
   "metadata": {
    "id": "Ve8NdxrB7_Hc"
   },
   "source": [
    "La base de dades [movielens-1M](http://www.grouplens.org/node/73) conté 1,000,209 puntuacions de 3.900 pel·lícules fetes l'any 2000 per 6.040 usuaris anònims del recomanador online [MovieLens](http://www.movielens.org/). "
   ]
  },
  {
   "cell_type": "markdown",
   "metadata": {
    "id": "P6urN1BW7_Hd"
   },
   "source": [
    "El consum total de tots els usuaris s'hi pot trobar al document \"ratings.dat\" el format següent:\n",
    "\n",
    "    UserID::MovieID::Rating::Timestamp\n",
    "\n",
    "- **UserID** usuari, amb id's entre 1 i 6040 \n",
    "- **MovieID** pel·licula, amb id's entre 1 i 3952\n",
    "- **Rating** puntuació, en una escala de 1 a 5 estrelles.\n",
    "- **Timestamp** representat en segons\n",
    "\n",
    "Cada usuari té com a mínim 20 puntuacions."
   ]
  },
  {
   "cell_type": "markdown",
   "metadata": {
    "id": "AnjjZz6Sr_de"
   },
   "source": [
    "### 1.3. Dades: usuaris\n"
   ]
  },
  {
   "cell_type": "markdown",
   "metadata": {
    "id": "NczG1-ixuu-D"
   },
   "source": [
    "\n",
    "Al fitxer ``users.dat`` hi trobem la informació referent a cadascun dels usuaris en el següent format:\n",
    "\n",
    "        UserID::Gender::Age::Occupation::Zip-code\n",
    "\n",
    "- **Gender** ve donat per \"M\" per home i \"F\" per dona.\n",
    "- **Age** està representada de la següent forma:\n",
    "\n",
    "\t*  1:  \"Under 18\"\n",
    "\t* 18:  \"18-24\"\n",
    "\t* 25:  \"25-34\"\n",
    "\t* 35:  \"35-44\"\n",
    "\t* 45:  \"45-49\"\n",
    "\t* 50:  \"50-55\"\n",
    "\t* 56:  \"56+\"\n",
    "\n",
    "- **Occupation** es tria entre les següents opcions:\n",
    "\n",
    "\t*  0:  \"other\" or not specified\n",
    "\t*  1:  \"academic/educator\"\n",
    "\t*  2:  \"artist\"\n",
    "\t*  3:  \"clerical/admin\"\n",
    "\t*  4:  \"college/grad student\"\n",
    "\t*  5:  \"customer service\"\n",
    "\t*  6:  \"doctor/health care\"\n",
    "\t*  7:  \"executive/managerial\"\n",
    "\t*  8:  \"farmer\"\n",
    "\t*  9:  \"homemaker\"\n",
    "\t* 10:  \"K-12 student\"\n",
    "\t* 11:  \"lawyer\"\n",
    "\t* 12:  \"programmer\"\n",
    "\t* 13:  \"retired\"\n",
    "\t* 14:  \"sales/marketing\"\n",
    "\t* 15:  \"scientist\"\n",
    "\t* 16:  \"self-employed\"\n",
    "\t* 17:  \"technician/engineer\"\n",
    "\t* 18:  \"tradesman/craftsman\"\n",
    "\t* 19:  \"unemployed\"\n",
    "\t* 20:  \"writer\"\n",
    "\n",
    "Els usuaris han donat la informació voluntariament. Així doncs, alguns usuaris poden no tenir informació.\n"
   ]
  },
  {
   "cell_type": "markdown",
   "metadata": {
    "id": "7Usgj7Vgupkw"
   },
   "source": [
    "### 1.4. Dades: pel·lícules\n"
   ]
  },
  {
   "cell_type": "markdown",
   "metadata": {
    "id": "W9l--Lg7up4i"
   },
   "source": [
    "\n",
    "Al fitxer ``movies.dat`` hi trobem la informació referent a cadascuna de les películes en el següent format:\n",
    "\n",
    "        MovieID::Title::Genres\n",
    "\n",
    "- **Titles** són identics als titols de la base de dades IMDB, incloent l'any de llançament.\n",
    "- **Genres** de les películes estan separats i seleccionats d'entre els següents:\n",
    "\n",
    "\t* Action\n",
    "\t* Adventure\n",
    "\t* Animation\n",
    "\t* Children's\n",
    "\t* Comedy\n",
    "\t* Crime\n",
    "\t* Documentary\n",
    "\t* Drama\n",
    "\t* Fantasy\n",
    "\t* Film-Noir\n",
    "\t* Horror\n",
    "\t* Musical\n",
    "\t* Mystery\n",
    "\t* Romance\n",
    "\t* Sci-Fi\n",
    "\t* Thriller\n",
    "\t* War\n",
    "\t* Western\n",
    "\n",
    "Algunes películes poden tenir l'ID malament degut a duplicats accidentals.\n",
    "\n",
    "Les películes s'han entrat manualment, així que poden existir altres inconsistencies. "
   ]
  },
  {
   "cell_type": "markdown",
   "metadata": {
    "id": "Ga800aP7uyT2"
   },
   "source": [
    "## 2. Exploració de les dades"
   ]
  },
  {
   "cell_type": "markdown",
   "metadata": {
    "id": "TCfsud8VvBqJ"
   },
   "source": [
    "### 2.1. Descarregar i llegir dades"
   ]
  },
  {
   "cell_type": "markdown",
   "metadata": {
    "id": "8wj0kd3A7_He"
   },
   "source": [
    "+ Baixa't els fitxers que composen la base de dades i els còpies al teu directori de treball. "
   ]
  },
  {
   "cell_type": "code",
   "execution_count": 1,
   "metadata": {},
   "outputs": [],
   "source": [
    "import os\n",
    "if os.path.isfile(\"/etc/password.txt\") == False:\n",
    "    os.system('wget -nc http://files.grouplens.org/datasets/movielens/ml-1m.zip')\n",
    "    os.system('unzip ml-1m.zip')"
   ]
  },
  {
   "cell_type": "markdown",
   "metadata": {
    "id": "SN_zOl7G7_He"
   },
   "source": [
    "+ Llegeix les tres taules de la base de dades en tres DataFrames de pandas amb aquest codi:"
   ]
  },
  {
   "cell_type": "code",
   "execution_count": 2,
   "metadata": {},
   "outputs": [],
   "source": [
    "import math\n",
    "import numpy as np\n",
    "import pandas as pd\n",
    "import datetime\n",
    "import itertools\n",
    "from tqdm.notebook import trange, tqdm\n",
    "import matplotlib.pyplot as plt"
   ]
  },
  {
   "cell_type": "code",
   "execution_count": 3,
   "metadata": {
    "id": "UnM-iE1a7_He",
    "jupyter": {
     "outputs_hidden": false
    }
   },
   "outputs": [],
   "source": [
    "unames = ['user_id', 'gender', 'age', 'occupation', 'zip']\n",
    "users = pd.read_table('ml-1m/users.dat', sep='::', header=None, names=unames, engine='python')\n",
    "rnames = ['user_id', 'movie_id', 'rating', 'timestamp']\n",
    "ratings = pd.read_table('ml-1m/ratings.dat', sep='::', header=None, names=rnames, engine='python')\n",
    "mnames = ['movie_id', 'title', 'genres']\n",
    "movies = pd.read_table('ml-1m/movies.dat', sep='::', header=None, names=mnames, engine='python', encoding='latin-1')"
   ]
  },
  {
   "cell_type": "markdown",
   "metadata": {
    "id": "UgE08I4i7_Hf"
   },
   "source": [
    "### 2.2. Inspecció de les taules"
   ]
  },
  {
   "cell_type": "code",
   "execution_count": 4,
   "metadata": {
    "colab": {
     "base_uri": "https://localhost:8080/",
     "height": 363
    },
    "id": "YeiRpOEm7_Hf",
    "jupyter": {
     "outputs_hidden": false
    },
    "outputId": "7f3239d1-2d90-40fd-d2c7-6a26fbf9be73"
   },
   "outputs": [
    {
     "data": {
      "text/html": [
       "<div>\n",
       "<style scoped>\n",
       "    .dataframe tbody tr th:only-of-type {\n",
       "        vertical-align: middle;\n",
       "    }\n",
       "\n",
       "    .dataframe tbody tr th {\n",
       "        vertical-align: top;\n",
       "    }\n",
       "\n",
       "    .dataframe thead th {\n",
       "        text-align: right;\n",
       "    }\n",
       "</style>\n",
       "<table border=\"1\" class=\"dataframe\">\n",
       "  <thead>\n",
       "    <tr style=\"text-align: right;\">\n",
       "      <th></th>\n",
       "      <th>user_id</th>\n",
       "      <th>gender</th>\n",
       "      <th>age</th>\n",
       "      <th>occupation</th>\n",
       "      <th>zip</th>\n",
       "    </tr>\n",
       "  </thead>\n",
       "  <tbody>\n",
       "    <tr>\n",
       "      <th>0</th>\n",
       "      <td>1</td>\n",
       "      <td>F</td>\n",
       "      <td>1</td>\n",
       "      <td>10</td>\n",
       "      <td>48067</td>\n",
       "    </tr>\n",
       "    <tr>\n",
       "      <th>1</th>\n",
       "      <td>2</td>\n",
       "      <td>M</td>\n",
       "      <td>56</td>\n",
       "      <td>16</td>\n",
       "      <td>70072</td>\n",
       "    </tr>\n",
       "    <tr>\n",
       "      <th>2</th>\n",
       "      <td>3</td>\n",
       "      <td>M</td>\n",
       "      <td>25</td>\n",
       "      <td>15</td>\n",
       "      <td>55117</td>\n",
       "    </tr>\n",
       "    <tr>\n",
       "      <th>3</th>\n",
       "      <td>4</td>\n",
       "      <td>M</td>\n",
       "      <td>45</td>\n",
       "      <td>7</td>\n",
       "      <td>02460</td>\n",
       "    </tr>\n",
       "    <tr>\n",
       "      <th>4</th>\n",
       "      <td>5</td>\n",
       "      <td>M</td>\n",
       "      <td>25</td>\n",
       "      <td>20</td>\n",
       "      <td>55455</td>\n",
       "    </tr>\n",
       "    <tr>\n",
       "      <th>5</th>\n",
       "      <td>6</td>\n",
       "      <td>F</td>\n",
       "      <td>50</td>\n",
       "      <td>9</td>\n",
       "      <td>55117</td>\n",
       "    </tr>\n",
       "    <tr>\n",
       "      <th>6</th>\n",
       "      <td>7</td>\n",
       "      <td>M</td>\n",
       "      <td>35</td>\n",
       "      <td>1</td>\n",
       "      <td>06810</td>\n",
       "    </tr>\n",
       "    <tr>\n",
       "      <th>7</th>\n",
       "      <td>8</td>\n",
       "      <td>M</td>\n",
       "      <td>25</td>\n",
       "      <td>12</td>\n",
       "      <td>11413</td>\n",
       "    </tr>\n",
       "    <tr>\n",
       "      <th>8</th>\n",
       "      <td>9</td>\n",
       "      <td>M</td>\n",
       "      <td>25</td>\n",
       "      <td>17</td>\n",
       "      <td>61614</td>\n",
       "    </tr>\n",
       "    <tr>\n",
       "      <th>9</th>\n",
       "      <td>10</td>\n",
       "      <td>F</td>\n",
       "      <td>35</td>\n",
       "      <td>1</td>\n",
       "      <td>95370</td>\n",
       "    </tr>\n",
       "  </tbody>\n",
       "</table>\n",
       "</div>"
      ],
      "text/plain": [
       "   user_id gender  age  occupation    zip\n",
       "0        1      F    1          10  48067\n",
       "1        2      M   56          16  70072\n",
       "2        3      M   25          15  55117\n",
       "3        4      M   45           7  02460\n",
       "4        5      M   25          20  55455\n",
       "5        6      F   50           9  55117\n",
       "6        7      M   35           1  06810\n",
       "7        8      M   25          12  11413\n",
       "8        9      M   25          17  61614\n",
       "9       10      F   35           1  95370"
      ]
     },
     "execution_count": 4,
     "metadata": {},
     "output_type": "execute_result"
    }
   ],
   "source": [
    "users[:10]"
   ]
  },
  {
   "cell_type": "code",
   "execution_count": 5,
   "metadata": {
    "colab": {
     "base_uri": "https://localhost:8080/",
     "height": 363
    },
    "id": "EBfcmBPv7_Hg",
    "jupyter": {
     "outputs_hidden": false
    },
    "outputId": "6564e017-5020-4d0d-ae35-756f0839acd8"
   },
   "outputs": [
    {
     "data": {
      "text/html": [
       "<div>\n",
       "<style scoped>\n",
       "    .dataframe tbody tr th:only-of-type {\n",
       "        vertical-align: middle;\n",
       "    }\n",
       "\n",
       "    .dataframe tbody tr th {\n",
       "        vertical-align: top;\n",
       "    }\n",
       "\n",
       "    .dataframe thead th {\n",
       "        text-align: right;\n",
       "    }\n",
       "</style>\n",
       "<table border=\"1\" class=\"dataframe\">\n",
       "  <thead>\n",
       "    <tr style=\"text-align: right;\">\n",
       "      <th></th>\n",
       "      <th>user_id</th>\n",
       "      <th>gender</th>\n",
       "      <th>age</th>\n",
       "      <th>occupation</th>\n",
       "      <th>zip</th>\n",
       "    </tr>\n",
       "  </thead>\n",
       "  <tbody>\n",
       "    <tr>\n",
       "      <th>6030</th>\n",
       "      <td>6031</td>\n",
       "      <td>F</td>\n",
       "      <td>18</td>\n",
       "      <td>0</td>\n",
       "      <td>45123</td>\n",
       "    </tr>\n",
       "    <tr>\n",
       "      <th>6031</th>\n",
       "      <td>6032</td>\n",
       "      <td>M</td>\n",
       "      <td>45</td>\n",
       "      <td>7</td>\n",
       "      <td>55108</td>\n",
       "    </tr>\n",
       "    <tr>\n",
       "      <th>6032</th>\n",
       "      <td>6033</td>\n",
       "      <td>M</td>\n",
       "      <td>50</td>\n",
       "      <td>13</td>\n",
       "      <td>78232</td>\n",
       "    </tr>\n",
       "    <tr>\n",
       "      <th>6033</th>\n",
       "      <td>6034</td>\n",
       "      <td>M</td>\n",
       "      <td>25</td>\n",
       "      <td>14</td>\n",
       "      <td>94117</td>\n",
       "    </tr>\n",
       "    <tr>\n",
       "      <th>6034</th>\n",
       "      <td>6035</td>\n",
       "      <td>F</td>\n",
       "      <td>25</td>\n",
       "      <td>1</td>\n",
       "      <td>78734</td>\n",
       "    </tr>\n",
       "    <tr>\n",
       "      <th>6035</th>\n",
       "      <td>6036</td>\n",
       "      <td>F</td>\n",
       "      <td>25</td>\n",
       "      <td>15</td>\n",
       "      <td>32603</td>\n",
       "    </tr>\n",
       "    <tr>\n",
       "      <th>6036</th>\n",
       "      <td>6037</td>\n",
       "      <td>F</td>\n",
       "      <td>45</td>\n",
       "      <td>1</td>\n",
       "      <td>76006</td>\n",
       "    </tr>\n",
       "    <tr>\n",
       "      <th>6037</th>\n",
       "      <td>6038</td>\n",
       "      <td>F</td>\n",
       "      <td>56</td>\n",
       "      <td>1</td>\n",
       "      <td>14706</td>\n",
       "    </tr>\n",
       "    <tr>\n",
       "      <th>6038</th>\n",
       "      <td>6039</td>\n",
       "      <td>F</td>\n",
       "      <td>45</td>\n",
       "      <td>0</td>\n",
       "      <td>01060</td>\n",
       "    </tr>\n",
       "    <tr>\n",
       "      <th>6039</th>\n",
       "      <td>6040</td>\n",
       "      <td>M</td>\n",
       "      <td>25</td>\n",
       "      <td>6</td>\n",
       "      <td>11106</td>\n",
       "    </tr>\n",
       "  </tbody>\n",
       "</table>\n",
       "</div>"
      ],
      "text/plain": [
       "      user_id gender  age  occupation    zip\n",
       "6030     6031      F   18           0  45123\n",
       "6031     6032      M   45           7  55108\n",
       "6032     6033      M   50          13  78232\n",
       "6033     6034      M   25          14  94117\n",
       "6034     6035      F   25           1  78734\n",
       "6035     6036      F   25          15  32603\n",
       "6036     6037      F   45           1  76006\n",
       "6037     6038      F   56           1  14706\n",
       "6038     6039      F   45           0  01060\n",
       "6039     6040      M   25           6  11106"
      ]
     },
     "execution_count": 5,
     "metadata": {},
     "output_type": "execute_result"
    }
   ],
   "source": [
    "users[-10:]"
   ]
  },
  {
   "cell_type": "code",
   "execution_count": 6,
   "metadata": {
    "colab": {
     "base_uri": "https://localhost:8080/",
     "height": 363
    },
    "id": "ClIF_jSR7_Hg",
    "jupyter": {
     "outputs_hidden": false
    },
    "outputId": "30d73ea9-5cd0-4182-cc2f-0d3fea02844f"
   },
   "outputs": [
    {
     "data": {
      "text/html": [
       "<div>\n",
       "<style scoped>\n",
       "    .dataframe tbody tr th:only-of-type {\n",
       "        vertical-align: middle;\n",
       "    }\n",
       "\n",
       "    .dataframe tbody tr th {\n",
       "        vertical-align: top;\n",
       "    }\n",
       "\n",
       "    .dataframe thead th {\n",
       "        text-align: right;\n",
       "    }\n",
       "</style>\n",
       "<table border=\"1\" class=\"dataframe\">\n",
       "  <thead>\n",
       "    <tr style=\"text-align: right;\">\n",
       "      <th></th>\n",
       "      <th>user_id</th>\n",
       "      <th>movie_id</th>\n",
       "      <th>rating</th>\n",
       "      <th>timestamp</th>\n",
       "    </tr>\n",
       "  </thead>\n",
       "  <tbody>\n",
       "    <tr>\n",
       "      <th>1000199</th>\n",
       "      <td>6040</td>\n",
       "      <td>2022</td>\n",
       "      <td>5</td>\n",
       "      <td>956716207</td>\n",
       "    </tr>\n",
       "    <tr>\n",
       "      <th>1000200</th>\n",
       "      <td>6040</td>\n",
       "      <td>2028</td>\n",
       "      <td>5</td>\n",
       "      <td>956704519</td>\n",
       "    </tr>\n",
       "    <tr>\n",
       "      <th>1000201</th>\n",
       "      <td>6040</td>\n",
       "      <td>1080</td>\n",
       "      <td>4</td>\n",
       "      <td>957717322</td>\n",
       "    </tr>\n",
       "    <tr>\n",
       "      <th>1000202</th>\n",
       "      <td>6040</td>\n",
       "      <td>1089</td>\n",
       "      <td>4</td>\n",
       "      <td>956704996</td>\n",
       "    </tr>\n",
       "    <tr>\n",
       "      <th>1000203</th>\n",
       "      <td>6040</td>\n",
       "      <td>1090</td>\n",
       "      <td>3</td>\n",
       "      <td>956715518</td>\n",
       "    </tr>\n",
       "    <tr>\n",
       "      <th>1000204</th>\n",
       "      <td>6040</td>\n",
       "      <td>1091</td>\n",
       "      <td>1</td>\n",
       "      <td>956716541</td>\n",
       "    </tr>\n",
       "    <tr>\n",
       "      <th>1000205</th>\n",
       "      <td>6040</td>\n",
       "      <td>1094</td>\n",
       "      <td>5</td>\n",
       "      <td>956704887</td>\n",
       "    </tr>\n",
       "    <tr>\n",
       "      <th>1000206</th>\n",
       "      <td>6040</td>\n",
       "      <td>562</td>\n",
       "      <td>5</td>\n",
       "      <td>956704746</td>\n",
       "    </tr>\n",
       "    <tr>\n",
       "      <th>1000207</th>\n",
       "      <td>6040</td>\n",
       "      <td>1096</td>\n",
       "      <td>4</td>\n",
       "      <td>956715648</td>\n",
       "    </tr>\n",
       "    <tr>\n",
       "      <th>1000208</th>\n",
       "      <td>6040</td>\n",
       "      <td>1097</td>\n",
       "      <td>4</td>\n",
       "      <td>956715569</td>\n",
       "    </tr>\n",
       "  </tbody>\n",
       "</table>\n",
       "</div>"
      ],
      "text/plain": [
       "         user_id  movie_id  rating  timestamp\n",
       "1000199     6040      2022       5  956716207\n",
       "1000200     6040      2028       5  956704519\n",
       "1000201     6040      1080       4  957717322\n",
       "1000202     6040      1089       4  956704996\n",
       "1000203     6040      1090       3  956715518\n",
       "1000204     6040      1091       1  956716541\n",
       "1000205     6040      1094       5  956704887\n",
       "1000206     6040       562       5  956704746\n",
       "1000207     6040      1096       4  956715648\n",
       "1000208     6040      1097       4  956715569"
      ]
     },
     "execution_count": 6,
     "metadata": {},
     "output_type": "execute_result"
    }
   ],
   "source": [
    "ratings[-10:]"
   ]
  },
  {
   "cell_type": "code",
   "execution_count": 7,
   "metadata": {
    "colab": {
     "base_uri": "https://localhost:8080/",
     "height": 363
    },
    "id": "_0rLOKXd7_Hg",
    "jupyter": {
     "outputs_hidden": false
    },
    "outputId": "531d0ea5-86b0-4365-be8c-a676139b9d83"
   },
   "outputs": [
    {
     "data": {
      "text/html": [
       "<div>\n",
       "<style scoped>\n",
       "    .dataframe tbody tr th:only-of-type {\n",
       "        vertical-align: middle;\n",
       "    }\n",
       "\n",
       "    .dataframe tbody tr th {\n",
       "        vertical-align: top;\n",
       "    }\n",
       "\n",
       "    .dataframe thead th {\n",
       "        text-align: right;\n",
       "    }\n",
       "</style>\n",
       "<table border=\"1\" class=\"dataframe\">\n",
       "  <thead>\n",
       "    <tr style=\"text-align: right;\">\n",
       "      <th></th>\n",
       "      <th>user_id</th>\n",
       "      <th>movie_id</th>\n",
       "      <th>rating</th>\n",
       "      <th>timestamp</th>\n",
       "    </tr>\n",
       "  </thead>\n",
       "  <tbody>\n",
       "    <tr>\n",
       "      <th>0</th>\n",
       "      <td>1</td>\n",
       "      <td>1193</td>\n",
       "      <td>5</td>\n",
       "      <td>978300760</td>\n",
       "    </tr>\n",
       "    <tr>\n",
       "      <th>1</th>\n",
       "      <td>1</td>\n",
       "      <td>661</td>\n",
       "      <td>3</td>\n",
       "      <td>978302109</td>\n",
       "    </tr>\n",
       "    <tr>\n",
       "      <th>2</th>\n",
       "      <td>1</td>\n",
       "      <td>914</td>\n",
       "      <td>3</td>\n",
       "      <td>978301968</td>\n",
       "    </tr>\n",
       "    <tr>\n",
       "      <th>3</th>\n",
       "      <td>1</td>\n",
       "      <td>3408</td>\n",
       "      <td>4</td>\n",
       "      <td>978300275</td>\n",
       "    </tr>\n",
       "    <tr>\n",
       "      <th>4</th>\n",
       "      <td>1</td>\n",
       "      <td>2355</td>\n",
       "      <td>5</td>\n",
       "      <td>978824291</td>\n",
       "    </tr>\n",
       "    <tr>\n",
       "      <th>5</th>\n",
       "      <td>1</td>\n",
       "      <td>1197</td>\n",
       "      <td>3</td>\n",
       "      <td>978302268</td>\n",
       "    </tr>\n",
       "    <tr>\n",
       "      <th>6</th>\n",
       "      <td>1</td>\n",
       "      <td>1287</td>\n",
       "      <td>5</td>\n",
       "      <td>978302039</td>\n",
       "    </tr>\n",
       "    <tr>\n",
       "      <th>7</th>\n",
       "      <td>1</td>\n",
       "      <td>2804</td>\n",
       "      <td>5</td>\n",
       "      <td>978300719</td>\n",
       "    </tr>\n",
       "    <tr>\n",
       "      <th>8</th>\n",
       "      <td>1</td>\n",
       "      <td>594</td>\n",
       "      <td>4</td>\n",
       "      <td>978302268</td>\n",
       "    </tr>\n",
       "    <tr>\n",
       "      <th>9</th>\n",
       "      <td>1</td>\n",
       "      <td>919</td>\n",
       "      <td>4</td>\n",
       "      <td>978301368</td>\n",
       "    </tr>\n",
       "  </tbody>\n",
       "</table>\n",
       "</div>"
      ],
      "text/plain": [
       "   user_id  movie_id  rating  timestamp\n",
       "0        1      1193       5  978300760\n",
       "1        1       661       3  978302109\n",
       "2        1       914       3  978301968\n",
       "3        1      3408       4  978300275\n",
       "4        1      2355       5  978824291\n",
       "5        1      1197       3  978302268\n",
       "6        1      1287       5  978302039\n",
       "7        1      2804       5  978300719\n",
       "8        1       594       4  978302268\n",
       "9        1       919       4  978301368"
      ]
     },
     "execution_count": 7,
     "metadata": {},
     "output_type": "execute_result"
    }
   ],
   "source": [
    "ratings[:10]"
   ]
  },
  {
   "cell_type": "code",
   "execution_count": 8,
   "metadata": {
    "colab": {
     "base_uri": "https://localhost:8080/",
     "height": 206
    },
    "id": "MGJCDjya7_Hg",
    "jupyter": {
     "outputs_hidden": false
    },
    "outputId": "07a26450-2f9f-4951-e2f9-f07a1d425eda"
   },
   "outputs": [
    {
     "data": {
      "text/html": [
       "<div>\n",
       "<style scoped>\n",
       "    .dataframe tbody tr th:only-of-type {\n",
       "        vertical-align: middle;\n",
       "    }\n",
       "\n",
       "    .dataframe tbody tr th {\n",
       "        vertical-align: top;\n",
       "    }\n",
       "\n",
       "    .dataframe thead th {\n",
       "        text-align: right;\n",
       "    }\n",
       "</style>\n",
       "<table border=\"1\" class=\"dataframe\">\n",
       "  <thead>\n",
       "    <tr style=\"text-align: right;\">\n",
       "      <th></th>\n",
       "      <th>user_id</th>\n",
       "      <th>movie_id</th>\n",
       "      <th>rating</th>\n",
       "      <th>timestamp</th>\n",
       "    </tr>\n",
       "  </thead>\n",
       "  <tbody>\n",
       "    <tr>\n",
       "      <th>427702</th>\n",
       "      <td>2599</td>\n",
       "      <td>1</td>\n",
       "      <td>4</td>\n",
       "      <td>973796689</td>\n",
       "    </tr>\n",
       "    <tr>\n",
       "      <th>1966</th>\n",
       "      <td>18</td>\n",
       "      <td>1</td>\n",
       "      <td>4</td>\n",
       "      <td>978154768</td>\n",
       "    </tr>\n",
       "    <tr>\n",
       "      <th>683688</th>\n",
       "      <td>4089</td>\n",
       "      <td>1</td>\n",
       "      <td>5</td>\n",
       "      <td>965428947</td>\n",
       "    </tr>\n",
       "    <tr>\n",
       "      <th>596207</th>\n",
       "      <td>3626</td>\n",
       "      <td>1</td>\n",
       "      <td>4</td>\n",
       "      <td>966594018</td>\n",
       "    </tr>\n",
       "    <tr>\n",
       "      <th>465902</th>\n",
       "      <td>2873</td>\n",
       "      <td>1</td>\n",
       "      <td>5</td>\n",
       "      <td>972784317</td>\n",
       "    </tr>\n",
       "  </tbody>\n",
       "</table>\n",
       "</div>"
      ],
      "text/plain": [
       "        user_id  movie_id  rating  timestamp\n",
       "427702     2599         1       4  973796689\n",
       "1966         18         1       4  978154768\n",
       "683688     4089         1       5  965428947\n",
       "596207     3626         1       4  966594018\n",
       "465902     2873         1       5  972784317"
      ]
     },
     "execution_count": 8,
     "metadata": {},
     "output_type": "execute_result"
    }
   ],
   "source": [
    "ratings.sort_values('movie_id')[:5]"
   ]
  },
  {
   "cell_type": "code",
   "execution_count": 9,
   "metadata": {
    "colab": {
     "base_uri": "https://localhost:8080/",
     "height": 206
    },
    "id": "u_9RNoEA7_Hh",
    "jupyter": {
     "outputs_hidden": false
    },
    "outputId": "c9440353-8b55-4886-d076-279cdba3bd7e"
   },
   "outputs": [
    {
     "data": {
      "text/html": [
       "<div>\n",
       "<style scoped>\n",
       "    .dataframe tbody tr th:only-of-type {\n",
       "        vertical-align: middle;\n",
       "    }\n",
       "\n",
       "    .dataframe tbody tr th {\n",
       "        vertical-align: top;\n",
       "    }\n",
       "\n",
       "    .dataframe thead th {\n",
       "        text-align: right;\n",
       "    }\n",
       "</style>\n",
       "<table border=\"1\" class=\"dataframe\">\n",
       "  <thead>\n",
       "    <tr style=\"text-align: right;\">\n",
       "      <th></th>\n",
       "      <th>movie_id</th>\n",
       "      <th>title</th>\n",
       "      <th>genres</th>\n",
       "    </tr>\n",
       "  </thead>\n",
       "  <tbody>\n",
       "    <tr>\n",
       "      <th>0</th>\n",
       "      <td>1</td>\n",
       "      <td>Toy Story (1995)</td>\n",
       "      <td>Animation|Children's|Comedy</td>\n",
       "    </tr>\n",
       "    <tr>\n",
       "      <th>1</th>\n",
       "      <td>2</td>\n",
       "      <td>Jumanji (1995)</td>\n",
       "      <td>Adventure|Children's|Fantasy</td>\n",
       "    </tr>\n",
       "    <tr>\n",
       "      <th>2</th>\n",
       "      <td>3</td>\n",
       "      <td>Grumpier Old Men (1995)</td>\n",
       "      <td>Comedy|Romance</td>\n",
       "    </tr>\n",
       "    <tr>\n",
       "      <th>3</th>\n",
       "      <td>4</td>\n",
       "      <td>Waiting to Exhale (1995)</td>\n",
       "      <td>Comedy|Drama</td>\n",
       "    </tr>\n",
       "    <tr>\n",
       "      <th>4</th>\n",
       "      <td>5</td>\n",
       "      <td>Father of the Bride Part II (1995)</td>\n",
       "      <td>Comedy</td>\n",
       "    </tr>\n",
       "  </tbody>\n",
       "</table>\n",
       "</div>"
      ],
      "text/plain": [
       "   movie_id                               title                        genres\n",
       "0         1                    Toy Story (1995)   Animation|Children's|Comedy\n",
       "1         2                      Jumanji (1995)  Adventure|Children's|Fantasy\n",
       "2         3             Grumpier Old Men (1995)                Comedy|Romance\n",
       "3         4            Waiting to Exhale (1995)                  Comedy|Drama\n",
       "4         5  Father of the Bride Part II (1995)                        Comedy"
      ]
     },
     "execution_count": 9,
     "metadata": {},
     "output_type": "execute_result"
    }
   ],
   "source": [
    "movies[:5]"
   ]
  },
  {
   "cell_type": "code",
   "execution_count": 10,
   "metadata": {
    "colab": {
     "base_uri": "https://localhost:8080/",
     "height": 206
    },
    "id": "vEXHJDc17_Hh",
    "jupyter": {
     "outputs_hidden": false
    },
    "outputId": "d687d49e-df07-4ad9-c2ec-8ac4b87e1c0d"
   },
   "outputs": [
    {
     "data": {
      "text/html": [
       "<div>\n",
       "<style scoped>\n",
       "    .dataframe tbody tr th:only-of-type {\n",
       "        vertical-align: middle;\n",
       "    }\n",
       "\n",
       "    .dataframe tbody tr th {\n",
       "        vertical-align: top;\n",
       "    }\n",
       "\n",
       "    .dataframe thead th {\n",
       "        text-align: right;\n",
       "    }\n",
       "</style>\n",
       "<table border=\"1\" class=\"dataframe\">\n",
       "  <thead>\n",
       "    <tr style=\"text-align: right;\">\n",
       "      <th></th>\n",
       "      <th>user_id</th>\n",
       "      <th>movie_id</th>\n",
       "      <th>rating</th>\n",
       "      <th>timestamp</th>\n",
       "    </tr>\n",
       "  </thead>\n",
       "  <tbody>\n",
       "    <tr>\n",
       "      <th>0</th>\n",
       "      <td>1</td>\n",
       "      <td>1193</td>\n",
       "      <td>5</td>\n",
       "      <td>978300760</td>\n",
       "    </tr>\n",
       "    <tr>\n",
       "      <th>1</th>\n",
       "      <td>1</td>\n",
       "      <td>661</td>\n",
       "      <td>3</td>\n",
       "      <td>978302109</td>\n",
       "    </tr>\n",
       "    <tr>\n",
       "      <th>2</th>\n",
       "      <td>1</td>\n",
       "      <td>914</td>\n",
       "      <td>3</td>\n",
       "      <td>978301968</td>\n",
       "    </tr>\n",
       "    <tr>\n",
       "      <th>3</th>\n",
       "      <td>1</td>\n",
       "      <td>3408</td>\n",
       "      <td>4</td>\n",
       "      <td>978300275</td>\n",
       "    </tr>\n",
       "    <tr>\n",
       "      <th>4</th>\n",
       "      <td>1</td>\n",
       "      <td>2355</td>\n",
       "      <td>5</td>\n",
       "      <td>978824291</td>\n",
       "    </tr>\n",
       "  </tbody>\n",
       "</table>\n",
       "</div>"
      ],
      "text/plain": [
       "   user_id  movie_id  rating  timestamp\n",
       "0        1      1193       5  978300760\n",
       "1        1       661       3  978302109\n",
       "2        1       914       3  978301968\n",
       "3        1      3408       4  978300275\n",
       "4        1      2355       5  978824291"
      ]
     },
     "execution_count": 10,
     "metadata": {},
     "output_type": "execute_result"
    }
   ],
   "source": [
    "ratings[:5]"
   ]
  },
  {
   "cell_type": "markdown",
   "metadata": {
    "id": "gni6mASQ7_Hh"
   },
   "source": [
    "### 2.3 **Exemple:** Com extreure informació d'un DataFrame."
   ]
  },
  {
   "cell_type": "markdown",
   "metadata": {
    "id": "eb_fcvVc7_Hh"
   },
   "source": [
    "Suposa que volem calcular les **puntuacions mitjanes d'una pel·licula per sexe o edat**, dades que estan a frames diferents.\n",
    "\n",
    "El primer pas a obtenir una única estructura que contingui tota la informació. Per fer-ho podem usar la funció ``merge`` de pandas. Aquesta funció infereix automàticament quines columnes ha d'usar per fer el ``merge`` basant-se en els noms que fan intersecció.\n",
    "\n",
    "Reviseu aquests conceptes de pandas: https://pandas.pydata.org/docs/user_guide/merging.html"
   ]
  },
  {
   "cell_type": "code",
   "execution_count": 11,
   "metadata": {
    "colab": {
     "base_uri": "https://localhost:8080/",
     "height": 424
    },
    "id": "ZgrFQBF67_Hh",
    "jupyter": {
     "outputs_hidden": false
    },
    "outputId": "489c28d5-bc48-4fe3-b90f-62d7e8ae6976"
   },
   "outputs": [
    {
     "data": {
      "text/html": [
       "<div>\n",
       "<style scoped>\n",
       "    .dataframe tbody tr th:only-of-type {\n",
       "        vertical-align: middle;\n",
       "    }\n",
       "\n",
       "    .dataframe tbody tr th {\n",
       "        vertical-align: top;\n",
       "    }\n",
       "\n",
       "    .dataframe thead th {\n",
       "        text-align: right;\n",
       "    }\n",
       "</style>\n",
       "<table border=\"1\" class=\"dataframe\">\n",
       "  <thead>\n",
       "    <tr style=\"text-align: right;\">\n",
       "      <th></th>\n",
       "      <th>user_id</th>\n",
       "      <th>movie_id</th>\n",
       "      <th>rating</th>\n",
       "      <th>timestamp</th>\n",
       "      <th>gender</th>\n",
       "      <th>age</th>\n",
       "      <th>occupation</th>\n",
       "      <th>zip</th>\n",
       "      <th>title</th>\n",
       "      <th>genres</th>\n",
       "    </tr>\n",
       "  </thead>\n",
       "  <tbody>\n",
       "    <tr>\n",
       "      <th>0</th>\n",
       "      <td>1</td>\n",
       "      <td>1193</td>\n",
       "      <td>5</td>\n",
       "      <td>978300760</td>\n",
       "      <td>F</td>\n",
       "      <td>1</td>\n",
       "      <td>10</td>\n",
       "      <td>48067</td>\n",
       "      <td>One Flew Over the Cuckoo's Nest (1975)</td>\n",
       "      <td>Drama</td>\n",
       "    </tr>\n",
       "    <tr>\n",
       "      <th>28501</th>\n",
       "      <td>1</td>\n",
       "      <td>48</td>\n",
       "      <td>5</td>\n",
       "      <td>978824351</td>\n",
       "      <td>F</td>\n",
       "      <td>1</td>\n",
       "      <td>10</td>\n",
       "      <td>48067</td>\n",
       "      <td>Pocahontas (1995)</td>\n",
       "      <td>Animation|Children's|Musical|Romance</td>\n",
       "    </tr>\n",
       "    <tr>\n",
       "      <th>13819</th>\n",
       "      <td>1</td>\n",
       "      <td>938</td>\n",
       "      <td>4</td>\n",
       "      <td>978301752</td>\n",
       "      <td>F</td>\n",
       "      <td>1</td>\n",
       "      <td>10</td>\n",
       "      <td>48067</td>\n",
       "      <td>Gigi (1958)</td>\n",
       "      <td>Musical</td>\n",
       "    </tr>\n",
       "    <tr>\n",
       "      <th>51327</th>\n",
       "      <td>1</td>\n",
       "      <td>1207</td>\n",
       "      <td>4</td>\n",
       "      <td>978300719</td>\n",
       "      <td>F</td>\n",
       "      <td>1</td>\n",
       "      <td>10</td>\n",
       "      <td>48067</td>\n",
       "      <td>To Kill a Mockingbird (1962)</td>\n",
       "      <td>Drama</td>\n",
       "    </tr>\n",
       "    <tr>\n",
       "      <th>31152</th>\n",
       "      <td>1</td>\n",
       "      <td>1721</td>\n",
       "      <td>4</td>\n",
       "      <td>978300055</td>\n",
       "      <td>F</td>\n",
       "      <td>1</td>\n",
       "      <td>10</td>\n",
       "      <td>48067</td>\n",
       "      <td>Titanic (1997)</td>\n",
       "      <td>Drama|Romance</td>\n",
       "    </tr>\n",
       "    <tr>\n",
       "      <th>37916</th>\n",
       "      <td>1</td>\n",
       "      <td>2762</td>\n",
       "      <td>4</td>\n",
       "      <td>978302091</td>\n",
       "      <td>F</td>\n",
       "      <td>1</td>\n",
       "      <td>10</td>\n",
       "      <td>48067</td>\n",
       "      <td>Sixth Sense, The (1999)</td>\n",
       "      <td>Thriller</td>\n",
       "    </tr>\n",
       "    <tr>\n",
       "      <th>18472</th>\n",
       "      <td>1</td>\n",
       "      <td>2687</td>\n",
       "      <td>3</td>\n",
       "      <td>978824268</td>\n",
       "      <td>F</td>\n",
       "      <td>1</td>\n",
       "      <td>10</td>\n",
       "      <td>48067</td>\n",
       "      <td>Tarzan (1999)</td>\n",
       "      <td>Animation|Children's</td>\n",
       "    </tr>\n",
       "    <tr>\n",
       "      <th>45685</th>\n",
       "      <td>1</td>\n",
       "      <td>2692</td>\n",
       "      <td>4</td>\n",
       "      <td>978301570</td>\n",
       "      <td>F</td>\n",
       "      <td>1</td>\n",
       "      <td>10</td>\n",
       "      <td>48067</td>\n",
       "      <td>Run Lola Run (Lola rennt) (1998)</td>\n",
       "      <td>Action|Crime|Romance</td>\n",
       "    </tr>\n",
       "    <tr>\n",
       "      <th>22832</th>\n",
       "      <td>1</td>\n",
       "      <td>720</td>\n",
       "      <td>3</td>\n",
       "      <td>978300760</td>\n",
       "      <td>F</td>\n",
       "      <td>1</td>\n",
       "      <td>10</td>\n",
       "      <td>48067</td>\n",
       "      <td>Wallace &amp; Gromit: The Best of Aardman Animatio...</td>\n",
       "      <td>Animation</td>\n",
       "    </tr>\n",
       "    <tr>\n",
       "      <th>32771</th>\n",
       "      <td>1</td>\n",
       "      <td>745</td>\n",
       "      <td>3</td>\n",
       "      <td>978824268</td>\n",
       "      <td>F</td>\n",
       "      <td>1</td>\n",
       "      <td>10</td>\n",
       "      <td>48067</td>\n",
       "      <td>Close Shave, A (1995)</td>\n",
       "      <td>Animation|Comedy|Thriller</td>\n",
       "    </tr>\n",
       "  </tbody>\n",
       "</table>\n",
       "</div>"
      ],
      "text/plain": [
       "       user_id  movie_id  rating  timestamp gender  age  occupation    zip  \\\n",
       "0            1      1193       5  978300760      F    1          10  48067   \n",
       "28501        1        48       5  978824351      F    1          10  48067   \n",
       "13819        1       938       4  978301752      F    1          10  48067   \n",
       "51327        1      1207       4  978300719      F    1          10  48067   \n",
       "31152        1      1721       4  978300055      F    1          10  48067   \n",
       "37916        1      2762       4  978302091      F    1          10  48067   \n",
       "18472        1      2687       3  978824268      F    1          10  48067   \n",
       "45685        1      2692       4  978301570      F    1          10  48067   \n",
       "22832        1       720       3  978300760      F    1          10  48067   \n",
       "32771        1       745       3  978824268      F    1          10  48067   \n",
       "\n",
       "                                                   title  \\\n",
       "0                 One Flew Over the Cuckoo's Nest (1975)   \n",
       "28501                                  Pocahontas (1995)   \n",
       "13819                                        Gigi (1958)   \n",
       "51327                       To Kill a Mockingbird (1962)   \n",
       "31152                                     Titanic (1997)   \n",
       "37916                            Sixth Sense, The (1999)   \n",
       "18472                                      Tarzan (1999)   \n",
       "45685                   Run Lola Run (Lola rennt) (1998)   \n",
       "22832  Wallace & Gromit: The Best of Aardman Animatio...   \n",
       "32771                              Close Shave, A (1995)   \n",
       "\n",
       "                                     genres  \n",
       "0                                     Drama  \n",
       "28501  Animation|Children's|Musical|Romance  \n",
       "13819                               Musical  \n",
       "51327                                 Drama  \n",
       "31152                         Drama|Romance  \n",
       "37916                              Thriller  \n",
       "18472                  Animation|Children's  \n",
       "45685                  Action|Crime|Romance  \n",
       "22832                             Animation  \n",
       "32771             Animation|Comedy|Thriller  "
      ]
     },
     "execution_count": 11,
     "metadata": {},
     "output_type": "execute_result"
    }
   ],
   "source": [
    "data = pd.merge(pd.merge(ratings, users), movies)\n",
    "\n",
    "# Visualitzem la taula ordenada per identificar d'usuari\n",
    "data.sort_values(by='user_id')[:10]"
   ]
  },
  {
   "cell_type": "markdown",
   "metadata": {
    "id": "_ZUmLfmb7_Hh"
   },
   "source": [
    "La funció ``iloc`` ens permet obtenir un subconjunt de files i/o columnes indexades per un enter:"
   ]
  },
  {
   "cell_type": "code",
   "execution_count": 12,
   "metadata": {
    "colab": {
     "base_uri": "https://localhost:8080/",
     "height": 112
    },
    "id": "KD1bJDTl7_Hi",
    "jupyter": {
     "outputs_hidden": false
    },
    "outputId": "fd968406-056b-4379-b392-260a59625734"
   },
   "outputs": [
    {
     "data": {
      "text/html": [
       "<div>\n",
       "<style scoped>\n",
       "    .dataframe tbody tr th:only-of-type {\n",
       "        vertical-align: middle;\n",
       "    }\n",
       "\n",
       "    .dataframe tbody tr th {\n",
       "        vertical-align: top;\n",
       "    }\n",
       "\n",
       "    .dataframe thead th {\n",
       "        text-align: right;\n",
       "    }\n",
       "</style>\n",
       "<table border=\"1\" class=\"dataframe\">\n",
       "  <thead>\n",
       "    <tr style=\"text-align: right;\">\n",
       "      <th></th>\n",
       "      <th>user_id</th>\n",
       "      <th>movie_id</th>\n",
       "      <th>rating</th>\n",
       "      <th>timestamp</th>\n",
       "      <th>gender</th>\n",
       "      <th>age</th>\n",
       "      <th>occupation</th>\n",
       "      <th>zip</th>\n",
       "      <th>title</th>\n",
       "      <th>genres</th>\n",
       "    </tr>\n",
       "  </thead>\n",
       "  <tbody>\n",
       "    <tr>\n",
       "      <th>3</th>\n",
       "      <td>15</td>\n",
       "      <td>1193</td>\n",
       "      <td>4</td>\n",
       "      <td>978199279</td>\n",
       "      <td>M</td>\n",
       "      <td>25</td>\n",
       "      <td>7</td>\n",
       "      <td>22903</td>\n",
       "      <td>One Flew Over the Cuckoo's Nest (1975)</td>\n",
       "      <td>Drama</td>\n",
       "    </tr>\n",
       "    <tr>\n",
       "      <th>4</th>\n",
       "      <td>17</td>\n",
       "      <td>1193</td>\n",
       "      <td>5</td>\n",
       "      <td>978158471</td>\n",
       "      <td>M</td>\n",
       "      <td>50</td>\n",
       "      <td>1</td>\n",
       "      <td>95350</td>\n",
       "      <td>One Flew Over the Cuckoo's Nest (1975)</td>\n",
       "      <td>Drama</td>\n",
       "    </tr>\n",
       "  </tbody>\n",
       "</table>\n",
       "</div>"
      ],
      "text/plain": [
       "   user_id  movie_id  rating  timestamp gender  age  occupation    zip  \\\n",
       "3       15      1193       4  978199279      M   25           7  22903   \n",
       "4       17      1193       5  978158471      M   50           1  95350   \n",
       "\n",
       "                                    title genres  \n",
       "3  One Flew Over the Cuckoo's Nest (1975)  Drama  \n",
       "4  One Flew Over the Cuckoo's Nest (1975)  Drama  "
      ]
     },
     "execution_count": 12,
     "metadata": {},
     "output_type": "execute_result"
    }
   ],
   "source": [
    "data.iloc[3:5]"
   ]
  },
  {
   "cell_type": "markdown",
   "metadata": {
    "id": "zAUedYqE7_Hi"
   },
   "source": [
    "Els índexs Booleans ens permeten seleccionar una part de la taula que compleix una condició."
   ]
  },
  {
   "cell_type": "code",
   "execution_count": 13,
   "metadata": {
    "colab": {
     "base_uri": "https://localhost:8080/"
    },
    "id": "QY4xV2xo7_Hi",
    "jupyter": {
     "outputs_hidden": false
    },
    "outputId": "4feb10e7-4644-43e1-bed2-4e662f5bab5b"
   },
   "outputs": [
    {
     "name": "stdout",
     "output_type": "stream",
     "text": [
      "24.638850480249626 %\n"
     ]
    }
   ],
   "source": [
    "# comptem quin tant per cent de ratings estan fets per una dona\n",
    "\n",
    "print(data[data['gender']=='F']['rating'].count()/float(data['rating'].count())*100, '%')"
   ]
  },
  {
   "cell_type": "markdown",
   "metadata": {
    "id": "C1F4nsNa7_Hi"
   },
   "source": [
    "Per obtenir les **puntuacions mitjanes de cada pel·licula agrupada per edat** podem usar el mètode ``pivot_table`` que és una forma de \"canviar\" la forma de la taula especificant quin valor agregat (mitjançant una funció predefinida) hi volem en funció dels valors de dues columnes.\n",
    "\n",
    "Reviseu aquests conceptes: \n",
    "+ https://pandas.pydata.org/docs/reference/api/pandas.DataFrame.pivot.html\n",
    "+ https://pandas.pydata.org/docs/reference/api/pandas.DataFrame.pivot_table.html#pandas.DataFrame.pivot_table"
   ]
  },
  {
   "cell_type": "code",
   "execution_count": 14,
   "metadata": {
    "colab": {
     "base_uri": "https://localhost:8080/",
     "height": 394
    },
    "id": "0ggg8fUI7_Hi",
    "jupyter": {
     "outputs_hidden": false
    },
    "outputId": "001f655c-45d9-4bc8-d088-d5fbeb13e445"
   },
   "outputs": [
    {
     "data": {
      "text/html": [
       "<div>\n",
       "<style scoped>\n",
       "    .dataframe tbody tr th:only-of-type {\n",
       "        vertical-align: middle;\n",
       "    }\n",
       "\n",
       "    .dataframe tbody tr th {\n",
       "        vertical-align: top;\n",
       "    }\n",
       "\n",
       "    .dataframe thead th {\n",
       "        text-align: right;\n",
       "    }\n",
       "</style>\n",
       "<table border=\"1\" class=\"dataframe\">\n",
       "  <thead>\n",
       "    <tr style=\"text-align: right;\">\n",
       "      <th>age</th>\n",
       "      <th>1</th>\n",
       "      <th>18</th>\n",
       "      <th>25</th>\n",
       "      <th>35</th>\n",
       "      <th>45</th>\n",
       "      <th>50</th>\n",
       "      <th>56</th>\n",
       "    </tr>\n",
       "    <tr>\n",
       "      <th>title</th>\n",
       "      <th></th>\n",
       "      <th></th>\n",
       "      <th></th>\n",
       "      <th></th>\n",
       "      <th></th>\n",
       "      <th></th>\n",
       "      <th></th>\n",
       "    </tr>\n",
       "  </thead>\n",
       "  <tbody>\n",
       "    <tr>\n",
       "      <th>$1,000,000 Duck (1971)</th>\n",
       "      <td>NaN</td>\n",
       "      <td>3.000000</td>\n",
       "      <td>3.090909</td>\n",
       "      <td>3.133333</td>\n",
       "      <td>2.000000</td>\n",
       "      <td>2.750000</td>\n",
       "      <td>NaN</td>\n",
       "    </tr>\n",
       "    <tr>\n",
       "      <th>'Night Mother (1986)</th>\n",
       "      <td>2.000000</td>\n",
       "      <td>4.666667</td>\n",
       "      <td>3.423077</td>\n",
       "      <td>2.904762</td>\n",
       "      <td>3.833333</td>\n",
       "      <td>3.555556</td>\n",
       "      <td>4.333333</td>\n",
       "    </tr>\n",
       "    <tr>\n",
       "      <th>'Til There Was You (1997)</th>\n",
       "      <td>3.500000</td>\n",
       "      <td>2.500000</td>\n",
       "      <td>2.666667</td>\n",
       "      <td>2.900000</td>\n",
       "      <td>2.333333</td>\n",
       "      <td>2.500000</td>\n",
       "      <td>2.666667</td>\n",
       "    </tr>\n",
       "    <tr>\n",
       "      <th>'burbs, The (1989)</th>\n",
       "      <td>4.500000</td>\n",
       "      <td>3.244444</td>\n",
       "      <td>2.652174</td>\n",
       "      <td>2.818182</td>\n",
       "      <td>2.545455</td>\n",
       "      <td>3.208333</td>\n",
       "      <td>2.666667</td>\n",
       "    </tr>\n",
       "    <tr>\n",
       "      <th>...And Justice for All (1979)</th>\n",
       "      <td>3.000000</td>\n",
       "      <td>3.428571</td>\n",
       "      <td>3.724138</td>\n",
       "      <td>3.657143</td>\n",
       "      <td>4.100000</td>\n",
       "      <td>3.551724</td>\n",
       "      <td>3.928571</td>\n",
       "    </tr>\n",
       "    <tr>\n",
       "      <th>1-900 (1994)</th>\n",
       "      <td>NaN</td>\n",
       "      <td>NaN</td>\n",
       "      <td>2.000000</td>\n",
       "      <td>NaN</td>\n",
       "      <td>NaN</td>\n",
       "      <td>NaN</td>\n",
       "      <td>3.000000</td>\n",
       "    </tr>\n",
       "    <tr>\n",
       "      <th>10 Things I Hate About You (1999)</th>\n",
       "      <td>3.745455</td>\n",
       "      <td>3.415020</td>\n",
       "      <td>3.432950</td>\n",
       "      <td>3.102941</td>\n",
       "      <td>3.258065</td>\n",
       "      <td>3.629630</td>\n",
       "      <td>4.000000</td>\n",
       "    </tr>\n",
       "    <tr>\n",
       "      <th>101 Dalmatians (1961)</th>\n",
       "      <td>3.514286</td>\n",
       "      <td>3.295082</td>\n",
       "      <td>3.613757</td>\n",
       "      <td>3.826087</td>\n",
       "      <td>3.976744</td>\n",
       "      <td>3.650000</td>\n",
       "      <td>3.190476</td>\n",
       "    </tr>\n",
       "    <tr>\n",
       "      <th>101 Dalmatians (1996)</th>\n",
       "      <td>3.088235</td>\n",
       "      <td>2.467742</td>\n",
       "      <td>2.928571</td>\n",
       "      <td>3.279570</td>\n",
       "      <td>3.482759</td>\n",
       "      <td>3.400000</td>\n",
       "      <td>3.555556</td>\n",
       "    </tr>\n",
       "    <tr>\n",
       "      <th>12 Angry Men (1957)</th>\n",
       "      <td>4.176471</td>\n",
       "      <td>4.032609</td>\n",
       "      <td>4.408654</td>\n",
       "      <td>4.358333</td>\n",
       "      <td>4.274194</td>\n",
       "      <td>4.287879</td>\n",
       "      <td>4.235294</td>\n",
       "    </tr>\n",
       "  </tbody>\n",
       "</table>\n",
       "</div>"
      ],
      "text/plain": [
       "age                                      1         18        25        35  \\\n",
       "title                                                                       \n",
       "$1,000,000 Duck (1971)                  NaN  3.000000  3.090909  3.133333   \n",
       "'Night Mother (1986)               2.000000  4.666667  3.423077  2.904762   \n",
       "'Til There Was You (1997)          3.500000  2.500000  2.666667  2.900000   \n",
       "'burbs, The (1989)                 4.500000  3.244444  2.652174  2.818182   \n",
       "...And Justice for All (1979)      3.000000  3.428571  3.724138  3.657143   \n",
       "1-900 (1994)                            NaN       NaN  2.000000       NaN   \n",
       "10 Things I Hate About You (1999)  3.745455  3.415020  3.432950  3.102941   \n",
       "101 Dalmatians (1961)              3.514286  3.295082  3.613757  3.826087   \n",
       "101 Dalmatians (1996)              3.088235  2.467742  2.928571  3.279570   \n",
       "12 Angry Men (1957)                4.176471  4.032609  4.408654  4.358333   \n",
       "\n",
       "age                                      45        50        56  \n",
       "title                                                            \n",
       "$1,000,000 Duck (1971)             2.000000  2.750000       NaN  \n",
       "'Night Mother (1986)               3.833333  3.555556  4.333333  \n",
       "'Til There Was You (1997)          2.333333  2.500000  2.666667  \n",
       "'burbs, The (1989)                 2.545455  3.208333  2.666667  \n",
       "...And Justice for All (1979)      4.100000  3.551724  3.928571  \n",
       "1-900 (1994)                            NaN       NaN  3.000000  \n",
       "10 Things I Hate About You (1999)  3.258065  3.629630  4.000000  \n",
       "101 Dalmatians (1961)              3.976744  3.650000  3.190476  \n",
       "101 Dalmatians (1996)              3.482759  3.400000  3.555556  \n",
       "12 Angry Men (1957)                4.274194  4.287879  4.235294  "
      ]
     },
     "execution_count": 14,
     "metadata": {},
     "output_type": "execute_result"
    }
   ],
   "source": [
    "mean_ratings = data.pivot_table(values= 'rating', index='title', columns='age', aggfunc='mean')\n",
    "mean_ratings[:10]"
   ]
  },
  {
   "cell_type": "markdown",
   "metadata": {
    "id": "zULR8Fzw7_Hj"
   },
   "source": [
    "Per obtenir les **puntuacions mitjanes de cada pel·licula agrupada per sexe**:"
   ]
  },
  {
   "cell_type": "code",
   "execution_count": 15,
   "metadata": {
    "colab": {
     "base_uri": "https://localhost:8080/",
     "height": 394
    },
    "id": "WZw7KdtW7_Hj",
    "jupyter": {
     "outputs_hidden": false
    },
    "outputId": "3f937288-cf9a-4e77-8cb4-f34d44f90dd2"
   },
   "outputs": [
    {
     "data": {
      "text/html": [
       "<div>\n",
       "<style scoped>\n",
       "    .dataframe tbody tr th:only-of-type {\n",
       "        vertical-align: middle;\n",
       "    }\n",
       "\n",
       "    .dataframe tbody tr th {\n",
       "        vertical-align: top;\n",
       "    }\n",
       "\n",
       "    .dataframe thead th {\n",
       "        text-align: right;\n",
       "    }\n",
       "</style>\n",
       "<table border=\"1\" class=\"dataframe\">\n",
       "  <thead>\n",
       "    <tr style=\"text-align: right;\">\n",
       "      <th>gender</th>\n",
       "      <th>F</th>\n",
       "      <th>M</th>\n",
       "    </tr>\n",
       "    <tr>\n",
       "      <th>title</th>\n",
       "      <th></th>\n",
       "      <th></th>\n",
       "    </tr>\n",
       "  </thead>\n",
       "  <tbody>\n",
       "    <tr>\n",
       "      <th>$1,000,000 Duck (1971)</th>\n",
       "      <td>3.375000</td>\n",
       "      <td>2.761905</td>\n",
       "    </tr>\n",
       "    <tr>\n",
       "      <th>'Night Mother (1986)</th>\n",
       "      <td>3.388889</td>\n",
       "      <td>3.352941</td>\n",
       "    </tr>\n",
       "    <tr>\n",
       "      <th>'Til There Was You (1997)</th>\n",
       "      <td>2.675676</td>\n",
       "      <td>2.733333</td>\n",
       "    </tr>\n",
       "    <tr>\n",
       "      <th>'burbs, The (1989)</th>\n",
       "      <td>2.793478</td>\n",
       "      <td>2.962085</td>\n",
       "    </tr>\n",
       "    <tr>\n",
       "      <th>...And Justice for All (1979)</th>\n",
       "      <td>3.828571</td>\n",
       "      <td>3.689024</td>\n",
       "    </tr>\n",
       "    <tr>\n",
       "      <th>1-900 (1994)</th>\n",
       "      <td>2.000000</td>\n",
       "      <td>3.000000</td>\n",
       "    </tr>\n",
       "    <tr>\n",
       "      <th>10 Things I Hate About You (1999)</th>\n",
       "      <td>3.646552</td>\n",
       "      <td>3.311966</td>\n",
       "    </tr>\n",
       "    <tr>\n",
       "      <th>101 Dalmatians (1961)</th>\n",
       "      <td>3.791444</td>\n",
       "      <td>3.500000</td>\n",
       "    </tr>\n",
       "    <tr>\n",
       "      <th>101 Dalmatians (1996)</th>\n",
       "      <td>3.240000</td>\n",
       "      <td>2.911215</td>\n",
       "    </tr>\n",
       "    <tr>\n",
       "      <th>12 Angry Men (1957)</th>\n",
       "      <td>4.184397</td>\n",
       "      <td>4.328421</td>\n",
       "    </tr>\n",
       "  </tbody>\n",
       "</table>\n",
       "</div>"
      ],
      "text/plain": [
       "gender                                    F         M\n",
       "title                                                \n",
       "$1,000,000 Duck (1971)             3.375000  2.761905\n",
       "'Night Mother (1986)               3.388889  3.352941\n",
       "'Til There Was You (1997)          2.675676  2.733333\n",
       "'burbs, The (1989)                 2.793478  2.962085\n",
       "...And Justice for All (1979)      3.828571  3.689024\n",
       "1-900 (1994)                       2.000000  3.000000\n",
       "10 Things I Hate About You (1999)  3.646552  3.311966\n",
       "101 Dalmatians (1961)              3.791444  3.500000\n",
       "101 Dalmatians (1996)              3.240000  2.911215\n",
       "12 Angry Men (1957)                4.184397  4.328421"
      ]
     },
     "execution_count": 15,
     "metadata": {},
     "output_type": "execute_result"
    }
   ],
   "source": [
    "mean_ratings = data.pivot_table('rating', index='title',columns='gender', aggfunc='mean')\n",
    "mean_ratings[:10]"
   ]
  },
  {
   "cell_type": "markdown",
   "metadata": {
    "id": "TpQNQ7la7_Hj"
   },
   "source": [
    "Si volgéssim fer càlculs només sobre les pel·licules que han rebut **al menys** 250 puntuacions, primer hem de construir una taula amb el nombre d'avaluacions de cada títol. Per fer-ho, agruparem les dades per títol (amb el mètode ``groupby``) i usarem ``size()`` el nombre.\n",
    "\n",
    "Reviseu aquest concepte: \n",
    "\n",
    "https://pandas.pydata.org/pandas-docs/stable/reference/api/pandas.DataFrame.groupby.html\n",
    "\n",
    "El mètode ``groupby`` implenta un o més d'aquests processos:\n",
    "\n",
    "+ Dividir les dades segons algun criteri.\n",
    "+ Aplicar una funció a cada grup.\n",
    "+ Combinar els resultats en una estructura de dades."
   ]
  },
  {
   "cell_type": "code",
   "execution_count": 16,
   "metadata": {
    "colab": {
     "base_uri": "https://localhost:8080/"
    },
    "id": "tJ_W5m7L7_Hj",
    "jupyter": {
     "outputs_hidden": false
    },
    "outputId": "d0d950b6-ae50-4639-f012-6daab517d4dd"
   },
   "outputs": [
    {
     "name": "stdout",
     "output_type": "stream",
     "text": [
      "title\n",
      "$1,000,000 Duck (1971)                         37\n",
      "'Night Mother (1986)                           70\n",
      "'Til There Was You (1997)                      52\n",
      "'burbs, The (1989)                            303\n",
      "...And Justice for All (1979)                 199\n",
      "                                             ... \n",
      "Zed & Two Noughts, A (1985)                    29\n",
      "Zero Effect (1998)                            301\n",
      "Zero Kelvin (Kjærlighetens kjøtere) (1995)      2\n",
      "Zeus and Roxanne (1997)                        23\n",
      "eXistenZ (1999)                               410\n",
      "Length: 3706, dtype: int64\n"
     ]
    }
   ],
   "source": [
    "ratings_by_title = data.groupby('title').size()\n",
    "print(ratings_by_title)"
   ]
  },
  {
   "cell_type": "markdown",
   "metadata": {
    "id": "AQDqWCDu7_Hj"
   },
   "source": [
    "Llavors podem crear un índex amb els títols amb més de 250 avaluacions."
   ]
  },
  {
   "cell_type": "code",
   "execution_count": 17,
   "metadata": {
    "id": "tTqJNSSn7_Hk",
    "jupyter": {
     "outputs_hidden": false
    }
   },
   "outputs": [
    {
     "data": {
      "text/plain": [
       "Index([''burbs, The (1989)', '10 Things I Hate About You (1999)',\n",
       "       '101 Dalmatians (1961)', '101 Dalmatians (1996)', '12 Angry Men (1957)',\n",
       "       '13th Warrior, The (1999)', '2 Days in the Valley (1996)',\n",
       "       '20,000 Leagues Under the Sea (1954)', '2001: A Space Odyssey (1968)',\n",
       "       '2010 (1984)',\n",
       "       ...\n",
       "       'X-Men (2000)', 'Year of Living Dangerously (1982)',\n",
       "       'Yellow Submarine (1968)', 'You've Got Mail (1998)',\n",
       "       'Young Frankenstein (1974)', 'Young Guns (1988)',\n",
       "       'Young Guns II (1990)', 'Young Sherlock Holmes (1985)',\n",
       "       'Zero Effect (1998)', 'eXistenZ (1999)'],\n",
       "      dtype='object', name='title', length=1216)"
      ]
     },
     "execution_count": 17,
     "metadata": {},
     "output_type": "execute_result"
    }
   ],
   "source": [
    "active_titles = ratings_by_title.index[ratings_by_title >= 250]\n",
    "active_titles"
   ]
  },
  {
   "cell_type": "markdown",
   "metadata": {
    "id": "rWtgNCQ67_Hk"
   },
   "source": [
    "L'índex de títols que reben al menys 250 puntuacions es pot fer servir per seleccionar les files de ``mean_ratings``: "
   ]
  },
  {
   "cell_type": "code",
   "execution_count": 18,
   "metadata": {
    "colab": {
     "base_uri": "https://localhost:8080/",
     "height": 455
    },
    "id": "ik9QypUc7_Hk",
    "jupyter": {
     "outputs_hidden": false
    },
    "outputId": "bb8a1f11-5de1-44f4-8bcc-701751f764d8"
   },
   "outputs": [
    {
     "data": {
      "text/html": [
       "<div>\n",
       "<style scoped>\n",
       "    .dataframe tbody tr th:only-of-type {\n",
       "        vertical-align: middle;\n",
       "    }\n",
       "\n",
       "    .dataframe tbody tr th {\n",
       "        vertical-align: top;\n",
       "    }\n",
       "\n",
       "    .dataframe thead th {\n",
       "        text-align: right;\n",
       "    }\n",
       "</style>\n",
       "<table border=\"1\" class=\"dataframe\">\n",
       "  <thead>\n",
       "    <tr style=\"text-align: right;\">\n",
       "      <th>gender</th>\n",
       "      <th>F</th>\n",
       "      <th>M</th>\n",
       "    </tr>\n",
       "    <tr>\n",
       "      <th>title</th>\n",
       "      <th></th>\n",
       "      <th></th>\n",
       "    </tr>\n",
       "  </thead>\n",
       "  <tbody>\n",
       "    <tr>\n",
       "      <th>'burbs, The (1989)</th>\n",
       "      <td>2.793478</td>\n",
       "      <td>2.962085</td>\n",
       "    </tr>\n",
       "    <tr>\n",
       "      <th>10 Things I Hate About You (1999)</th>\n",
       "      <td>3.646552</td>\n",
       "      <td>3.311966</td>\n",
       "    </tr>\n",
       "    <tr>\n",
       "      <th>101 Dalmatians (1961)</th>\n",
       "      <td>3.791444</td>\n",
       "      <td>3.500000</td>\n",
       "    </tr>\n",
       "    <tr>\n",
       "      <th>101 Dalmatians (1996)</th>\n",
       "      <td>3.240000</td>\n",
       "      <td>2.911215</td>\n",
       "    </tr>\n",
       "    <tr>\n",
       "      <th>12 Angry Men (1957)</th>\n",
       "      <td>4.184397</td>\n",
       "      <td>4.328421</td>\n",
       "    </tr>\n",
       "    <tr>\n",
       "      <th>...</th>\n",
       "      <td>...</td>\n",
       "      <td>...</td>\n",
       "    </tr>\n",
       "    <tr>\n",
       "      <th>Young Guns (1988)</th>\n",
       "      <td>3.371795</td>\n",
       "      <td>3.425620</td>\n",
       "    </tr>\n",
       "    <tr>\n",
       "      <th>Young Guns II (1990)</th>\n",
       "      <td>2.934783</td>\n",
       "      <td>2.904025</td>\n",
       "    </tr>\n",
       "    <tr>\n",
       "      <th>Young Sherlock Holmes (1985)</th>\n",
       "      <td>3.514706</td>\n",
       "      <td>3.363344</td>\n",
       "    </tr>\n",
       "    <tr>\n",
       "      <th>Zero Effect (1998)</th>\n",
       "      <td>3.864407</td>\n",
       "      <td>3.723140</td>\n",
       "    </tr>\n",
       "    <tr>\n",
       "      <th>eXistenZ (1999)</th>\n",
       "      <td>3.098592</td>\n",
       "      <td>3.289086</td>\n",
       "    </tr>\n",
       "  </tbody>\n",
       "</table>\n",
       "<p>1216 rows × 2 columns</p>\n",
       "</div>"
      ],
      "text/plain": [
       "gender                                    F         M\n",
       "title                                                \n",
       "'burbs, The (1989)                 2.793478  2.962085\n",
       "10 Things I Hate About You (1999)  3.646552  3.311966\n",
       "101 Dalmatians (1961)              3.791444  3.500000\n",
       "101 Dalmatians (1996)              3.240000  2.911215\n",
       "12 Angry Men (1957)                4.184397  4.328421\n",
       "...                                     ...       ...\n",
       "Young Guns (1988)                  3.371795  3.425620\n",
       "Young Guns II (1990)               2.934783  2.904025\n",
       "Young Sherlock Holmes (1985)       3.514706  3.363344\n",
       "Zero Effect (1998)                 3.864407  3.723140\n",
       "eXistenZ (1999)                    3.098592  3.289086\n",
       "\n",
       "[1216 rows x 2 columns]"
      ]
     },
     "execution_count": 18,
     "metadata": {},
     "output_type": "execute_result"
    }
   ],
   "source": [
    "mean_ratings = mean_ratings.loc[active_titles]\n",
    "mean_ratings"
   ]
  },
  {
   "cell_type": "markdown",
   "metadata": {
    "id": "zpqV3wms7_Hk"
   },
   "source": [
    "Per veure els films més valorats per les dones, podem ordenar per la columna F de forma descendent:"
   ]
  },
  {
   "cell_type": "code",
   "execution_count": 19,
   "metadata": {
    "colab": {
     "base_uri": "https://localhost:8080/",
     "height": 394
    },
    "id": "Kj7FwATG7_Hk",
    "jupyter": {
     "outputs_hidden": false
    },
    "outputId": "ef3ad940-af96-4d50-8d98-cc59637ff426"
   },
   "outputs": [
    {
     "data": {
      "text/html": [
       "<div>\n",
       "<style scoped>\n",
       "    .dataframe tbody tr th:only-of-type {\n",
       "        vertical-align: middle;\n",
       "    }\n",
       "\n",
       "    .dataframe tbody tr th {\n",
       "        vertical-align: top;\n",
       "    }\n",
       "\n",
       "    .dataframe thead th {\n",
       "        text-align: right;\n",
       "    }\n",
       "</style>\n",
       "<table border=\"1\" class=\"dataframe\">\n",
       "  <thead>\n",
       "    <tr style=\"text-align: right;\">\n",
       "      <th>gender</th>\n",
       "      <th>F</th>\n",
       "      <th>M</th>\n",
       "    </tr>\n",
       "    <tr>\n",
       "      <th>title</th>\n",
       "      <th></th>\n",
       "      <th></th>\n",
       "    </tr>\n",
       "  </thead>\n",
       "  <tbody>\n",
       "    <tr>\n",
       "      <th>Close Shave, A (1995)</th>\n",
       "      <td>4.644444</td>\n",
       "      <td>4.473795</td>\n",
       "    </tr>\n",
       "    <tr>\n",
       "      <th>Wrong Trousers, The (1993)</th>\n",
       "      <td>4.588235</td>\n",
       "      <td>4.478261</td>\n",
       "    </tr>\n",
       "    <tr>\n",
       "      <th>Sunset Blvd. (a.k.a. Sunset Boulevard) (1950)</th>\n",
       "      <td>4.572650</td>\n",
       "      <td>4.464589</td>\n",
       "    </tr>\n",
       "    <tr>\n",
       "      <th>Wallace &amp; Gromit: The Best of Aardman Animation (1996)</th>\n",
       "      <td>4.563107</td>\n",
       "      <td>4.385075</td>\n",
       "    </tr>\n",
       "    <tr>\n",
       "      <th>Schindler's List (1993)</th>\n",
       "      <td>4.562602</td>\n",
       "      <td>4.491415</td>\n",
       "    </tr>\n",
       "    <tr>\n",
       "      <th>Shawshank Redemption, The (1994)</th>\n",
       "      <td>4.539075</td>\n",
       "      <td>4.560625</td>\n",
       "    </tr>\n",
       "    <tr>\n",
       "      <th>Grand Day Out, A (1992)</th>\n",
       "      <td>4.537879</td>\n",
       "      <td>4.293255</td>\n",
       "    </tr>\n",
       "    <tr>\n",
       "      <th>To Kill a Mockingbird (1962)</th>\n",
       "      <td>4.536667</td>\n",
       "      <td>4.372611</td>\n",
       "    </tr>\n",
       "    <tr>\n",
       "      <th>Creature Comforts (1990)</th>\n",
       "      <td>4.513889</td>\n",
       "      <td>4.272277</td>\n",
       "    </tr>\n",
       "    <tr>\n",
       "      <th>Usual Suspects, The (1995)</th>\n",
       "      <td>4.513317</td>\n",
       "      <td>4.518248</td>\n",
       "    </tr>\n",
       "  </tbody>\n",
       "</table>\n",
       "</div>"
      ],
      "text/plain": [
       "gender                                                     F         M\n",
       "title                                                                 \n",
       "Close Shave, A (1995)                               4.644444  4.473795\n",
       "Wrong Trousers, The (1993)                          4.588235  4.478261\n",
       "Sunset Blvd. (a.k.a. Sunset Boulevard) (1950)       4.572650  4.464589\n",
       "Wallace & Gromit: The Best of Aardman Animation...  4.563107  4.385075\n",
       "Schindler's List (1993)                             4.562602  4.491415\n",
       "Shawshank Redemption, The (1994)                    4.539075  4.560625\n",
       "Grand Day Out, A (1992)                             4.537879  4.293255\n",
       "To Kill a Mockingbird (1962)                        4.536667  4.372611\n",
       "Creature Comforts (1990)                            4.513889  4.272277\n",
       "Usual Suspects, The (1995)                          4.513317  4.518248"
      ]
     },
     "execution_count": 19,
     "metadata": {},
     "output_type": "execute_result"
    }
   ],
   "source": [
    "top_female_ratings = mean_ratings.sort_values(by='F', ascending=False)\n",
    "top_female_ratings[:10]"
   ]
  },
  {
   "cell_type": "markdown",
   "metadata": {
    "id": "chZZgTE_7_Hk"
   },
   "source": [
    "Suposem ara que volem les pel·licules que estan valorades de forma més diferent entre homes i dones. Una forma d'obtenir-ho és afegir una columna a ``mean_ratings`` que contingui la diferència en mitjana i llavors ordenar:"
   ]
  },
  {
   "cell_type": "code",
   "execution_count": 20,
   "metadata": {
    "id": "YNK0fGWA7_Hl",
    "jupyter": {
     "outputs_hidden": false
    }
   },
   "outputs": [],
   "source": [
    "mean_ratings['diff'] = mean_ratings['M'] - mean_ratings['F']"
   ]
  },
  {
   "cell_type": "code",
   "execution_count": 21,
   "metadata": {},
   "outputs": [
    {
     "name": "stdout",
     "output_type": "stream",
     "text": [
      "nan\n"
     ]
    }
   ],
   "source": [
    "print(np.nan + 9.0) "
   ]
  },
  {
   "cell_type": "markdown",
   "metadata": {
    "id": "TCJu7wsU7_Hl"
   },
   "source": [
    "Ordenant per ``diff`` ens dóna les pel·licules ben valorades per les dones que presenten més diferència entre homes i dones:"
   ]
  },
  {
   "cell_type": "code",
   "execution_count": 22,
   "metadata": {
    "colab": {
     "base_uri": "https://localhost:8080/",
     "height": 551
    },
    "id": "Hh7BOQCm7_Hl",
    "jupyter": {
     "outputs_hidden": false
    },
    "outputId": "a84a6e79-ee5b-448a-fcb8-c181e357a1f7"
   },
   "outputs": [
    {
     "data": {
      "text/html": [
       "<div>\n",
       "<style scoped>\n",
       "    .dataframe tbody tr th:only-of-type {\n",
       "        vertical-align: middle;\n",
       "    }\n",
       "\n",
       "    .dataframe tbody tr th {\n",
       "        vertical-align: top;\n",
       "    }\n",
       "\n",
       "    .dataframe thead th {\n",
       "        text-align: right;\n",
       "    }\n",
       "</style>\n",
       "<table border=\"1\" class=\"dataframe\">\n",
       "  <thead>\n",
       "    <tr style=\"text-align: right;\">\n",
       "      <th>gender</th>\n",
       "      <th>F</th>\n",
       "      <th>M</th>\n",
       "      <th>diff</th>\n",
       "    </tr>\n",
       "    <tr>\n",
       "      <th>title</th>\n",
       "      <th></th>\n",
       "      <th></th>\n",
       "      <th></th>\n",
       "    </tr>\n",
       "  </thead>\n",
       "  <tbody>\n",
       "    <tr>\n",
       "      <th>Dirty Dancing (1987)</th>\n",
       "      <td>3.790378</td>\n",
       "      <td>2.959596</td>\n",
       "      <td>-0.830782</td>\n",
       "    </tr>\n",
       "    <tr>\n",
       "      <th>Jumpin' Jack Flash (1986)</th>\n",
       "      <td>3.254717</td>\n",
       "      <td>2.578358</td>\n",
       "      <td>-0.676359</td>\n",
       "    </tr>\n",
       "    <tr>\n",
       "      <th>Grease (1978)</th>\n",
       "      <td>3.975265</td>\n",
       "      <td>3.367041</td>\n",
       "      <td>-0.608224</td>\n",
       "    </tr>\n",
       "    <tr>\n",
       "      <th>Little Women (1994)</th>\n",
       "      <td>3.870588</td>\n",
       "      <td>3.321739</td>\n",
       "      <td>-0.548849</td>\n",
       "    </tr>\n",
       "    <tr>\n",
       "      <th>Steel Magnolias (1989)</th>\n",
       "      <td>3.901734</td>\n",
       "      <td>3.365957</td>\n",
       "      <td>-0.535777</td>\n",
       "    </tr>\n",
       "    <tr>\n",
       "      <th>Anastasia (1997)</th>\n",
       "      <td>3.800000</td>\n",
       "      <td>3.281609</td>\n",
       "      <td>-0.518391</td>\n",
       "    </tr>\n",
       "    <tr>\n",
       "      <th>Rocky Horror Picture Show, The (1975)</th>\n",
       "      <td>3.673016</td>\n",
       "      <td>3.160131</td>\n",
       "      <td>-0.512885</td>\n",
       "    </tr>\n",
       "    <tr>\n",
       "      <th>Color Purple, The (1985)</th>\n",
       "      <td>4.158192</td>\n",
       "      <td>3.659341</td>\n",
       "      <td>-0.498851</td>\n",
       "    </tr>\n",
       "    <tr>\n",
       "      <th>Age of Innocence, The (1993)</th>\n",
       "      <td>3.827068</td>\n",
       "      <td>3.339506</td>\n",
       "      <td>-0.487561</td>\n",
       "    </tr>\n",
       "    <tr>\n",
       "      <th>Free Willy (1993)</th>\n",
       "      <td>2.921348</td>\n",
       "      <td>2.438776</td>\n",
       "      <td>-0.482573</td>\n",
       "    </tr>\n",
       "    <tr>\n",
       "      <th>French Kiss (1995)</th>\n",
       "      <td>3.535714</td>\n",
       "      <td>3.056962</td>\n",
       "      <td>-0.478752</td>\n",
       "    </tr>\n",
       "    <tr>\n",
       "      <th>Little Shop of Horrors, The (1960)</th>\n",
       "      <td>3.650000</td>\n",
       "      <td>3.179688</td>\n",
       "      <td>-0.470312</td>\n",
       "    </tr>\n",
       "    <tr>\n",
       "      <th>Guys and Dolls (1955)</th>\n",
       "      <td>4.051724</td>\n",
       "      <td>3.583333</td>\n",
       "      <td>-0.468391</td>\n",
       "    </tr>\n",
       "    <tr>\n",
       "      <th>Mary Poppins (1964)</th>\n",
       "      <td>4.197740</td>\n",
       "      <td>3.730594</td>\n",
       "      <td>-0.467147</td>\n",
       "    </tr>\n",
       "    <tr>\n",
       "      <th>Patch Adams (1998)</th>\n",
       "      <td>3.473282</td>\n",
       "      <td>3.008746</td>\n",
       "      <td>-0.464536</td>\n",
       "    </tr>\n",
       "  </tbody>\n",
       "</table>\n",
       "</div>"
      ],
      "text/plain": [
       "gender                                        F         M      diff\n",
       "title                                                              \n",
       "Dirty Dancing (1987)                   3.790378  2.959596 -0.830782\n",
       "Jumpin' Jack Flash (1986)              3.254717  2.578358 -0.676359\n",
       "Grease (1978)                          3.975265  3.367041 -0.608224\n",
       "Little Women (1994)                    3.870588  3.321739 -0.548849\n",
       "Steel Magnolias (1989)                 3.901734  3.365957 -0.535777\n",
       "Anastasia (1997)                       3.800000  3.281609 -0.518391\n",
       "Rocky Horror Picture Show, The (1975)  3.673016  3.160131 -0.512885\n",
       "Color Purple, The (1985)               4.158192  3.659341 -0.498851\n",
       "Age of Innocence, The (1993)           3.827068  3.339506 -0.487561\n",
       "Free Willy (1993)                      2.921348  2.438776 -0.482573\n",
       "French Kiss (1995)                     3.535714  3.056962 -0.478752\n",
       "Little Shop of Horrors, The (1960)     3.650000  3.179688 -0.470312\n",
       "Guys and Dolls (1955)                  4.051724  3.583333 -0.468391\n",
       "Mary Poppins (1964)                    4.197740  3.730594 -0.467147\n",
       "Patch Adams (1998)                     3.473282  3.008746 -0.464536"
      ]
     },
     "execution_count": 22,
     "metadata": {},
     "output_type": "execute_result"
    }
   ],
   "source": [
    "sorted_by_diff = mean_ratings.sort_values(by='diff')\n",
    "sorted_by_diff[:15]"
   ]
  },
  {
   "cell_type": "markdown",
   "metadata": {
    "id": "hS-I2mZs7_Hl"
   },
   "source": [
    "Invertint l'ordre de les files i fent un ``slicing`` de les 15 files superiors obtenim les pel·licules ben valorades pels homes que no han agradat a les dones: "
   ]
  },
  {
   "cell_type": "code",
   "execution_count": 23,
   "metadata": {
    "colab": {
     "base_uri": "https://localhost:8080/",
     "height": 551
    },
    "id": "I3Xuc3OA7_Hl",
    "jupyter": {
     "outputs_hidden": false
    },
    "outputId": "94f7f810-d160-4ee6-fe09-5c8ba68bc213"
   },
   "outputs": [
    {
     "data": {
      "text/html": [
       "<div>\n",
       "<style scoped>\n",
       "    .dataframe tbody tr th:only-of-type {\n",
       "        vertical-align: middle;\n",
       "    }\n",
       "\n",
       "    .dataframe tbody tr th {\n",
       "        vertical-align: top;\n",
       "    }\n",
       "\n",
       "    .dataframe thead th {\n",
       "        text-align: right;\n",
       "    }\n",
       "</style>\n",
       "<table border=\"1\" class=\"dataframe\">\n",
       "  <thead>\n",
       "    <tr style=\"text-align: right;\">\n",
       "      <th>gender</th>\n",
       "      <th>F</th>\n",
       "      <th>M</th>\n",
       "      <th>diff</th>\n",
       "    </tr>\n",
       "    <tr>\n",
       "      <th>title</th>\n",
       "      <th></th>\n",
       "      <th></th>\n",
       "      <th></th>\n",
       "    </tr>\n",
       "  </thead>\n",
       "  <tbody>\n",
       "    <tr>\n",
       "      <th>Good, The Bad and The Ugly, The (1966)</th>\n",
       "      <td>3.494949</td>\n",
       "      <td>4.221300</td>\n",
       "      <td>0.726351</td>\n",
       "    </tr>\n",
       "    <tr>\n",
       "      <th>Kentucky Fried Movie, The (1977)</th>\n",
       "      <td>2.878788</td>\n",
       "      <td>3.555147</td>\n",
       "      <td>0.676359</td>\n",
       "    </tr>\n",
       "    <tr>\n",
       "      <th>Dumb &amp; Dumber (1994)</th>\n",
       "      <td>2.697987</td>\n",
       "      <td>3.336595</td>\n",
       "      <td>0.638608</td>\n",
       "    </tr>\n",
       "    <tr>\n",
       "      <th>Longest Day, The (1962)</th>\n",
       "      <td>3.411765</td>\n",
       "      <td>4.031447</td>\n",
       "      <td>0.619682</td>\n",
       "    </tr>\n",
       "    <tr>\n",
       "      <th>Cable Guy, The (1996)</th>\n",
       "      <td>2.250000</td>\n",
       "      <td>2.863787</td>\n",
       "      <td>0.613787</td>\n",
       "    </tr>\n",
       "    <tr>\n",
       "      <th>Evil Dead II (Dead By Dawn) (1987)</th>\n",
       "      <td>3.297297</td>\n",
       "      <td>3.909283</td>\n",
       "      <td>0.611985</td>\n",
       "    </tr>\n",
       "    <tr>\n",
       "      <th>Hidden, The (1987)</th>\n",
       "      <td>3.137931</td>\n",
       "      <td>3.745098</td>\n",
       "      <td>0.607167</td>\n",
       "    </tr>\n",
       "    <tr>\n",
       "      <th>Rocky III (1982)</th>\n",
       "      <td>2.361702</td>\n",
       "      <td>2.943503</td>\n",
       "      <td>0.581801</td>\n",
       "    </tr>\n",
       "    <tr>\n",
       "      <th>Caddyshack (1980)</th>\n",
       "      <td>3.396135</td>\n",
       "      <td>3.969737</td>\n",
       "      <td>0.573602</td>\n",
       "    </tr>\n",
       "    <tr>\n",
       "      <th>For a Few Dollars More (1965)</th>\n",
       "      <td>3.409091</td>\n",
       "      <td>3.953795</td>\n",
       "      <td>0.544704</td>\n",
       "    </tr>\n",
       "    <tr>\n",
       "      <th>Porky's (1981)</th>\n",
       "      <td>2.296875</td>\n",
       "      <td>2.836364</td>\n",
       "      <td>0.539489</td>\n",
       "    </tr>\n",
       "    <tr>\n",
       "      <th>Animal House (1978)</th>\n",
       "      <td>3.628906</td>\n",
       "      <td>4.167192</td>\n",
       "      <td>0.538286</td>\n",
       "    </tr>\n",
       "    <tr>\n",
       "      <th>Exorcist, The (1973)</th>\n",
       "      <td>3.537634</td>\n",
       "      <td>4.067239</td>\n",
       "      <td>0.529605</td>\n",
       "    </tr>\n",
       "    <tr>\n",
       "      <th>Fright Night (1985)</th>\n",
       "      <td>2.973684</td>\n",
       "      <td>3.500000</td>\n",
       "      <td>0.526316</td>\n",
       "    </tr>\n",
       "    <tr>\n",
       "      <th>Barb Wire (1996)</th>\n",
       "      <td>1.585366</td>\n",
       "      <td>2.100386</td>\n",
       "      <td>0.515020</td>\n",
       "    </tr>\n",
       "  </tbody>\n",
       "</table>\n",
       "</div>"
      ],
      "text/plain": [
       "gender                                         F         M      diff\n",
       "title                                                               \n",
       "Good, The Bad and The Ugly, The (1966)  3.494949  4.221300  0.726351\n",
       "Kentucky Fried Movie, The (1977)        2.878788  3.555147  0.676359\n",
       "Dumb & Dumber (1994)                    2.697987  3.336595  0.638608\n",
       "Longest Day, The (1962)                 3.411765  4.031447  0.619682\n",
       "Cable Guy, The (1996)                   2.250000  2.863787  0.613787\n",
       "Evil Dead II (Dead By Dawn) (1987)      3.297297  3.909283  0.611985\n",
       "Hidden, The (1987)                      3.137931  3.745098  0.607167\n",
       "Rocky III (1982)                        2.361702  2.943503  0.581801\n",
       "Caddyshack (1980)                       3.396135  3.969737  0.573602\n",
       "For a Few Dollars More (1965)           3.409091  3.953795  0.544704\n",
       "Porky's (1981)                          2.296875  2.836364  0.539489\n",
       "Animal House (1978)                     3.628906  4.167192  0.538286\n",
       "Exorcist, The (1973)                    3.537634  4.067239  0.529605\n",
       "Fright Night (1985)                     2.973684  3.500000  0.526316\n",
       "Barb Wire (1996)                        1.585366  2.100386  0.515020"
      ]
     },
     "execution_count": 23,
     "metadata": {},
     "output_type": "execute_result"
    }
   ],
   "source": [
    "sorted_by_diff[::-1][:15]"
   ]
  },
  {
   "cell_type": "markdown",
   "metadata": {
    "id": "X8pwNADD7_Hm"
   },
   "source": [
    "Si volguéssim les pel·licules que han generat puntuacions més discordants, independentment del gènere, podem fer servir la variança o la desviació estàndard de les puntuacions: "
   ]
  },
  {
   "cell_type": "code",
   "execution_count": 24,
   "metadata": {
    "colab": {
     "base_uri": "https://localhost:8080/"
    },
    "id": "wvDrSy1u7_Hm",
    "jupyter": {
     "outputs_hidden": false
    },
    "outputId": "8f4d06d2-893a-4925-f19f-2ca36ca00298"
   },
   "outputs": [
    {
     "data": {
      "text/plain": [
       "title\n",
       "Dumb & Dumber (1994)                     1.321333\n",
       "Blair Witch Project, The (1999)          1.316368\n",
       "Natural Born Killers (1994)              1.307198\n",
       "Tank Girl (1995)                         1.277695\n",
       "Rocky Horror Picture Show, The (1975)    1.260177\n",
       "Eyes Wide Shut (1999)                    1.259624\n",
       "Evita (1996)                             1.253631\n",
       "Billy Madison (1995)                     1.249970\n",
       "Fear and Loathing in Las Vegas (1998)    1.246408\n",
       "Bicentennial Man (1999)                  1.245533\n",
       "Name: rating, dtype: float64"
      ]
     },
     "execution_count": 24,
     "metadata": {},
     "output_type": "execute_result"
    }
   ],
   "source": [
    "# Standard deviation of rating grouped by title\n",
    "rating_std_by_title = data.groupby('title')['rating'].std()\n",
    "# Filter down to active_titles\n",
    "rating_std_by_title = rating_std_by_title.loc[active_titles]\n",
    "rating_std_by_title.sort_values(ascending=False)[:10]"
   ]
  },
  {
   "cell_type": "markdown",
   "metadata": {
    "id": "2mXAQiQj7_Hm"
   },
   "source": [
    "### Important: Temes de rendiment\n",
    "\n",
    "Fixeu-vos en el comportament de Python i actueu en conseqüència:"
   ]
  },
  {
   "cell_type": "code",
   "execution_count": 25,
   "metadata": {
    "colab": {
     "base_uri": "https://localhost:8080/"
    },
    "id": "R0erbTv97_Hm",
    "jupyter": {
     "outputs_hidden": false
    },
    "outputId": "fa7961dc-8a04-4f76-f826-7dc759078e65"
   },
   "outputs": [
    {
     "name": "stdout",
     "output_type": "stream",
     "text": [
      "5.81 µs ± 107 ns per loop (mean ± std. dev. of 7 runs, 100000 loops each)\n",
      "<class 'pandas.core.series.Series'>\n",
      "14.2 µs ± 44.4 ns per loop (mean ± std. dev. of 7 runs, 100000 loops each)\n",
      "<class 'pandas.core.series.Series'>\n",
      "34.4 ms ± 128 µs per loop (mean ± std. dev. of 7 runs, 10 loops each)\n",
      "<class 'pandas.core.frame.DataFrame'>\n"
     ]
    }
   ],
   "source": [
    "%timeit data['title'] \n",
    "print(type(data['title']))\n",
    "%timeit data.title \n",
    "print(type(data.title))\n",
    "%timeit data[['title']] \n",
    "print(type(data[['title']]))"
   ]
  },
  {
   "cell_type": "markdown",
   "metadata": {
    "id": "06D4EiZ8wgam"
   },
   "source": [
    "## 3. EXERCICIS"
   ]
  },
  {
   "cell_type": "markdown",
   "metadata": {
    "id": "ZH4QhLdU7_Hm"
   },
   "source": [
    "### 3.1. EXERCICI A\n",
    "\n",
    "+ Donada la taula ``data`` tal i com es defineix a continuació, calcula la puntuació mitjana de cada usuari i guarda-la a un ``df`` anomenat ``users_mean_rating``. "
   ]
  },
  {
   "cell_type": "code",
   "execution_count": 26,
   "metadata": {
    "id": "pojIMFQ-Sie1"
   },
   "outputs": [],
   "source": [
    "data_folder = 'ml-1m'"
   ]
  },
  {
   "cell_type": "code",
   "execution_count": 27,
   "metadata": {
    "id": "o8CCmNp97_Hm",
    "jupyter": {
     "outputs_hidden": false
    }
   },
   "outputs": [
    {
     "data": {
      "text/html": [
       "<div>\n",
       "<style scoped>\n",
       "    .dataframe tbody tr th:only-of-type {\n",
       "        vertical-align: middle;\n",
       "    }\n",
       "\n",
       "    .dataframe tbody tr th {\n",
       "        vertical-align: top;\n",
       "    }\n",
       "\n",
       "    .dataframe thead th {\n",
       "        text-align: right;\n",
       "    }\n",
       "</style>\n",
       "<table border=\"1\" class=\"dataframe\">\n",
       "  <thead>\n",
       "    <tr style=\"text-align: right;\">\n",
       "      <th></th>\n",
       "      <th>rating</th>\n",
       "    </tr>\n",
       "    <tr>\n",
       "      <th>user_id</th>\n",
       "      <th></th>\n",
       "    </tr>\n",
       "  </thead>\n",
       "  <tbody>\n",
       "    <tr>\n",
       "      <th>1</th>\n",
       "      <td>4.188679</td>\n",
       "    </tr>\n",
       "    <tr>\n",
       "      <th>2</th>\n",
       "      <td>3.713178</td>\n",
       "    </tr>\n",
       "    <tr>\n",
       "      <th>3</th>\n",
       "      <td>3.901961</td>\n",
       "    </tr>\n",
       "    <tr>\n",
       "      <th>4</th>\n",
       "      <td>4.190476</td>\n",
       "    </tr>\n",
       "    <tr>\n",
       "      <th>5</th>\n",
       "      <td>3.146465</td>\n",
       "    </tr>\n",
       "    <tr>\n",
       "      <th>...</th>\n",
       "      <td>...</td>\n",
       "    </tr>\n",
       "    <tr>\n",
       "      <th>6036</th>\n",
       "      <td>3.302928</td>\n",
       "    </tr>\n",
       "    <tr>\n",
       "      <th>6037</th>\n",
       "      <td>3.717822</td>\n",
       "    </tr>\n",
       "    <tr>\n",
       "      <th>6038</th>\n",
       "      <td>3.800000</td>\n",
       "    </tr>\n",
       "    <tr>\n",
       "      <th>6039</th>\n",
       "      <td>3.878049</td>\n",
       "    </tr>\n",
       "    <tr>\n",
       "      <th>6040</th>\n",
       "      <td>3.577713</td>\n",
       "    </tr>\n",
       "  </tbody>\n",
       "</table>\n",
       "<p>6040 rows × 1 columns</p>\n",
       "</div>"
      ],
      "text/plain": [
       "           rating\n",
       "user_id          \n",
       "1        4.188679\n",
       "2        3.713178\n",
       "3        3.901961\n",
       "4        4.190476\n",
       "5        3.146465\n",
       "...           ...\n",
       "6036     3.302928\n",
       "6037     3.717822\n",
       "6038     3.800000\n",
       "6039     3.878049\n",
       "6040     3.577713\n",
       "\n",
       "[6040 rows x 1 columns]"
      ]
     },
     "execution_count": 27,
     "metadata": {},
     "output_type": "execute_result"
    }
   ],
   "source": [
    "unames = ['user_id', 'gender', 'age', 'occupation', 'zip']\n",
    "users = pd.read_table(f'{data_folder}/users.dat', sep='::', header=None, names=unames, engine='python')\n",
    "rnames = ['user_id', 'movie_id', 'rating', 'timestamp']\n",
    "ratings = pd.read_table(f'{data_folder}/ratings.dat', sep='::', header=None, names=rnames, engine='python')\n",
    "mnames = ['movie_id', 'title', 'genres']\n",
    "movies = pd.read_table(f'{data_folder}/movies.dat', sep='::', header=None, names=mnames, engine='python',encoding='latin-1')\n",
    "\n",
    "data = pd.merge(pd.merge(ratings, users), movies)\n",
    "\n",
    "# la vostra solució aquí\n",
    "users_mean_rating = pd.DataFrame(data.groupby('user_id')['rating'].mean())\n",
    "users_mean_rating"
   ]
  },
  {
   "cell_type": "markdown",
   "metadata": {
    "id": "bz8OgaPz7_Hn"
   },
   "source": [
    "+ Quina és la pel·lícula més ben puntuada (en mitja) pels usuaris? (Guarda aquest valor en una variable de tipus ``string`` anomenada ``best_movie_rating`` ). "
   ]
  },
  {
   "cell_type": "code",
   "execution_count": 28,
   "metadata": {
    "id": "9rYx6aBz7_Hn",
    "jupyter": {
     "outputs_hidden": false
    }
   },
   "outputs": [
    {
     "name": "stdout",
     "output_type": "stream",
     "text": [
      "Millor puntuació en mitjana: 5.0\n",
      "Pel·lícula més ben puntuada en mitjana: Baby, The (1973)\n"
     ]
    }
   ],
   "source": [
    "# la vostra solució aquí\n",
    "\"\"\"Fem mitjana de les valoracions agrupant per títol\"\"\"\n",
    "movie_mean_rating = data.groupby('title')['rating'].mean()\n",
    "best_movie_rating = movie_mean_rating.idxmax()\n",
    "max_rating = movie_mean_rating[best_movie_rating]\n",
    "print(f\"Millor puntuació en mitjana: {max_rating}\")\n",
    "print(f\"Pel·lícula més ben puntuada en mitjana: {best_movie_rating}\")"
   ]
  },
  {
   "cell_type": "markdown",
   "metadata": {},
   "source": [
    "+ Mira si hi ha més pel·licules amb la mateixa puntuació de la més ben puntuada.\n",
    "\n",
    "> **Resposta:** Clarament n'hi ha més:"
   ]
  },
  {
   "cell_type": "code",
   "execution_count": 29,
   "metadata": {},
   "outputs": [
    {
     "data": {
      "text/plain": [
       "Index(['Baby, The (1973)', 'Bittersweet Motel (2000)',\n",
       "       'Follow the Bitch (1998)', 'Gate of Heavenly Peace, The (1995)',\n",
       "       'Lured (1947)', 'One Little Indian (1973)',\n",
       "       'Schlafes Bruder (Brother of Sleep) (1995)', 'Smashing Time (1967)',\n",
       "       'Song of Freedom (1936)', 'Ulysses (Ulisse) (1954)'],\n",
       "      dtype='object', name='title')"
      ]
     },
     "execution_count": 29,
     "metadata": {},
     "output_type": "execute_result"
    }
   ],
   "source": [
    "# la vostra solució aquí\n",
    "best_movies = movie_mean_rating[movie_mean_rating == max_rating].index\n",
    "best_movies"
   ]
  },
  {
   "cell_type": "markdown",
   "metadata": {},
   "source": [
    "+ Busca ara aquella pel·lícula, d'entre les que tenen 5 com a puntuació mitjana, que hagi rebut més valoracions i guarda-la a una variable anomenada ``best_movie_rating_maxviews``. Així tindrem la pel·licula més ben puntuada per més usuaris. "
   ]
  },
  {
   "cell_type": "code",
   "execution_count": 30,
   "metadata": {},
   "outputs": [
    {
     "data": {
      "text/plain": [
       "'Gate of Heavenly Peace, The (1995)'"
      ]
     },
     "execution_count": 30,
     "metadata": {},
     "output_type": "execute_result"
    }
   ],
   "source": [
    "# la vostra solució aquí\n",
    "\"\"\"\n",
    "Cada fila de data correspon a una valoració, \n",
    "comptem quantes corresponen a un títol.\n",
    "\"\"\"\n",
    "best_movie_rating_maxviews = data.groupby('title').size()[best_movies].idxmax()\n",
    "best_movie_rating_maxviews"
   ]
  },
  {
   "cell_type": "markdown",
   "metadata": {
    "id": "CUtdHgwk7_Hn"
   },
   "source": [
    "### 3.2. EXERCICI B\n",
    "\n",
    "+ Defineix una funció anomenada ``top_movie`` que donat un usuari ens retorni quina és la pel·lícula millor puntuada.\n"
   ]
  },
  {
   "cell_type": "code",
   "execution_count": 31,
   "metadata": {
    "colab": {
     "base_uri": "https://localhost:8080/"
    },
    "id": "V_wE7gmB7_Hn",
    "jupyter": {
     "outputs_hidden": false
    },
    "outputId": "86cc55f8-a57e-49ed-ad8f-46049ea1a3d6"
   },
   "outputs": [
    {
     "name": "stdout",
     "output_type": "stream",
     "text": [
      "One Flew Over the Cuckoo's Nest (1975)\n"
     ]
    }
   ],
   "source": [
    "\"\"\"\n",
    "Trobem el títol de la pel·lícula a partir de l'índex de \n",
    "la fila que correspon al registre major puntuat de l'usuari\n",
    "\"\"\"\n",
    "def top_movie(dataFrame,usr):\n",
    "    # la vostra solució aquí\n",
    "    return dataFrame.iloc[dataFrame[dataFrame['user_id'] == usr]['rating'].idxmax()]['title']\n",
    "    \n",
    "print(top_movie(data,1))"
   ]
  },
  {
   "cell_type": "markdown",
   "metadata": {},
   "source": [
    "### 3.3. EXERCICI C"
   ]
  },
  {
   "cell_type": "markdown",
   "metadata": {},
   "source": [
    "+ Construeix una funció que donat el dataframe ``data`` et retorni un altre dataframe ``df_counts``amb el valor que cada usuari li ha donat a una peli. Això ho farem creant un dataframe on les columnes són els `movie_id`, les files `user_id` i els valors siguin el rating donat."
   ]
  },
  {
   "cell_type": "code",
   "execution_count": 32,
   "metadata": {},
   "outputs": [],
   "source": [
    "\"\"\"\n",
    "Haurem de vigilar perquè movies pot tenir duplicats.\n",
    "\"\"\"\n",
    "def build_counts_table(df):\n",
    "    \"\"\"\n",
    "    Retorna un dataframe on les columnes són els `movie_id`, les files `user_id` i els valors\n",
    "    la valoració que un usuari ha donat a una peli d'un `movie_id`\n",
    "    \n",
    "    :param df: DataFrame original \n",
    "    :return: DataFrame descrit adalt\n",
    "    \"\"\"\n",
    "    \n",
    "    # la vostra solució aquí\n",
    "    return df.pivot(values='rating', index='user_id', columns='movie_id')"
   ]
  },
  {
   "cell_type": "code",
   "execution_count": 33,
   "metadata": {},
   "outputs": [
    {
     "data": {
      "text/html": [
       "<div>\n",
       "<style scoped>\n",
       "    .dataframe tbody tr th:only-of-type {\n",
       "        vertical-align: middle;\n",
       "    }\n",
       "\n",
       "    .dataframe tbody tr th {\n",
       "        vertical-align: top;\n",
       "    }\n",
       "\n",
       "    .dataframe thead th {\n",
       "        text-align: right;\n",
       "    }\n",
       "</style>\n",
       "<table border=\"1\" class=\"dataframe\">\n",
       "  <thead>\n",
       "    <tr style=\"text-align: right;\">\n",
       "      <th>movie_id</th>\n",
       "      <th>1</th>\n",
       "      <th>2</th>\n",
       "      <th>3</th>\n",
       "      <th>4</th>\n",
       "      <th>5</th>\n",
       "      <th>6</th>\n",
       "      <th>7</th>\n",
       "      <th>8</th>\n",
       "      <th>9</th>\n",
       "      <th>10</th>\n",
       "      <th>...</th>\n",
       "      <th>3943</th>\n",
       "      <th>3944</th>\n",
       "      <th>3945</th>\n",
       "      <th>3946</th>\n",
       "      <th>3947</th>\n",
       "      <th>3948</th>\n",
       "      <th>3949</th>\n",
       "      <th>3950</th>\n",
       "      <th>3951</th>\n",
       "      <th>3952</th>\n",
       "    </tr>\n",
       "    <tr>\n",
       "      <th>user_id</th>\n",
       "      <th></th>\n",
       "      <th></th>\n",
       "      <th></th>\n",
       "      <th></th>\n",
       "      <th></th>\n",
       "      <th></th>\n",
       "      <th></th>\n",
       "      <th></th>\n",
       "      <th></th>\n",
       "      <th></th>\n",
       "      <th></th>\n",
       "      <th></th>\n",
       "      <th></th>\n",
       "      <th></th>\n",
       "      <th></th>\n",
       "      <th></th>\n",
       "      <th></th>\n",
       "      <th></th>\n",
       "      <th></th>\n",
       "      <th></th>\n",
       "      <th></th>\n",
       "    </tr>\n",
       "  </thead>\n",
       "  <tbody>\n",
       "    <tr>\n",
       "      <th>1</th>\n",
       "      <td>5.0</td>\n",
       "      <td>NaN</td>\n",
       "      <td>NaN</td>\n",
       "      <td>NaN</td>\n",
       "      <td>NaN</td>\n",
       "      <td>NaN</td>\n",
       "      <td>NaN</td>\n",
       "      <td>NaN</td>\n",
       "      <td>NaN</td>\n",
       "      <td>NaN</td>\n",
       "      <td>...</td>\n",
       "      <td>NaN</td>\n",
       "      <td>NaN</td>\n",
       "      <td>NaN</td>\n",
       "      <td>NaN</td>\n",
       "      <td>NaN</td>\n",
       "      <td>NaN</td>\n",
       "      <td>NaN</td>\n",
       "      <td>NaN</td>\n",
       "      <td>NaN</td>\n",
       "      <td>NaN</td>\n",
       "    </tr>\n",
       "    <tr>\n",
       "      <th>2</th>\n",
       "      <td>NaN</td>\n",
       "      <td>NaN</td>\n",
       "      <td>NaN</td>\n",
       "      <td>NaN</td>\n",
       "      <td>NaN</td>\n",
       "      <td>NaN</td>\n",
       "      <td>NaN</td>\n",
       "      <td>NaN</td>\n",
       "      <td>NaN</td>\n",
       "      <td>NaN</td>\n",
       "      <td>...</td>\n",
       "      <td>NaN</td>\n",
       "      <td>NaN</td>\n",
       "      <td>NaN</td>\n",
       "      <td>NaN</td>\n",
       "      <td>NaN</td>\n",
       "      <td>NaN</td>\n",
       "      <td>NaN</td>\n",
       "      <td>NaN</td>\n",
       "      <td>NaN</td>\n",
       "      <td>NaN</td>\n",
       "    </tr>\n",
       "    <tr>\n",
       "      <th>3</th>\n",
       "      <td>NaN</td>\n",
       "      <td>NaN</td>\n",
       "      <td>NaN</td>\n",
       "      <td>NaN</td>\n",
       "      <td>NaN</td>\n",
       "      <td>NaN</td>\n",
       "      <td>NaN</td>\n",
       "      <td>NaN</td>\n",
       "      <td>NaN</td>\n",
       "      <td>NaN</td>\n",
       "      <td>...</td>\n",
       "      <td>NaN</td>\n",
       "      <td>NaN</td>\n",
       "      <td>NaN</td>\n",
       "      <td>NaN</td>\n",
       "      <td>NaN</td>\n",
       "      <td>NaN</td>\n",
       "      <td>NaN</td>\n",
       "      <td>NaN</td>\n",
       "      <td>NaN</td>\n",
       "      <td>NaN</td>\n",
       "    </tr>\n",
       "    <tr>\n",
       "      <th>4</th>\n",
       "      <td>NaN</td>\n",
       "      <td>NaN</td>\n",
       "      <td>NaN</td>\n",
       "      <td>NaN</td>\n",
       "      <td>NaN</td>\n",
       "      <td>NaN</td>\n",
       "      <td>NaN</td>\n",
       "      <td>NaN</td>\n",
       "      <td>NaN</td>\n",
       "      <td>NaN</td>\n",
       "      <td>...</td>\n",
       "      <td>NaN</td>\n",
       "      <td>NaN</td>\n",
       "      <td>NaN</td>\n",
       "      <td>NaN</td>\n",
       "      <td>NaN</td>\n",
       "      <td>NaN</td>\n",
       "      <td>NaN</td>\n",
       "      <td>NaN</td>\n",
       "      <td>NaN</td>\n",
       "      <td>NaN</td>\n",
       "    </tr>\n",
       "    <tr>\n",
       "      <th>5</th>\n",
       "      <td>NaN</td>\n",
       "      <td>NaN</td>\n",
       "      <td>NaN</td>\n",
       "      <td>NaN</td>\n",
       "      <td>NaN</td>\n",
       "      <td>2.0</td>\n",
       "      <td>NaN</td>\n",
       "      <td>NaN</td>\n",
       "      <td>NaN</td>\n",
       "      <td>NaN</td>\n",
       "      <td>...</td>\n",
       "      <td>NaN</td>\n",
       "      <td>NaN</td>\n",
       "      <td>NaN</td>\n",
       "      <td>NaN</td>\n",
       "      <td>NaN</td>\n",
       "      <td>NaN</td>\n",
       "      <td>NaN</td>\n",
       "      <td>NaN</td>\n",
       "      <td>NaN</td>\n",
       "      <td>NaN</td>\n",
       "    </tr>\n",
       "    <tr>\n",
       "      <th>...</th>\n",
       "      <td>...</td>\n",
       "      <td>...</td>\n",
       "      <td>...</td>\n",
       "      <td>...</td>\n",
       "      <td>...</td>\n",
       "      <td>...</td>\n",
       "      <td>...</td>\n",
       "      <td>...</td>\n",
       "      <td>...</td>\n",
       "      <td>...</td>\n",
       "      <td>...</td>\n",
       "      <td>...</td>\n",
       "      <td>...</td>\n",
       "      <td>...</td>\n",
       "      <td>...</td>\n",
       "      <td>...</td>\n",
       "      <td>...</td>\n",
       "      <td>...</td>\n",
       "      <td>...</td>\n",
       "      <td>...</td>\n",
       "      <td>...</td>\n",
       "    </tr>\n",
       "    <tr>\n",
       "      <th>6036</th>\n",
       "      <td>NaN</td>\n",
       "      <td>NaN</td>\n",
       "      <td>NaN</td>\n",
       "      <td>2.0</td>\n",
       "      <td>NaN</td>\n",
       "      <td>3.0</td>\n",
       "      <td>NaN</td>\n",
       "      <td>NaN</td>\n",
       "      <td>NaN</td>\n",
       "      <td>NaN</td>\n",
       "      <td>...</td>\n",
       "      <td>NaN</td>\n",
       "      <td>NaN</td>\n",
       "      <td>NaN</td>\n",
       "      <td>NaN</td>\n",
       "      <td>NaN</td>\n",
       "      <td>NaN</td>\n",
       "      <td>NaN</td>\n",
       "      <td>NaN</td>\n",
       "      <td>NaN</td>\n",
       "      <td>NaN</td>\n",
       "    </tr>\n",
       "    <tr>\n",
       "      <th>6037</th>\n",
       "      <td>NaN</td>\n",
       "      <td>NaN</td>\n",
       "      <td>NaN</td>\n",
       "      <td>NaN</td>\n",
       "      <td>NaN</td>\n",
       "      <td>NaN</td>\n",
       "      <td>NaN</td>\n",
       "      <td>NaN</td>\n",
       "      <td>NaN</td>\n",
       "      <td>NaN</td>\n",
       "      <td>...</td>\n",
       "      <td>NaN</td>\n",
       "      <td>NaN</td>\n",
       "      <td>NaN</td>\n",
       "      <td>NaN</td>\n",
       "      <td>NaN</td>\n",
       "      <td>NaN</td>\n",
       "      <td>NaN</td>\n",
       "      <td>NaN</td>\n",
       "      <td>NaN</td>\n",
       "      <td>NaN</td>\n",
       "    </tr>\n",
       "    <tr>\n",
       "      <th>6038</th>\n",
       "      <td>NaN</td>\n",
       "      <td>NaN</td>\n",
       "      <td>NaN</td>\n",
       "      <td>NaN</td>\n",
       "      <td>NaN</td>\n",
       "      <td>NaN</td>\n",
       "      <td>NaN</td>\n",
       "      <td>NaN</td>\n",
       "      <td>NaN</td>\n",
       "      <td>NaN</td>\n",
       "      <td>...</td>\n",
       "      <td>NaN</td>\n",
       "      <td>NaN</td>\n",
       "      <td>NaN</td>\n",
       "      <td>NaN</td>\n",
       "      <td>NaN</td>\n",
       "      <td>NaN</td>\n",
       "      <td>NaN</td>\n",
       "      <td>NaN</td>\n",
       "      <td>NaN</td>\n",
       "      <td>NaN</td>\n",
       "    </tr>\n",
       "    <tr>\n",
       "      <th>6039</th>\n",
       "      <td>NaN</td>\n",
       "      <td>NaN</td>\n",
       "      <td>NaN</td>\n",
       "      <td>NaN</td>\n",
       "      <td>NaN</td>\n",
       "      <td>NaN</td>\n",
       "      <td>NaN</td>\n",
       "      <td>NaN</td>\n",
       "      <td>NaN</td>\n",
       "      <td>NaN</td>\n",
       "      <td>...</td>\n",
       "      <td>NaN</td>\n",
       "      <td>NaN</td>\n",
       "      <td>NaN</td>\n",
       "      <td>NaN</td>\n",
       "      <td>NaN</td>\n",
       "      <td>NaN</td>\n",
       "      <td>NaN</td>\n",
       "      <td>NaN</td>\n",
       "      <td>NaN</td>\n",
       "      <td>NaN</td>\n",
       "    </tr>\n",
       "    <tr>\n",
       "      <th>6040</th>\n",
       "      <td>3.0</td>\n",
       "      <td>NaN</td>\n",
       "      <td>NaN</td>\n",
       "      <td>NaN</td>\n",
       "      <td>NaN</td>\n",
       "      <td>NaN</td>\n",
       "      <td>NaN</td>\n",
       "      <td>NaN</td>\n",
       "      <td>NaN</td>\n",
       "      <td>NaN</td>\n",
       "      <td>...</td>\n",
       "      <td>NaN</td>\n",
       "      <td>NaN</td>\n",
       "      <td>NaN</td>\n",
       "      <td>NaN</td>\n",
       "      <td>NaN</td>\n",
       "      <td>NaN</td>\n",
       "      <td>NaN</td>\n",
       "      <td>NaN</td>\n",
       "      <td>NaN</td>\n",
       "      <td>NaN</td>\n",
       "    </tr>\n",
       "  </tbody>\n",
       "</table>\n",
       "<p>6040 rows × 3706 columns</p>\n",
       "</div>"
      ],
      "text/plain": [
       "movie_id  1     2     3     4     5     6     7     8     9     10    ...  \\\n",
       "user_id                                                               ...   \n",
       "1          5.0   NaN   NaN   NaN   NaN   NaN   NaN   NaN   NaN   NaN  ...   \n",
       "2          NaN   NaN   NaN   NaN   NaN   NaN   NaN   NaN   NaN   NaN  ...   \n",
       "3          NaN   NaN   NaN   NaN   NaN   NaN   NaN   NaN   NaN   NaN  ...   \n",
       "4          NaN   NaN   NaN   NaN   NaN   NaN   NaN   NaN   NaN   NaN  ...   \n",
       "5          NaN   NaN   NaN   NaN   NaN   2.0   NaN   NaN   NaN   NaN  ...   \n",
       "...        ...   ...   ...   ...   ...   ...   ...   ...   ...   ...  ...   \n",
       "6036       NaN   NaN   NaN   2.0   NaN   3.0   NaN   NaN   NaN   NaN  ...   \n",
       "6037       NaN   NaN   NaN   NaN   NaN   NaN   NaN   NaN   NaN   NaN  ...   \n",
       "6038       NaN   NaN   NaN   NaN   NaN   NaN   NaN   NaN   NaN   NaN  ...   \n",
       "6039       NaN   NaN   NaN   NaN   NaN   NaN   NaN   NaN   NaN   NaN  ...   \n",
       "6040       3.0   NaN   NaN   NaN   NaN   NaN   NaN   NaN   NaN   NaN  ...   \n",
       "\n",
       "movie_id  3943  3944  3945  3946  3947  3948  3949  3950  3951  3952  \n",
       "user_id                                                               \n",
       "1          NaN   NaN   NaN   NaN   NaN   NaN   NaN   NaN   NaN   NaN  \n",
       "2          NaN   NaN   NaN   NaN   NaN   NaN   NaN   NaN   NaN   NaN  \n",
       "3          NaN   NaN   NaN   NaN   NaN   NaN   NaN   NaN   NaN   NaN  \n",
       "4          NaN   NaN   NaN   NaN   NaN   NaN   NaN   NaN   NaN   NaN  \n",
       "5          NaN   NaN   NaN   NaN   NaN   NaN   NaN   NaN   NaN   NaN  \n",
       "...        ...   ...   ...   ...   ...   ...   ...   ...   ...   ...  \n",
       "6036       NaN   NaN   NaN   NaN   NaN   NaN   NaN   NaN   NaN   NaN  \n",
       "6037       NaN   NaN   NaN   NaN   NaN   NaN   NaN   NaN   NaN   NaN  \n",
       "6038       NaN   NaN   NaN   NaN   NaN   NaN   NaN   NaN   NaN   NaN  \n",
       "6039       NaN   NaN   NaN   NaN   NaN   NaN   NaN   NaN   NaN   NaN  \n",
       "6040       NaN   NaN   NaN   NaN   NaN   NaN   NaN   NaN   NaN   NaN  \n",
       "\n",
       "[6040 rows x 3706 columns]"
      ]
     },
     "execution_count": 33,
     "metadata": {},
     "output_type": "execute_result"
    }
   ],
   "source": [
    "df_counts = build_counts_table(data)\n",
    "df_counts"
   ]
  },
  {
   "cell_type": "markdown",
   "metadata": {},
   "source": [
    "+ Fés una funció que donada la taula anterior i dos id's (usuari i peli), extregui el valor donat:"
   ]
  },
  {
   "cell_type": "code",
   "execution_count": 34,
   "metadata": {},
   "outputs": [
    {
     "data": {
      "text/plain": [
       "5.0"
      ]
     },
     "execution_count": 34,
     "metadata": {},
     "output_type": "execute_result"
    }
   ],
   "source": [
    "def get_count(df, user_id, movie_id):\n",
    "    \"\"\"\n",
    "    Retorna la valoració que l'usuari 'user_id' ha donat de 'movie_id'\n",
    "    \n",
    "    :param df: DataFrame retornat per `build_counts_table`\n",
    "    :param user_id: ID de l'usuari\n",
    "    :param movie_id: ID de la peli\n",
    "    :return: Enter amb la valoració de la peli\n",
    "    \"\"\"\n",
    "    \n",
    "    # la vostra solució aquí\n",
    "    return df.loc[user_id, movie_id]\n",
    "\n",
    "get_count(df_counts, 1, 1)"
   ]
  },
  {
   "cell_type": "markdown",
   "metadata": {},
   "source": [
    "### 3.4. EXERCICI D"
   ]
  },
  {
   "cell_type": "code",
   "execution_count": 35,
   "metadata": {},
   "outputs": [
    {
     "data": {
      "text/plain": [
       "user_id         6040\n",
       "movie_id        3706\n",
       "rating             5\n",
       "timestamp     458455\n",
       "gender             2\n",
       "age                7\n",
       "occupation        21\n",
       "zip             3439\n",
       "title           3706\n",
       "genres           301\n",
       "dtype: int64"
      ]
     },
     "execution_count": 35,
     "metadata": {},
     "output_type": "execute_result"
    }
   ],
   "source": [
    "data.nunique()"
   ]
  },
  {
   "cell_type": "code",
   "execution_count": 36,
   "metadata": {},
   "outputs": [
    {
     "data": {
      "text/plain": [
       "3952"
      ]
     },
     "execution_count": 36,
     "metadata": {},
     "output_type": "execute_result"
    }
   ],
   "source": [
    "unique_movies = pd.unique(data['movie_id'])\n",
    "unique_movies.max()"
   ]
  },
  {
   "cell_type": "markdown",
   "metadata": {},
   "source": [
    "Si observem el nombre total d'usuaris únics i de pel.licules úniques, podem veure que els id's dels usuaris van de 1 a 6040. Normalment volem índexos que comencin al nombre 0, anant de 0 a 6039. \n",
    "\n",
    "+ Explora els índexos de les pel·licules. **Quin problema hi ha amb els indexos de les pel·licules??**"
   ]
  },
  {
   "cell_type": "markdown",
   "metadata": {},
   "source": [
    "> **Resposta**: Hi ha 3706 identificadors diferents però el seu valor màxim és 3952 (s'assoleix un valor major del nombre d'índexos: no tenim identificadors consecutius). Amb això veiem que no els tenim des de 0 fins a 3705 com ens agradaria: caldrà modificar-los d'alguna manera (igual que haurem de restar un a l'índex dels usuaris per aconseguir els índexos de 0 a 6039).\n"
   ]
  },
  {
   "cell_type": "markdown",
   "metadata": {},
   "source": [
    "+ Usant la funció `pd.Categorical(*).codes`, re-indexa els id's dels usuaris i de les pelis perquè vagin de 0 a 6039 i de 0 a 3705 respectivament:"
   ]
  },
  {
   "cell_type": "code",
   "execution_count": 37,
   "metadata": {},
   "outputs": [],
   "source": [
    "# la vostra solució aquí\n",
    "\"\"\"Obtenim els codis categòrics d'usuaris i pel·lícules i els usem per reindexar.\"\"\"\n",
    "data['user_id'] = pd.Categorical(data['user_id']).codes\n",
    "data['movie_id'] = pd.Categorical(data['movie_id']).codes"
   ]
  },
  {
   "cell_type": "markdown",
   "metadata": {},
   "source": [
    "+ Per comprovar que tot sigui correcte i guardar correctament la taula **df_counts**, torna a calcular i visualitza ``df_counts``:"
   ]
  },
  {
   "cell_type": "code",
   "execution_count": 38,
   "metadata": {},
   "outputs": [
    {
     "data": {
      "text/html": [
       "<div>\n",
       "<style scoped>\n",
       "    .dataframe tbody tr th:only-of-type {\n",
       "        vertical-align: middle;\n",
       "    }\n",
       "\n",
       "    .dataframe tbody tr th {\n",
       "        vertical-align: top;\n",
       "    }\n",
       "\n",
       "    .dataframe thead th {\n",
       "        text-align: right;\n",
       "    }\n",
       "</style>\n",
       "<table border=\"1\" class=\"dataframe\">\n",
       "  <thead>\n",
       "    <tr style=\"text-align: right;\">\n",
       "      <th>movie_id</th>\n",
       "      <th>0</th>\n",
       "      <th>1</th>\n",
       "      <th>2</th>\n",
       "      <th>3</th>\n",
       "      <th>4</th>\n",
       "      <th>5</th>\n",
       "      <th>6</th>\n",
       "      <th>7</th>\n",
       "      <th>8</th>\n",
       "      <th>9</th>\n",
       "      <th>...</th>\n",
       "      <th>3696</th>\n",
       "      <th>3697</th>\n",
       "      <th>3698</th>\n",
       "      <th>3699</th>\n",
       "      <th>3700</th>\n",
       "      <th>3701</th>\n",
       "      <th>3702</th>\n",
       "      <th>3703</th>\n",
       "      <th>3704</th>\n",
       "      <th>3705</th>\n",
       "    </tr>\n",
       "    <tr>\n",
       "      <th>user_id</th>\n",
       "      <th></th>\n",
       "      <th></th>\n",
       "      <th></th>\n",
       "      <th></th>\n",
       "      <th></th>\n",
       "      <th></th>\n",
       "      <th></th>\n",
       "      <th></th>\n",
       "      <th></th>\n",
       "      <th></th>\n",
       "      <th></th>\n",
       "      <th></th>\n",
       "      <th></th>\n",
       "      <th></th>\n",
       "      <th></th>\n",
       "      <th></th>\n",
       "      <th></th>\n",
       "      <th></th>\n",
       "      <th></th>\n",
       "      <th></th>\n",
       "      <th></th>\n",
       "    </tr>\n",
       "  </thead>\n",
       "  <tbody>\n",
       "    <tr>\n",
       "      <th>0</th>\n",
       "      <td>5.0</td>\n",
       "      <td>NaN</td>\n",
       "      <td>NaN</td>\n",
       "      <td>NaN</td>\n",
       "      <td>NaN</td>\n",
       "      <td>NaN</td>\n",
       "      <td>NaN</td>\n",
       "      <td>NaN</td>\n",
       "      <td>NaN</td>\n",
       "      <td>NaN</td>\n",
       "      <td>...</td>\n",
       "      <td>NaN</td>\n",
       "      <td>NaN</td>\n",
       "      <td>NaN</td>\n",
       "      <td>NaN</td>\n",
       "      <td>NaN</td>\n",
       "      <td>NaN</td>\n",
       "      <td>NaN</td>\n",
       "      <td>NaN</td>\n",
       "      <td>NaN</td>\n",
       "      <td>NaN</td>\n",
       "    </tr>\n",
       "    <tr>\n",
       "      <th>1</th>\n",
       "      <td>NaN</td>\n",
       "      <td>NaN</td>\n",
       "      <td>NaN</td>\n",
       "      <td>NaN</td>\n",
       "      <td>NaN</td>\n",
       "      <td>NaN</td>\n",
       "      <td>NaN</td>\n",
       "      <td>NaN</td>\n",
       "      <td>NaN</td>\n",
       "      <td>NaN</td>\n",
       "      <td>...</td>\n",
       "      <td>NaN</td>\n",
       "      <td>NaN</td>\n",
       "      <td>NaN</td>\n",
       "      <td>NaN</td>\n",
       "      <td>NaN</td>\n",
       "      <td>NaN</td>\n",
       "      <td>NaN</td>\n",
       "      <td>NaN</td>\n",
       "      <td>NaN</td>\n",
       "      <td>NaN</td>\n",
       "    </tr>\n",
       "    <tr>\n",
       "      <th>2</th>\n",
       "      <td>NaN</td>\n",
       "      <td>NaN</td>\n",
       "      <td>NaN</td>\n",
       "      <td>NaN</td>\n",
       "      <td>NaN</td>\n",
       "      <td>NaN</td>\n",
       "      <td>NaN</td>\n",
       "      <td>NaN</td>\n",
       "      <td>NaN</td>\n",
       "      <td>NaN</td>\n",
       "      <td>...</td>\n",
       "      <td>NaN</td>\n",
       "      <td>NaN</td>\n",
       "      <td>NaN</td>\n",
       "      <td>NaN</td>\n",
       "      <td>NaN</td>\n",
       "      <td>NaN</td>\n",
       "      <td>NaN</td>\n",
       "      <td>NaN</td>\n",
       "      <td>NaN</td>\n",
       "      <td>NaN</td>\n",
       "    </tr>\n",
       "    <tr>\n",
       "      <th>3</th>\n",
       "      <td>NaN</td>\n",
       "      <td>NaN</td>\n",
       "      <td>NaN</td>\n",
       "      <td>NaN</td>\n",
       "      <td>NaN</td>\n",
       "      <td>NaN</td>\n",
       "      <td>NaN</td>\n",
       "      <td>NaN</td>\n",
       "      <td>NaN</td>\n",
       "      <td>NaN</td>\n",
       "      <td>...</td>\n",
       "      <td>NaN</td>\n",
       "      <td>NaN</td>\n",
       "      <td>NaN</td>\n",
       "      <td>NaN</td>\n",
       "      <td>NaN</td>\n",
       "      <td>NaN</td>\n",
       "      <td>NaN</td>\n",
       "      <td>NaN</td>\n",
       "      <td>NaN</td>\n",
       "      <td>NaN</td>\n",
       "    </tr>\n",
       "    <tr>\n",
       "      <th>4</th>\n",
       "      <td>NaN</td>\n",
       "      <td>NaN</td>\n",
       "      <td>NaN</td>\n",
       "      <td>NaN</td>\n",
       "      <td>NaN</td>\n",
       "      <td>2.0</td>\n",
       "      <td>NaN</td>\n",
       "      <td>NaN</td>\n",
       "      <td>NaN</td>\n",
       "      <td>NaN</td>\n",
       "      <td>...</td>\n",
       "      <td>NaN</td>\n",
       "      <td>NaN</td>\n",
       "      <td>NaN</td>\n",
       "      <td>NaN</td>\n",
       "      <td>NaN</td>\n",
       "      <td>NaN</td>\n",
       "      <td>NaN</td>\n",
       "      <td>NaN</td>\n",
       "      <td>NaN</td>\n",
       "      <td>NaN</td>\n",
       "    </tr>\n",
       "    <tr>\n",
       "      <th>...</th>\n",
       "      <td>...</td>\n",
       "      <td>...</td>\n",
       "      <td>...</td>\n",
       "      <td>...</td>\n",
       "      <td>...</td>\n",
       "      <td>...</td>\n",
       "      <td>...</td>\n",
       "      <td>...</td>\n",
       "      <td>...</td>\n",
       "      <td>...</td>\n",
       "      <td>...</td>\n",
       "      <td>...</td>\n",
       "      <td>...</td>\n",
       "      <td>...</td>\n",
       "      <td>...</td>\n",
       "      <td>...</td>\n",
       "      <td>...</td>\n",
       "      <td>...</td>\n",
       "      <td>...</td>\n",
       "      <td>...</td>\n",
       "      <td>...</td>\n",
       "    </tr>\n",
       "    <tr>\n",
       "      <th>6035</th>\n",
       "      <td>NaN</td>\n",
       "      <td>NaN</td>\n",
       "      <td>NaN</td>\n",
       "      <td>2.0</td>\n",
       "      <td>NaN</td>\n",
       "      <td>3.0</td>\n",
       "      <td>NaN</td>\n",
       "      <td>NaN</td>\n",
       "      <td>NaN</td>\n",
       "      <td>NaN</td>\n",
       "      <td>...</td>\n",
       "      <td>NaN</td>\n",
       "      <td>NaN</td>\n",
       "      <td>NaN</td>\n",
       "      <td>NaN</td>\n",
       "      <td>NaN</td>\n",
       "      <td>NaN</td>\n",
       "      <td>NaN</td>\n",
       "      <td>NaN</td>\n",
       "      <td>NaN</td>\n",
       "      <td>NaN</td>\n",
       "    </tr>\n",
       "    <tr>\n",
       "      <th>6036</th>\n",
       "      <td>NaN</td>\n",
       "      <td>NaN</td>\n",
       "      <td>NaN</td>\n",
       "      <td>NaN</td>\n",
       "      <td>NaN</td>\n",
       "      <td>NaN</td>\n",
       "      <td>NaN</td>\n",
       "      <td>NaN</td>\n",
       "      <td>NaN</td>\n",
       "      <td>NaN</td>\n",
       "      <td>...</td>\n",
       "      <td>NaN</td>\n",
       "      <td>NaN</td>\n",
       "      <td>NaN</td>\n",
       "      <td>NaN</td>\n",
       "      <td>NaN</td>\n",
       "      <td>NaN</td>\n",
       "      <td>NaN</td>\n",
       "      <td>NaN</td>\n",
       "      <td>NaN</td>\n",
       "      <td>NaN</td>\n",
       "    </tr>\n",
       "    <tr>\n",
       "      <th>6037</th>\n",
       "      <td>NaN</td>\n",
       "      <td>NaN</td>\n",
       "      <td>NaN</td>\n",
       "      <td>NaN</td>\n",
       "      <td>NaN</td>\n",
       "      <td>NaN</td>\n",
       "      <td>NaN</td>\n",
       "      <td>NaN</td>\n",
       "      <td>NaN</td>\n",
       "      <td>NaN</td>\n",
       "      <td>...</td>\n",
       "      <td>NaN</td>\n",
       "      <td>NaN</td>\n",
       "      <td>NaN</td>\n",
       "      <td>NaN</td>\n",
       "      <td>NaN</td>\n",
       "      <td>NaN</td>\n",
       "      <td>NaN</td>\n",
       "      <td>NaN</td>\n",
       "      <td>NaN</td>\n",
       "      <td>NaN</td>\n",
       "    </tr>\n",
       "    <tr>\n",
       "      <th>6038</th>\n",
       "      <td>NaN</td>\n",
       "      <td>NaN</td>\n",
       "      <td>NaN</td>\n",
       "      <td>NaN</td>\n",
       "      <td>NaN</td>\n",
       "      <td>NaN</td>\n",
       "      <td>NaN</td>\n",
       "      <td>NaN</td>\n",
       "      <td>NaN</td>\n",
       "      <td>NaN</td>\n",
       "      <td>...</td>\n",
       "      <td>NaN</td>\n",
       "      <td>NaN</td>\n",
       "      <td>NaN</td>\n",
       "      <td>NaN</td>\n",
       "      <td>NaN</td>\n",
       "      <td>NaN</td>\n",
       "      <td>NaN</td>\n",
       "      <td>NaN</td>\n",
       "      <td>NaN</td>\n",
       "      <td>NaN</td>\n",
       "    </tr>\n",
       "    <tr>\n",
       "      <th>6039</th>\n",
       "      <td>3.0</td>\n",
       "      <td>NaN</td>\n",
       "      <td>NaN</td>\n",
       "      <td>NaN</td>\n",
       "      <td>NaN</td>\n",
       "      <td>NaN</td>\n",
       "      <td>NaN</td>\n",
       "      <td>NaN</td>\n",
       "      <td>NaN</td>\n",
       "      <td>NaN</td>\n",
       "      <td>...</td>\n",
       "      <td>NaN</td>\n",
       "      <td>NaN</td>\n",
       "      <td>NaN</td>\n",
       "      <td>NaN</td>\n",
       "      <td>NaN</td>\n",
       "      <td>NaN</td>\n",
       "      <td>NaN</td>\n",
       "      <td>NaN</td>\n",
       "      <td>NaN</td>\n",
       "      <td>NaN</td>\n",
       "    </tr>\n",
       "  </tbody>\n",
       "</table>\n",
       "<p>6040 rows × 3706 columns</p>\n",
       "</div>"
      ],
      "text/plain": [
       "movie_id  0     1     2     3     4     5     6     7     8     9     ...  \\\n",
       "user_id                                                               ...   \n",
       "0          5.0   NaN   NaN   NaN   NaN   NaN   NaN   NaN   NaN   NaN  ...   \n",
       "1          NaN   NaN   NaN   NaN   NaN   NaN   NaN   NaN   NaN   NaN  ...   \n",
       "2          NaN   NaN   NaN   NaN   NaN   NaN   NaN   NaN   NaN   NaN  ...   \n",
       "3          NaN   NaN   NaN   NaN   NaN   NaN   NaN   NaN   NaN   NaN  ...   \n",
       "4          NaN   NaN   NaN   NaN   NaN   2.0   NaN   NaN   NaN   NaN  ...   \n",
       "...        ...   ...   ...   ...   ...   ...   ...   ...   ...   ...  ...   \n",
       "6035       NaN   NaN   NaN   2.0   NaN   3.0   NaN   NaN   NaN   NaN  ...   \n",
       "6036       NaN   NaN   NaN   NaN   NaN   NaN   NaN   NaN   NaN   NaN  ...   \n",
       "6037       NaN   NaN   NaN   NaN   NaN   NaN   NaN   NaN   NaN   NaN  ...   \n",
       "6038       NaN   NaN   NaN   NaN   NaN   NaN   NaN   NaN   NaN   NaN  ...   \n",
       "6039       3.0   NaN   NaN   NaN   NaN   NaN   NaN   NaN   NaN   NaN  ...   \n",
       "\n",
       "movie_id  3696  3697  3698  3699  3700  3701  3702  3703  3704  3705  \n",
       "user_id                                                               \n",
       "0          NaN   NaN   NaN   NaN   NaN   NaN   NaN   NaN   NaN   NaN  \n",
       "1          NaN   NaN   NaN   NaN   NaN   NaN   NaN   NaN   NaN   NaN  \n",
       "2          NaN   NaN   NaN   NaN   NaN   NaN   NaN   NaN   NaN   NaN  \n",
       "3          NaN   NaN   NaN   NaN   NaN   NaN   NaN   NaN   NaN   NaN  \n",
       "4          NaN   NaN   NaN   NaN   NaN   NaN   NaN   NaN   NaN   NaN  \n",
       "...        ...   ...   ...   ...   ...   ...   ...   ...   ...   ...  \n",
       "6035       NaN   NaN   NaN   NaN   NaN   NaN   NaN   NaN   NaN   NaN  \n",
       "6036       NaN   NaN   NaN   NaN   NaN   NaN   NaN   NaN   NaN   NaN  \n",
       "6037       NaN   NaN   NaN   NaN   NaN   NaN   NaN   NaN   NaN   NaN  \n",
       "6038       NaN   NaN   NaN   NaN   NaN   NaN   NaN   NaN   NaN   NaN  \n",
       "6039       NaN   NaN   NaN   NaN   NaN   NaN   NaN   NaN   NaN   NaN  \n",
       "\n",
       "[6040 rows x 3706 columns]"
      ]
     },
     "execution_count": 38,
     "metadata": {},
     "output_type": "execute_result"
    }
   ],
   "source": [
    "# la vostra solució aquí\n",
    "df_counts = build_counts_table(data)\n",
    "df_counts"
   ]
  },
  {
   "cell_type": "markdown",
   "metadata": {
    "id": "kl4ZuaQF7_Ho"
   },
   "source": [
    "### 3.5. EXERCICI E\n",
    "\n"
   ]
  },
  {
   "cell_type": "markdown",
   "metadata": {},
   "source": [
    "+ Escriu una funció `distEuclid(x,y)`  que implementi la distància Euclidiana entre dos vectors usant funcions de pandas. \n",
    "\n",
    "+ Escriu la funció `SimEuclid (DataFrame, U1, U2)` que calculin la semblança entre dos usuaris segons aquesta estructura:\n",
    "\n",
    "    + Calcular un vector per cada usuari, $U1$ i $U2$, amb les puntuacions dels ítems comuns que han puntuat el dos usuaris.\n",
    "    + Si no hi ha puntuacions en comú, retornar 0. Sinó, retornar \n",
    "    \n",
    "    $$\\frac{1}{(1+distEuclid(U1, U2))}$$\n",
    "\n",
    "+ Avalueu amb la funció ``%timeit`` quant triguen aquests càlculs per un parell d'usuaris.   \n",
    "\n",
    "> *Nota: Alguns d'aquests exercicis tenen temps de càlcul de l'ordre de minuts sobre tota la base de dades. Per desenvolupar els algorismes és recomanable treballar amb una versió reduïda de la base de dades.* "
   ]
  },
  {
   "cell_type": "markdown",
   "metadata": {},
   "source": [
    "Per implementar aquestes funcions únicament es permet l'ús de les funcions:\n",
    "\n",
    "* `np.sum`\n",
    "* `np.sqrt`\n",
    "* `np.power`\n",
    "* `np.dot`\n",
    "* `np.linalg.norm`\n",
    "* `np.mean`\n",
    "\n",
    "I s'ha de fer **sense bucles**!"
   ]
  },
  {
   "cell_type": "code",
   "execution_count": 39,
   "metadata": {
    "id": "Kn42z3Of7_Ho",
    "jupyter": {
     "outputs_hidden": false
    }
   },
   "outputs": [],
   "source": [
    "num_movies = data.nunique()['movie_id']\n",
    "\n",
    "def distEuclid(x, y):\n",
    "    \"\"\"\n",
    "    Retorna la distancia euclidiana de dos vectors n-dimensionals.\n",
    "    \n",
    "    :param x: Primer vector\n",
    "    :param y: Segon vector\n",
    "    :return : Escalar (float) corresponent a la distancia euclidiana\n",
    "    \"\"\"\n",
    "    \n",
    "    # la vostra solució aquí\n",
    "    return np.linalg.norm(x-y)\n",
    "\n",
    "def SimEuclid(DataFrame, User1, User2):\n",
    "    \"\"\"\n",
    "    Retorna un score que representa la similitud entre user1 i user2 basada en la distancia euclidiana\n",
    "    \n",
    "    :param DataFrame: dataframe que conté totes les dades\n",
    "    :param User1: id user1\n",
    "    :param User2: id user2\n",
    "    :return : Escalar (float) corresponent al score\n",
    "    \"\"\"\n",
    "    \n",
    "    # la vostra solució aquí\n",
    "    \"\"\"\n",
    "    Trobem mitjançant una màscara les pel·lícules puntuades en comú.\n",
    "    Notem que per fer això cal usar la funció np.isnan() de NumPy.\n",
    "    \"\"\"\n",
    "    U1 = DataFrame.loc[User1].values\n",
    "    U2 = DataFrame.loc[User2].values\n",
    "    mask = ~np.isnan(U1) & ~np.isnan(U2)\n",
    "    U1 = U1[mask]\n",
    "    U2 = U2[mask]\n",
    "    \n",
    "    \"\"\"Ponderem la similaritat en base al nombre de pel·lícules puntuades en comú.\"\"\"\n",
    "    return len(U1) * (1 / (1 + distEuclid(U1, U2))) / num_movies"
   ]
  },
  {
   "cell_type": "code",
   "execution_count": 40,
   "metadata": {
    "colab": {
     "base_uri": "https://localhost:8080/"
    },
    "id": "JSAH4saX7_Ho",
    "jupyter": {
     "outputs_hidden": false
    },
    "outputId": "3bf5ea3f-4ee5-4298-d429-378543828c71"
   },
   "outputs": [
    {
     "name": "stdout",
     "output_type": "stream",
     "text": [
      "0.0005396654074473826\n"
     ]
    }
   ],
   "source": [
    "# Execute functions\n",
    "print(SimEuclid(df_counts, 2,314))"
   ]
  },
  {
   "cell_type": "code",
   "execution_count": 41,
   "metadata": {
    "colab": {
     "base_uri": "https://localhost:8080/"
    },
    "id": "JSAH4saX7_Ho",
    "jupyter": {
     "outputs_hidden": false
    },
    "outputId": "3bf5ea3f-4ee5-4298-d429-378543828c71"
   },
   "outputs": [
    {
     "name": "stdout",
     "output_type": "stream",
     "text": [
      "0.0006296096420219463\n"
     ]
    }
   ],
   "source": [
    "# Execute functions\n",
    "print(SimEuclid(df_counts, 0,1))"
   ]
  },
  {
   "cell_type": "code",
   "execution_count": 42,
   "metadata": {
    "colab": {
     "base_uri": "https://localhost:8080/"
    },
    "id": "JSAH4saX7_Ho",
    "jupyter": {
     "outputs_hidden": false
    },
    "outputId": "3bf5ea3f-4ee5-4298-d429-378543828c71"
   },
   "outputs": [
    {
     "name": "stdout",
     "output_type": "stream",
     "text": [
      "0.0005316828473355942\n"
     ]
    }
   ],
   "source": [
    "# Execute functions\n",
    "print(SimEuclid(df_counts, 1, 5))"
   ]
  },
  {
   "cell_type": "code",
   "execution_count": 43,
   "metadata": {},
   "outputs": [
    {
     "name": "stdout",
     "output_type": "stream",
     "text": [
      "64.5 µs ± 2.31 µs per loop (mean ± std. dev. of 7 runs, 10000 loops each)\n"
     ]
    }
   ],
   "source": [
    "%timeit SimEuclid(df_counts, 1, 5)"
   ]
  },
  {
   "cell_type": "markdown",
   "metadata": {
    "id": "fmX_9c0t7_Hp"
   },
   "source": [
    "### 3.6. EXERCICI F\n",
    "\n",
    "En aquest exercici desenvoluparem un sistema de recomanació col·laboratiu **basat en usuaris**. \n",
    "\n",
    "La funció principal, ``getRecommendationsUser``, ha de tenir com a entrada una taula de puntuacions, un ``user_id``, el tipus de mesura de semblança (Euclidiana) que volem usar, el nombre `m` d'usuaris semblants que volem per fer la recomanació i el nombre ``n`` de recomanacions que volem. \n",
    "\n",
    "Exemple: ``getRecommendationsUser(data, 2, 50, 10, SimEuclid)``\n",
    "\n",
    "Com a sortida ha de donar la llista de les $n$ millors pel·lícules que li podriem recomanar segons la seva semblança amb altres usuaris.\n",
    "\n",
    "> *Nota 1: S'ha d'evitar comparar ``user_id`` a ell mateix.*\n",
    "\n",
    "> *Nota 2: Recordeu que en Python podem passar funcions com a paràmetres d'una funció.*"
   ]
  },
  {
   "cell_type": "markdown",
   "metadata": {},
   "source": [
    "#### EXERCICI F.1\n",
    "\n",
    "+ Computa la *score* de similitud del usuari desitjat (userID) respecte tots els altres i retorna un diccionari dels $m$ usuaris més propers i el seu *score*, que seran els que usarem per fer la recomanació. Normalitzeu els *scores* de sortida."
   ]
  },
  {
   "cell_type": "code",
   "execution_count": 44,
   "metadata": {},
   "outputs": [],
   "source": [
    "def find_similar_users(DataFrame, userID, m, simfunction):\n",
    "    \"\"\"\n",
    "    Retorna un diccionari d'usuaris similars amb les scores corresponents.\n",
    "    \n",
    "    :param DataFrame: dataframe que conté totes les dades\n",
    "    :param userID: usuari respecte al qual fem la recomanació\n",
    "    :param m: nombre d'usuaris que volem per fer la recomanació\n",
    "    :param similarity: mesura de similitud\n",
    "    :return : dictionary\n",
    "    \"\"\"\n",
    "    \n",
    "    # la vostra solució aquí\n",
    "    \"\"\"Creem un DataFrame amb els usuaris (excepte userID), calculem la similaritat respecte userID i prenem les m majors.\"\"\"\n",
    "    scores = pd.DataFrame(index=DataFrame.index, columns=['similarity'])\n",
    "    scores.drop(userID, inplace=True)\n",
    "    scores = scores.apply(lambda x:SimEuclid(DataFrame,userID,x.name), axis=1).sort_values(ascending=False).head(m)\n",
    "    \n",
    "    \"\"\"Normalitzem les similituds perquè sumin 1 i retornem el resultat en un diccionari si hi ha algun usuari comparable.\"\"\"\n",
    "    suma = scores.sum()\n",
    "    return {} if suma == 0 else (scores/suma).to_dict()"
   ]
  },
  {
   "cell_type": "code",
   "execution_count": 45,
   "metadata": {},
   "outputs": [
    {
     "name": "stdout",
     "output_type": "stream",
     "text": [
      "0:00:00.422316\n"
     ]
    }
   ],
   "source": [
    "t = datetime.datetime.now()\n",
    "sim_dict = find_similar_users(df_counts, 2, 10, SimEuclid)\n",
    "t = datetime.datetime.now()-t\n",
    "print(str(t))"
   ]
  },
  {
   "cell_type": "code",
   "execution_count": 46,
   "metadata": {
    "scrolled": true
   },
   "outputs": [
    {
     "data": {
      "text/plain": [
       "{4447: 0.10868178502623507,\n",
       " 1646: 0.10748625569533282,\n",
       " 5830: 0.10106784766151948,\n",
       " 2270: 0.09904834121693383,\n",
       " 1903: 0.09883902906949076,\n",
       " 3271: 0.09823974081452751,\n",
       " 4276: 0.09823495519138713,\n",
       " 1879: 0.09634838620212503,\n",
       " 3625: 0.09614044342242399,\n",
       " 650: 0.0959132157000244}"
      ]
     },
     "execution_count": 46,
     "metadata": {},
     "output_type": "execute_result"
    }
   ],
   "source": [
    "sim_dict"
   ]
  },
  {
   "cell_type": "markdown",
   "metadata": {},
   "source": [
    "+ Creieu que el temps de procés és assumible? Quan trigaria si ho fem per tots els usuaris?"
   ]
  },
  {
   "cell_type": "code",
   "execution_count": 47,
   "metadata": {
    "scrolled": true
   },
   "outputs": [
    {
     "data": {
      "text/plain": [
       "45.3"
      ]
     },
     "execution_count": 47,
     "metadata": {},
     "output_type": "execute_result"
    }
   ],
   "source": [
    "\"\"\"Temps (en minuts) de processar tots els usuaris tenint en compte que per cadascun triguem al voltant de 0.45 segons.\"\"\"\n",
    "len(df_counts)*0.45/60"
   ]
  },
  {
   "cell_type": "markdown",
   "metadata": {},
   "source": [
    "> **RESPOSTA**: Com hem optimitzat el càlcul de la similitud no obtenim una quantitat extremadament gran de temps. De fet, sí seria assumible esperar tres quarts d'hora per processar les dades si no ho haguéssim de fer gaires cops (si per exemple recalculéssim les similaritats a la nit pel dia següent). Tot i això, podem millorar aquest valor com veurem a continuació!"
   ]
  },
  {
   "cell_type": "markdown",
   "metadata": {},
   "source": [
    "+ Per solucionar el problema anterior, construeix una matriu de mida $U \\times U$ on cada posició $(i,j)$ indiqui la distància entre l'element $i$ i el $j$. Així doncs, si estàs fent un recomanador basat en usuaris, `matriu[2, 3]` contindrà la similitud entre l'usuari 2 i el 3. Calcula quant triga la teva implementació. "
   ]
  },
  {
   "cell_type": "markdown",
   "metadata": {},
   "source": [
    "Compareu aquestes dues opcions des del punt de vista de temps de càlcul:\n",
    "\n",
    "* Feu una funció que construeixi ``similarity_matrix1`` a partir d'un doble ``for`` sobre els usuaris i que calculi la distància entre usuaris com la distància entre els subvectors formats pels elements en comú dels dos usuaris.\n",
    "* Feu una funció que construeixi ``similarity_matrix2`` *aproximadament*:\n",
    " * Substituïnt els ``NaN`` corresponents a ítems no avaluats per ``0``.\n",
    " * Treballant específicament amb operacions matricials. En aquest link podeu trobar indicacions de com fer-ho: https://jaykmody.com/blog/distance-matrices-with-numpy/\n",
    "\n"
   ]
  },
  {
   "cell_type": "code",
   "execution_count": 48,
   "metadata": {},
   "outputs": [],
   "source": [
    "def compute_distance(fixed_arr, var_arr):\n",
    "    \"\"\"\n",
    "    Donats dos vectors, calcula la distància entre els subvectors formats \n",
    "    pels elements en comú. \n",
    "    \"\"\"\n",
    "    \n",
    "    # la vostra solució aquí\n",
    "    \"\"\"Fem el mateix que a SimEuclid per dos vectors concrets.\"\"\"\n",
    "    mask = ~np.isnan(fixed_arr) & ~np.isnan(var_arr)\n",
    "    fixed_arr = fixed_arr[mask]\n",
    "    var_arr = var_arr[mask]\n",
    "    \n",
    "    \"\"\"Ponderem la similaritat en base al nombre de pel·lícules puntuades en comú.\"\"\"\n",
    "    return len(fixed_arr) * (1 / (1 + distEuclid(fixed_arr, var_arr))) / num_movies"
   ]
  },
  {
   "cell_type": "code",
   "execution_count": 49,
   "metadata": {},
   "outputs": [],
   "source": [
    "def similarity_matrix1(compute_distance, df_counts):\n",
    "    \"\"\"\n",
    "    Retorna una matriu de mida M x M on cada posició \n",
    "    indica la similitud entre usuaris (resp. ítems).\n",
    "    \n",
    "    :param df_counts: df amb els valors que cada usuari li ha donat a una peli.\n",
    "    :return : Matriu numpy de mida M x M amb les similituds.\n",
    "    \"\"\"\n",
    "    \n",
    "    # la vostra solució aquí\n",
    "    \"\"\"\n",
    "    Fem un doble for per calcular les similaritats aprofitant la simetria i ometent la diagonal.\n",
    "    V: Matriu amb les valoracions. M: Nombre d'usuaris.\n",
    "    \"\"\"\n",
    "    V = df_counts.values\n",
    "    M = V.shape[0]\n",
    "    S = np.zeros((M,M))\n",
    "    for i in range(M-1):\n",
    "        for j in range(i+1,M):\n",
    "            sim = compute_distance(V[i],V[j])\n",
    "            S[i,j] = sim\n",
    "            S[j,i] = sim\n",
    "    return S"
   ]
  },
  {
   "cell_type": "code",
   "execution_count": 50,
   "metadata": {
    "tags": []
   },
   "outputs": [
    {
     "name": "stdout",
     "output_type": "stream",
     "text": [
      "Temps amb doble for: 0:04:09.423033\n"
     ]
    }
   ],
   "source": [
    "t = datetime.datetime.now()\n",
    "sim_for = similarity_matrix1(compute_distance, df_counts)\n",
    "t1 = datetime.datetime.now()-t\n",
    "print(\"Temps amb doble for:\",str(t1))"
   ]
  },
  {
   "cell_type": "markdown",
   "metadata": {},
   "source": [
    "Veiem que en només 4 minuts tenim totes les similaritats entre usuaris. Ara, si volem trobar usuaris similars per fer una recomanació simplement consultarem aquesta matriu! \n",
    "\n",
    "D'altra banda, podem millorar aquest temps amb operacions matricials (**vam comentar a classe que el càlcul matricial, si substituïm les valoracions inexistents per 0, dona valors de similaritat aproximats. Hem trobat, però, una manera d'operar matricialment obtenint, a més, els valors correctes. Es triga uns 3 cops més que amb la similaritat aproximada però en una mica més de 4 segons ho tenim**).\n",
    "\n",
    "Notem que podem expressar la distància euclidiana entre els vectors de valoracions dels usuaris $i,j$ de la següent manera (on $I$ és el nombre d'ítems, pel·lícules en el nostre cas, i $v_s$ és el vector de les valoracions de l'usuari $s$):\n",
    "\n",
    "$$\\text{dist}_{ij} = \\sqrt{\\sum_{k=0}^{I-1} (v_{ik} - v_{jk})^2} =  \\sqrt{\\sum_{k=0}^{I-1} v_{ik}^2 - 2v_{ik}v_{jk} + v_{jk}^2} = \\sqrt{v_i·v_i-2v_i·v_j+v_j·v_j}$$\n",
    "             \n",
    "El problema amb els NaN és que, si l'usuari $i$ ha puntuat la pel·lícula 1 però l'usuari $j$ no, per $k = 1$ tindrem que el terme $v_{ik}^2$ contribueix al sumatori mentres que $- 2v_{ik}v_{jk} + v_{jk}^2$ és 0. És a dir, estarem sumant un terme quadràtic que no correspon (aquest és el motiu pel qual es va afirmar que el resultat matricial és aproximat i no exacte). Per solucionar-ho, determinarem la matriu booleana $B = (b_{il})$ corresponent a les valoracions existents dels usuaris (1 si per l'usuari $i$ s'ha valorat la pel·lícula $l$, 0 en cas que el valor sigui NaN). Transposant-la i multiplicant matricialment per la matriu formada pels quadrats de la matriu de valoracions $V$ ($V*V$, on el producte és element a element), obtenim la següent matriu:\n",
    "\n",
    "$X = (x_{ij})_{i,j=0,...,M-1}$, on $x_{ij} = \\sum_{k=0}^{I-1} v_{ik}^2b_{jk}$, on $M$ és el nombre d'usuaris\n",
    "\n",
    "Per tant, aquesta matriu tindrà, a la posició $(i,j)$, la suma dels quadrats de les valoracions de l'usuari $i$ d'aquelles pel·lícules puntuades tant per ell com per l'usuari $j$. Amb això ja tenim el problema resolt: a la matriu $X$ tenim, a la fila $i$, columna $j$, el producte escalar $v_i·v_i$ (valoracions usuari $i$) amb només les valoracions de les pel·lícules puntuades per l'usuari $j$. Transposem $X$ per poder sumar, a la posició $(i,j)$, el producte escalar $v_j·v_j$ (valoracions usuari $j$) amb únicament les valoracions de les pel·lícules puntuades per l'usuari $i$. Pels productes creuats ($XY$) fem el producte matricial $VV^T$.\n",
    "\n",
    "Finalment, per obtenir la similaritat ponderada segons la longitud del vector de pel·lícules vistes en comú per dos usuaris, multipliquem matricialment $BB^T$:\n",
    "\n",
    "$ BB^T = (w_{ij})_{i,j=0,...,M-1}$, on $w_{ij} = \\sum_{k=0}^{I-1} b_{ik}b_{jk}$\n",
    "\n",
    "És a dir, a la posició $(i,j)$ obtenim quantes pel·lícules tenen puntuades en comú els usuaris $i,j$, doncs $b_{ik}b_{jk}$ només és 1 (*True*) quan ambdós factors son 1.\n",
    "\n",
    "Anem a codificar aquest *approach*, mirarem quant triguem i compararem element a element amb la matriu de similaritat obtinguda amb ``similarity_matrix1``, per veure si estem calculant les similaritats correctament (i molt més ràpid!)."
   ]
  },
  {
   "cell_type": "code",
   "execution_count": 51,
   "metadata": {},
   "outputs": [],
   "source": [
    "\"\"\"Obtenim df_counts amb els NaN a 0.\"\"\"\n",
    "df_counts = df_counts.fillna(0)"
   ]
  },
  {
   "cell_type": "code",
   "execution_count": 52,
   "metadata": {},
   "outputs": [],
   "source": [
    "def similarity_matrix2(df_counts):\n",
    "    \"\"\"\n",
    "    Retorna una matriu de mida M x M on cada posició \n",
    "    indica la similitud entre usuaris (resp. ítems).\n",
    "    \n",
    "    :param df_counts: df amb els valor que cada usuari li ha donat a una peli.\n",
    "    :return : Matriu numpy de mida M x M amb les similituds.\n",
    "    \"\"\"\n",
    "    \n",
    "    # la vostra solució aquí\n",
    "    \"\"\"Determinem les matrius V, B, X, XY esmentades amunt.\"\"\"\n",
    "    V = df_counts.values\n",
    "    B = (V!=0).astype(float)\n",
    "    X = np.matmul(V*V, B.T)\n",
    "    XY = np.matmul(V, V.T)\n",
    "    \n",
    "    \"\"\"Operem, notem que cal restar la identitat, doncs la similaritat entre d'un usuari amb ell mateix és 1.\"\"\"\n",
    "    return np.matmul(B, B.T) * ((1/(1 + np.sqrt(X - 2*XY + X.T))) - np.identity(V.shape[0])) / num_movies"
   ]
  },
  {
   "cell_type": "code",
   "execution_count": 53,
   "metadata": {},
   "outputs": [
    {
     "name": "stdout",
     "output_type": "stream",
     "text": [
      "Operant matricialment: 0:00:04.292906\n"
     ]
    }
   ],
   "source": [
    "t = datetime.datetime.now()\n",
    "sim_mat = similarity_matrix2(df_counts)\n",
    "t2 = datetime.datetime.now()-t\n",
    "print(\"Operant matricialment:\",str(t2))"
   ]
  },
  {
   "cell_type": "code",
   "execution_count": 54,
   "metadata": {},
   "outputs": [
    {
     "data": {
      "text/plain": [
       "True"
      ]
     },
     "execution_count": 54,
     "metadata": {},
     "output_type": "execute_result"
    }
   ],
   "source": [
    "\"\"\"Comprovem que la similaritat amb el doble for ens dona el mateix que amb el mètode matricial implementat.\"\"\"\n",
    "(sim_for == sim_mat).all()"
   ]
  },
  {
   "cell_type": "markdown",
   "metadata": {},
   "source": [
    "Així, a partir d'ara treballarem amb la matriu de similaritat obtinguda usant la funció ``similarity_matrix2`` (tenim el mateix resultat que amb el doble *for* en 4 minuts menys):"
   ]
  },
  {
   "cell_type": "code",
   "execution_count": 55,
   "metadata": {},
   "outputs": [],
   "source": [
    "sim = sim_mat"
   ]
  },
  {
   "cell_type": "markdown",
   "metadata": {},
   "source": [
    "+ Ara torna a re-fer la funció ``find_similar_users`` i mira quant triga. \n",
    "\n",
    "> Recorda que les scores han d'estar normalitzades!"
   ]
  },
  {
   "cell_type": "code",
   "execution_count": 56,
   "metadata": {},
   "outputs": [],
   "source": [
    "def find_similar_users(DataFrame, sim_mx, userID, m):\n",
    "    \"\"\"\n",
    "    Retorna un diccionari de usuaris similars amb les scores corresponents.\n",
    "    \n",
    "    :param DataFrame: dataframe que conté totes les dades\n",
    "    :param sim_mx: matriu de similaritat\n",
    "    :param userID: usuari respecte al qual fem la recomanació\n",
    "    :param m: nombre d'usuaris que volem per fer la recomanació\n",
    "    :return : dictionary\n",
    "    \"\"\"\n",
    "    \n",
    "    # la vostra solució aquí\n",
    "    \"\"\"Ordenem les similaritats i prenem els m usuaris que la maximitzen.\"\"\"\n",
    "    index = np.nonzero(DataFrame.index == userID)[0][0]\n",
    "    I = np.argsort(sim_mx[index])[-m:]\n",
    "    scores = sim_mx[index,I]\n",
    "    \n",
    "    \"\"\"Suma 0 => Cap usuari similar. En cas contrari normalitzem i convertim a diccionari.\"\"\"\n",
    "    suma = scores.sum()\n",
    "    return {} if suma == 0 else dict(zip(DataFrame.iloc[I].index,scores/suma))"
   ]
  },
  {
   "cell_type": "code",
   "execution_count": 57,
   "metadata": {},
   "outputs": [
    {
     "name": "stdout",
     "output_type": "stream",
     "text": [
      "0:00:00.001791\n"
     ]
    }
   ],
   "source": [
    "t = datetime.datetime.now()\n",
    "sim_dict = find_similar_users(df_counts, sim, 2, 10)\n",
    "t = datetime.datetime.now()-t\n",
    "print(str(t))"
   ]
  },
  {
   "cell_type": "code",
   "execution_count": 58,
   "metadata": {},
   "outputs": [
    {
     "data": {
      "text/plain": [
       "{650: 0.0959132157000244,\n",
       " 3625: 0.09614044342242399,\n",
       " 1879: 0.09634838620212503,\n",
       " 4276: 0.09823495519138713,\n",
       " 3271: 0.09823974081452751,\n",
       " 1903: 0.09883902906949076,\n",
       " 2270: 0.09904834121693383,\n",
       " 5830: 0.10106784766151948,\n",
       " 1646: 0.10748625569533282,\n",
       " 4447: 0.10868178502623507}"
      ]
     },
     "execution_count": 58,
     "metadata": {},
     "output_type": "execute_result"
    }
   ],
   "source": [
    "sim_dict"
   ]
  },
  {
   "cell_type": "markdown",
   "metadata": {},
   "source": [
    "Notem que aquest diccionari és el mateix que l'obtingut amb la primera versió de ``find_similar_users`` (tot i que aquí tenim el diccionari en ordre creixent segons les similaritats normalitzades i abans era decreixent). Notem que, de 0.422316 segons hem passat a 0.001791."
   ]
  },
  {
   "cell_type": "markdown",
   "metadata": {},
   "source": [
    "#### EXERCICI F.2\n",
    "\n",
    "+ Computa les recomanacions per un usuari concret a partir dels ratings dels seus $m$ usuaris més propers. \n",
    " * Fes primer una funció ``weighted_average`` que retorni un diccionari del tipus ``{peli_id: score_predit}`` amb la puntuació predita de cada ítem a partir de les puntuacions dels $m$ usuaris més propers i de la seva semblança a l'usuari considerat.\n",
    " * Fes després una funció ``getRecommendationsUser`` que usant la funció anterior retorni un ``df`` amb els $n$ ítems amb més score i els seus scores."
   ]
  },
  {
   "cell_type": "code",
   "execution_count": 59,
   "metadata": {},
   "outputs": [],
   "source": [
    "def weighted_average(DataFrame, user, sim_mx, m):\n",
    "    \"\"\"\n",
    "    :param DataFrame: dataframe que conté totes les dades\n",
    "    :param user: usuari al qual fem la recomanació\n",
    "    :param sim_mx: similarity_matrix\n",
    "    :param m: nombre d'usuaris semblants a tenir en compte per les recomanacions\n",
    "    :return: diccionari {peli_id: score_predit}\n",
    "    \"\"\"\n",
    "    \n",
    "    # la vostra solució aquí\n",
    "    \"\"\"\n",
    "    U: m usuaris més similars. S: Similaritat entre usuaris d'U i user. \n",
    "    R: Rating de pel·lícules ponderat amb les similaritats.\n",
    "    \"\"\"\n",
    "    U = find_similar_users(DataFrame, sim_mx, user, m)\n",
    "    S = np.array(list(U.values())).reshape(-1,1)\n",
    "    R = S*DataFrame.loc[np.array(list(U.keys()))].values\n",
    "    \n",
    "    \"\"\"\n",
    "    Prenem la suma de les valoracions ponderades per cada film. Per tal de poder comparar \n",
    "    aquestes valoracions cal normalitzar per la suma de les similaritats dels usuaris implicats.\n",
    "    \"\"\"\n",
    "    scores = np.zeros(R.shape[1])\n",
    "    sim_sum = np.sum(S * (R!=0), axis=0)\n",
    "    mask = sim_sum != 0\n",
    "    scores[mask] = np.sum(R,axis=0)[mask] / sim_sum[mask]\n",
    "    return dict(zip(DataFrame.columns,scores))"
   ]
  },
  {
   "cell_type": "code",
   "execution_count": 60,
   "metadata": {},
   "outputs": [],
   "source": [
    "def getRecommendationsUser(DataFrame, user, sim_mx, n, m):\n",
    "    \"\"\"\n",
    "    :param DataFrame: dataframe que conté totes les dades\n",
    "    :param user: usuari al qual fem la recomanació\n",
    "    :param sim_mx: similarity_function\n",
    "    :param n: nombre de pelis a recomanar\n",
    "    :param m: nombre d'usuaris semblants a tenir en compte per les recomanacions\n",
    "    :return : dataframe de pel·lícules amb els scores predits\n",
    "    \"\"\"\n",
    "    \n",
    "    # la vostra solució aquí\n",
    "    \"\"\"\n",
    "    weighted_average retorna un diccionari amb els scores predits per cada pel·lícula (s).\n",
    "    Només cal passar aquesta informació a un DataFrame i prendre els n films amb major score.\n",
    "    \"\"\"\n",
    "    s = weighted_average(DataFrame, user, sim_mx, m)\n",
    "    return pd.DataFrame(data=s.values(),index=s.keys(),columns=['score']).sort_values(by='score',ascending=False).head(n)"
   ]
  },
  {
   "cell_type": "code",
   "execution_count": 61,
   "metadata": {},
   "outputs": [
    {
     "name": "stdout",
     "output_type": "stream",
     "text": [
      "0:00:00.008527\n"
     ]
    }
   ],
   "source": [
    "t = datetime.datetime.now()\n",
    "user_prediction = getRecommendationsUser(df_counts, 3, sim, 10, 50)\n",
    "t = datetime.datetime.now()-t\n",
    "print(str(t))"
   ]
  },
  {
   "cell_type": "code",
   "execution_count": 62,
   "metadata": {},
   "outputs": [
    {
     "data": {
      "text/html": [
       "<div>\n",
       "<style scoped>\n",
       "    .dataframe tbody tr th:only-of-type {\n",
       "        vertical-align: middle;\n",
       "    }\n",
       "\n",
       "    .dataframe tbody tr th {\n",
       "        vertical-align: top;\n",
       "    }\n",
       "\n",
       "    .dataframe thead th {\n",
       "        text-align: right;\n",
       "    }\n",
       "</style>\n",
       "<table border=\"1\" class=\"dataframe\">\n",
       "  <thead>\n",
       "    <tr style=\"text-align: right;\">\n",
       "      <th></th>\n",
       "      <th>score</th>\n",
       "    </tr>\n",
       "  </thead>\n",
       "  <tbody>\n",
       "    <tr>\n",
       "      <th>721</th>\n",
       "      <td>5.0</td>\n",
       "    </tr>\n",
       "    <tr>\n",
       "      <th>3287</th>\n",
       "      <td>5.0</td>\n",
       "    </tr>\n",
       "    <tr>\n",
       "      <th>2008</th>\n",
       "      <td>5.0</td>\n",
       "    </tr>\n",
       "    <tr>\n",
       "      <th>909</th>\n",
       "      <td>5.0</td>\n",
       "    </tr>\n",
       "    <tr>\n",
       "      <th>1984</th>\n",
       "      <td>5.0</td>\n",
       "    </tr>\n",
       "    <tr>\n",
       "      <th>1950</th>\n",
       "      <td>5.0</td>\n",
       "    </tr>\n",
       "    <tr>\n",
       "      <th>3600</th>\n",
       "      <td>5.0</td>\n",
       "    </tr>\n",
       "    <tr>\n",
       "      <th>643</th>\n",
       "      <td>5.0</td>\n",
       "    </tr>\n",
       "    <tr>\n",
       "      <th>1757</th>\n",
       "      <td>5.0</td>\n",
       "    </tr>\n",
       "    <tr>\n",
       "      <th>1753</th>\n",
       "      <td>5.0</td>\n",
       "    </tr>\n",
       "  </tbody>\n",
       "</table>\n",
       "</div>"
      ],
      "text/plain": [
       "      score\n",
       "721     5.0\n",
       "3287    5.0\n",
       "2008    5.0\n",
       "909     5.0\n",
       "1984    5.0\n",
       "1950    5.0\n",
       "3600    5.0\n",
       "643     5.0\n",
       "1757    5.0\n",
       "1753    5.0"
      ]
     },
     "execution_count": 62,
     "metadata": {},
     "output_type": "execute_result"
    }
   ],
   "source": [
    "user_prediction"
   ]
  },
  {
   "cell_type": "markdown",
   "metadata": {},
   "source": [
    "### 3.7. EXERCICI G\n"
   ]
  },
  {
   "cell_type": "markdown",
   "metadata": {},
   "source": [
    "A continuació usarem la metrica **Mean Absolute Error (MAE)** per evaluar el nostre sistema. Aquesta mètrica ens permetrà mesurar la diferencia entre dues llistes donat un usuari: \n",
    "+ La llista amb els ratings originals d'un usuari donat\n",
    "+ La llista de les prediccions generades per aquest usuari"
   ]
  },
  {
   "cell_type": "markdown",
   "metadata": {},
   "source": [
    "#### EXERCICI G.1\n",
    "\n",
    "+ Treu el 10% dels usuaris i reserva aquests en una variable anomenada ``test_set`` i la resta en una variable anomenada ``train_set``."
   ]
  },
  {
   "cell_type": "code",
   "execution_count": 63,
   "metadata": {},
   "outputs": [],
   "source": [
    "# la vostra solució aquí\n",
    "\"\"\"Fixem el valor de la llavor per no obtenir inconsistències amb el text redactat en cas de reexecutar el notebook.\"\"\"\n",
    "np.random.seed(654)\n",
    "\n",
    "\"\"\"Obtenim una mostra del 10% dels usuaris (test_set) i els eliminem del conjunt de dades total (train_set).\"\"\"\n",
    "test_rate = 0.1\n",
    "users = data['user_id'].unique()\n",
    "test_set = data[data['user_id'].isin(np.random.choice(users, size=int(len(users)*test_rate), replace=False))]\n",
    "train_set = data.drop(test_set.index)\n",
    "\n",
    "assert len(test_set) + len(train_set) == len(data)"
   ]
  },
  {
   "cell_type": "markdown",
   "metadata": {},
   "source": [
    "+ Què passarà si calculo la matriu de similitud amb ``train_set`` i després intento predir pels usuaris de ``test_set``??"
   ]
  },
  {
   "cell_type": "markdown",
   "metadata": {},
   "source": [
    "> **Resposta**: Que no rebrem cap predicció rellevant perquè no tenim cap dada dels usuaris del conjunt de test per entrenar."
   ]
  },
  {
   "cell_type": "markdown",
   "metadata": {},
   "source": [
    "#### EXERCICI G.2"
   ]
  },
  {
   "cell_type": "markdown",
   "metadata": {},
   "source": [
    "+ Selecciona aproximadament el 80% de les interaccions de cada usuari de test i junta-les al ``train_set``. Podem ara podem evaluar el sistema?\n",
    "\n",
    "\n",
    "> Com la pràctica és molt llarga us donem el codi per un usuari donat i vosaltres només heu de crear la funció que, per cada usuari, afagi el 80% de les intraccions i les unifiqui al dataframe de train.\n",
    "\n",
    "> **Resposta**: Ara sí podrem. Veurem quina aproximació tenim del 20% d'interaccions que no veu el conjunt d'entrenament dels usuaris de test."
   ]
  },
  {
   "cell_type": "code",
   "execution_count": 64,
   "metadata": {},
   "outputs": [
    {
     "data": {
      "text/html": [
       "<div>\n",
       "<style scoped>\n",
       "    .dataframe tbody tr th:only-of-type {\n",
       "        vertical-align: middle;\n",
       "    }\n",
       "\n",
       "    .dataframe tbody tr th {\n",
       "        vertical-align: top;\n",
       "    }\n",
       "\n",
       "    .dataframe thead th {\n",
       "        text-align: right;\n",
       "    }\n",
       "</style>\n",
       "<table border=\"1\" class=\"dataframe\">\n",
       "  <thead>\n",
       "    <tr style=\"text-align: right;\">\n",
       "      <th></th>\n",
       "      <th>user_id</th>\n",
       "      <th>movie_id</th>\n",
       "      <th>rating</th>\n",
       "      <th>timestamp</th>\n",
       "      <th>gender</th>\n",
       "      <th>age</th>\n",
       "      <th>occupation</th>\n",
       "      <th>zip</th>\n",
       "      <th>title</th>\n",
       "      <th>genres</th>\n",
       "    </tr>\n",
       "  </thead>\n",
       "  <tbody>\n",
       "    <tr>\n",
       "      <th>3</th>\n",
       "      <td>14</td>\n",
       "      <td>1104</td>\n",
       "      <td>4</td>\n",
       "      <td>978199279</td>\n",
       "      <td>M</td>\n",
       "      <td>25</td>\n",
       "      <td>7</td>\n",
       "      <td>22903</td>\n",
       "      <td>One Flew Over the Cuckoo's Nest (1975)</td>\n",
       "      <td>Drama</td>\n",
       "    </tr>\n",
       "    <tr>\n",
       "      <th>5</th>\n",
       "      <td>17</td>\n",
       "      <td>1104</td>\n",
       "      <td>4</td>\n",
       "      <td>978156168</td>\n",
       "      <td>F</td>\n",
       "      <td>18</td>\n",
       "      <td>3</td>\n",
       "      <td>95825</td>\n",
       "      <td>One Flew Over the Cuckoo's Nest (1975)</td>\n",
       "      <td>Drama</td>\n",
       "    </tr>\n",
       "    <tr>\n",
       "      <th>6</th>\n",
       "      <td>18</td>\n",
       "      <td>1104</td>\n",
       "      <td>5</td>\n",
       "      <td>982730936</td>\n",
       "      <td>M</td>\n",
       "      <td>1</td>\n",
       "      <td>10</td>\n",
       "      <td>48073</td>\n",
       "      <td>One Flew Over the Cuckoo's Nest (1975)</td>\n",
       "      <td>Drama</td>\n",
       "    </tr>\n",
       "    <tr>\n",
       "      <th>23</th>\n",
       "      <td>87</td>\n",
       "      <td>1104</td>\n",
       "      <td>5</td>\n",
       "      <td>977694161</td>\n",
       "      <td>F</td>\n",
       "      <td>45</td>\n",
       "      <td>1</td>\n",
       "      <td>02476</td>\n",
       "      <td>One Flew Over the Cuckoo's Nest (1975)</td>\n",
       "      <td>Drama</td>\n",
       "    </tr>\n",
       "    <tr>\n",
       "      <th>24</th>\n",
       "      <td>88</td>\n",
       "      <td>1104</td>\n",
       "      <td>5</td>\n",
       "      <td>977683596</td>\n",
       "      <td>F</td>\n",
       "      <td>56</td>\n",
       "      <td>9</td>\n",
       "      <td>85749</td>\n",
       "      <td>One Flew Over the Cuckoo's Nest (1975)</td>\n",
       "      <td>Drama</td>\n",
       "    </tr>\n",
       "  </tbody>\n",
       "</table>\n",
       "</div>"
      ],
      "text/plain": [
       "    user_id  movie_id  rating  timestamp gender  age  occupation    zip  \\\n",
       "3        14      1104       4  978199279      M   25           7  22903   \n",
       "5        17      1104       4  978156168      F   18           3  95825   \n",
       "6        18      1104       5  982730936      M    1          10  48073   \n",
       "23       87      1104       5  977694161      F   45           1  02476   \n",
       "24       88      1104       5  977683596      F   56           9  85749   \n",
       "\n",
       "                                     title genres  \n",
       "3   One Flew Over the Cuckoo's Nest (1975)  Drama  \n",
       "5   One Flew Over the Cuckoo's Nest (1975)  Drama  \n",
       "6   One Flew Over the Cuckoo's Nest (1975)  Drama  \n",
       "23  One Flew Over the Cuckoo's Nest (1975)  Drama  \n",
       "24  One Flew Over the Cuckoo's Nest (1975)  Drama  "
      ]
     },
     "execution_count": 64,
     "metadata": {},
     "output_type": "execute_result"
    }
   ],
   "source": [
    "test_set.head()"
   ]
  },
  {
   "cell_type": "code",
   "execution_count": 65,
   "metadata": {},
   "outputs": [
    {
     "data": {
      "text/plain": [
       "user_id\n",
       "10      27.4\n",
       "13       5.0\n",
       "14      40.2\n",
       "17      61.0\n",
       "18      51.0\n",
       "        ... \n",
       "5997    31.6\n",
       "6024    54.2\n",
       "6029    23.0\n",
       "6030    10.2\n",
       "6037     4.0\n",
       "Name: movie_id, Length: 604, dtype: float64"
      ]
     },
     "execution_count": 65,
     "metadata": {},
     "output_type": "execute_result"
    }
   ],
   "source": [
    "# Agafem el 20% de les pelis que ha consumit cada usuari de test \n",
    "groupby_count = test_set.groupby('user_id')['movie_id'].count()*0.2\n",
    "groupby_count"
   ]
  },
  {
   "cell_type": "markdown",
   "metadata": {},
   "source": [
    "Seleccionem la posició 1 i aquest user_id serà el que usarem pel codi d'exemple (que després haureu de replicar)."
   ]
  },
  {
   "cell_type": "code",
   "execution_count": 66,
   "metadata": {},
   "outputs": [
    {
     "data": {
      "text/plain": [
       "user_id     13.0\n",
       "movie_id     5.0\n",
       "Name: 1, dtype: float64"
      ]
     },
     "execution_count": 66,
     "metadata": {},
     "output_type": "execute_result"
    }
   ],
   "source": [
    "groupby_count.reset_index().iloc[1]"
   ]
  },
  {
   "cell_type": "code",
   "execution_count": 67,
   "metadata": {},
   "outputs": [],
   "source": [
    "n_test_samples = int(groupby_count.reset_index().iloc[1]['movie_id'])\n",
    "u = groupby_count.reset_index().iloc[1]['user_id']"
   ]
  },
  {
   "cell_type": "code",
   "execution_count": 68,
   "metadata": {},
   "outputs": [
    {
     "name": "stdout",
     "output_type": "stream",
     "text": [
      "TOTAL SAMPLES OF THE USER: 25\n",
      "TOTAL SAMPLES OF THE USER IN TEST SET: 5\n"
     ]
    }
   ],
   "source": [
    "test_set_user = test_set[test_set['user_id'] == u]\n",
    "frame_test = test_set_user.sample(n_test_samples)\n",
    "print(\"TOTAL SAMPLES OF THE USER: \" + str(len(test_set_user)))\n",
    "print(\"TOTAL SAMPLES OF THE USER IN TEST SET: \" + str(len(frame_test)))"
   ]
  },
  {
   "cell_type": "code",
   "execution_count": 69,
   "metadata": {},
   "outputs": [
    {
     "data": {
      "text/plain": [
       "25"
      ]
     },
     "execution_count": 69,
     "metadata": {},
     "output_type": "execute_result"
    }
   ],
   "source": [
    "len(test_set_user.index)"
   ]
  },
  {
   "cell_type": "code",
   "execution_count": 70,
   "metadata": {},
   "outputs": [
    {
     "name": "stdout",
     "output_type": "stream",
     "text": [
      "TOTAL SAMPLES OF THE USER IN TRAIN SET: 20\n"
     ]
    }
   ],
   "source": [
    "frame_train = test_set_user[~test_set_user.index.isin(frame_test.index)]\n",
    "print(\"TOTAL SAMPLES OF THE USER IN TRAIN SET: \" + str(len(frame_train)))"
   ]
  },
  {
   "cell_type": "code",
   "execution_count": 71,
   "metadata": {},
   "outputs": [],
   "source": [
    "assert len(frame_train) + len(frame_test) == len(test_set_user)"
   ]
  },
  {
   "cell_type": "code",
   "execution_count": 72,
   "metadata": {},
   "outputs": [],
   "source": [
    "def add_testdata(traindf, test_set):\n",
    "    \"\"\"\n",
    "    :param traindf: dataframe que conté les dades de train\n",
    "    :param test_set: dataframe que conté les dades de test\n",
    "\n",
    "    :return : \n",
    "        - :param 1st: dataframe que conté les dades de train juntament amb el 80% de test seleccionat\n",
    "        - :param 2nd: dataframe que conté les dades de test que queden (20% restant)\n",
    "    \"\"\"\n",
    "    \n",
    "    # la vostra solució aquí\n",
    "    \"\"\"Fem allò tractat abans però per tots els usuaris del conjunt de test. Ajuntem el 80% de test_set a train.\"\"\"\n",
    "    test_rate = 0.2\n",
    "    train = pd.DataFrame(traindf)\n",
    "    test = pd.DataFrame()\n",
    "    groupby_count = test_set.groupby('user_id')['movie_id'].count()*test_rate\n",
    "    for u,n in zip(groupby_count.index, groupby_count.astype(int)):\n",
    "        test_user = test_set[test_set['user_id'] == u]\n",
    "        frame_test = test_user.sample(n)\n",
    "        train = pd.concat([train, test_user[~test_user.index.isin(frame_test.index)]])\n",
    "        test = pd.concat([test, frame_test])\n",
    "        \n",
    "    return train, test"
   ]
  },
  {
   "cell_type": "code",
   "execution_count": 73,
   "metadata": {},
   "outputs": [],
   "source": [
    "train, test = add_testdata(train_set, test_set)"
   ]
  },
  {
   "cell_type": "code",
   "execution_count": 74,
   "metadata": {},
   "outputs": [
    {
     "data": {
      "text/html": [
       "<div>\n",
       "<style scoped>\n",
       "    .dataframe tbody tr th:only-of-type {\n",
       "        vertical-align: middle;\n",
       "    }\n",
       "\n",
       "    .dataframe tbody tr th {\n",
       "        vertical-align: top;\n",
       "    }\n",
       "\n",
       "    .dataframe thead th {\n",
       "        text-align: right;\n",
       "    }\n",
       "</style>\n",
       "<table border=\"1\" class=\"dataframe\">\n",
       "  <thead>\n",
       "    <tr style=\"text-align: right;\">\n",
       "      <th></th>\n",
       "      <th>user_id</th>\n",
       "      <th>movie_id</th>\n",
       "      <th>rating</th>\n",
       "      <th>timestamp</th>\n",
       "      <th>gender</th>\n",
       "      <th>age</th>\n",
       "      <th>occupation</th>\n",
       "      <th>zip</th>\n",
       "      <th>title</th>\n",
       "      <th>genres</th>\n",
       "    </tr>\n",
       "  </thead>\n",
       "  <tbody>\n",
       "    <tr>\n",
       "      <th>0</th>\n",
       "      <td>0</td>\n",
       "      <td>1104</td>\n",
       "      <td>5</td>\n",
       "      <td>978300760</td>\n",
       "      <td>F</td>\n",
       "      <td>1</td>\n",
       "      <td>10</td>\n",
       "      <td>48067</td>\n",
       "      <td>One Flew Over the Cuckoo's Nest (1975)</td>\n",
       "      <td>Drama</td>\n",
       "    </tr>\n",
       "    <tr>\n",
       "      <th>1</th>\n",
       "      <td>1</td>\n",
       "      <td>1104</td>\n",
       "      <td>5</td>\n",
       "      <td>978298413</td>\n",
       "      <td>M</td>\n",
       "      <td>56</td>\n",
       "      <td>16</td>\n",
       "      <td>70072</td>\n",
       "      <td>One Flew Over the Cuckoo's Nest (1975)</td>\n",
       "      <td>Drama</td>\n",
       "    </tr>\n",
       "    <tr>\n",
       "      <th>2</th>\n",
       "      <td>11</td>\n",
       "      <td>1104</td>\n",
       "      <td>4</td>\n",
       "      <td>978220179</td>\n",
       "      <td>M</td>\n",
       "      <td>25</td>\n",
       "      <td>12</td>\n",
       "      <td>32793</td>\n",
       "      <td>One Flew Over the Cuckoo's Nest (1975)</td>\n",
       "      <td>Drama</td>\n",
       "    </tr>\n",
       "    <tr>\n",
       "      <th>4</th>\n",
       "      <td>16</td>\n",
       "      <td>1104</td>\n",
       "      <td>5</td>\n",
       "      <td>978158471</td>\n",
       "      <td>M</td>\n",
       "      <td>50</td>\n",
       "      <td>1</td>\n",
       "      <td>95350</td>\n",
       "      <td>One Flew Over the Cuckoo's Nest (1975)</td>\n",
       "      <td>Drama</td>\n",
       "    </tr>\n",
       "    <tr>\n",
       "      <th>7</th>\n",
       "      <td>23</td>\n",
       "      <td>1104</td>\n",
       "      <td>5</td>\n",
       "      <td>978136709</td>\n",
       "      <td>F</td>\n",
       "      <td>25</td>\n",
       "      <td>7</td>\n",
       "      <td>10023</td>\n",
       "      <td>One Flew Over the Cuckoo's Nest (1975)</td>\n",
       "      <td>Drama</td>\n",
       "    </tr>\n",
       "    <tr>\n",
       "      <th>...</th>\n",
       "      <td>...</td>\n",
       "      <td>...</td>\n",
       "      <td>...</td>\n",
       "      <td>...</td>\n",
       "      <td>...</td>\n",
       "      <td>...</td>\n",
       "      <td>...</td>\n",
       "      <td>...</td>\n",
       "      <td>...</td>\n",
       "      <td>...</td>\n",
       "    </tr>\n",
       "    <tr>\n",
       "      <th>799455</th>\n",
       "      <td>6037</td>\n",
       "      <td>3314</td>\n",
       "      <td>4</td>\n",
       "      <td>956707604</td>\n",
       "      <td>F</td>\n",
       "      <td>56</td>\n",
       "      <td>1</td>\n",
       "      <td>14706</td>\n",
       "      <td>Auntie Mame (1958)</td>\n",
       "      <td>Comedy|Drama</td>\n",
       "    </tr>\n",
       "    <tr>\n",
       "      <th>810947</th>\n",
       "      <td>6037</td>\n",
       "      <td>2872</td>\n",
       "      <td>5</td>\n",
       "      <td>956707640</td>\n",
       "      <td>F</td>\n",
       "      <td>56</td>\n",
       "      <td>1</td>\n",
       "      <td>14706</td>\n",
       "      <td>Harvey (1950)</td>\n",
       "      <td>Comedy</td>\n",
       "    </tr>\n",
       "    <tr>\n",
       "      <th>815636</th>\n",
       "      <td>6037</td>\n",
       "      <td>1094</td>\n",
       "      <td>5</td>\n",
       "      <td>956717204</td>\n",
       "      <td>F</td>\n",
       "      <td>56</td>\n",
       "      <td>1</td>\n",
       "      <td>14706</td>\n",
       "      <td>English Patient, The (1996)</td>\n",
       "      <td>Drama|Romance|War</td>\n",
       "    </tr>\n",
       "    <tr>\n",
       "      <th>836349</th>\n",
       "      <td>6037</td>\n",
       "      <td>1316</td>\n",
       "      <td>4</td>\n",
       "      <td>956714815</td>\n",
       "      <td>F</td>\n",
       "      <td>56</td>\n",
       "      <td>1</td>\n",
       "      <td>14706</td>\n",
       "      <td>Walkabout (1971)</td>\n",
       "      <td>Drama</td>\n",
       "    </tr>\n",
       "    <tr>\n",
       "      <th>957512</th>\n",
       "      <td>6037</td>\n",
       "      <td>1256</td>\n",
       "      <td>3</td>\n",
       "      <td>956714725</td>\n",
       "      <td>F</td>\n",
       "      <td>56</td>\n",
       "      <td>1</td>\n",
       "      <td>14706</td>\n",
       "      <td>Breaking the Waves (1996)</td>\n",
       "      <td>Drama</td>\n",
       "    </tr>\n",
       "  </tbody>\n",
       "</table>\n",
       "<p>981020 rows × 10 columns</p>\n",
       "</div>"
      ],
      "text/plain": [
       "        user_id  movie_id  rating  timestamp gender  age  occupation    zip  \\\n",
       "0             0      1104       5  978300760      F    1          10  48067   \n",
       "1             1      1104       5  978298413      M   56          16  70072   \n",
       "2            11      1104       4  978220179      M   25          12  32793   \n",
       "4            16      1104       5  978158471      M   50           1  95350   \n",
       "7            23      1104       5  978136709      F   25           7  10023   \n",
       "...         ...       ...     ...        ...    ...  ...         ...    ...   \n",
       "799455     6037      3314       4  956707604      F   56           1  14706   \n",
       "810947     6037      2872       5  956707640      F   56           1  14706   \n",
       "815636     6037      1094       5  956717204      F   56           1  14706   \n",
       "836349     6037      1316       4  956714815      F   56           1  14706   \n",
       "957512     6037      1256       3  956714725      F   56           1  14706   \n",
       "\n",
       "                                         title             genres  \n",
       "0       One Flew Over the Cuckoo's Nest (1975)              Drama  \n",
       "1       One Flew Over the Cuckoo's Nest (1975)              Drama  \n",
       "2       One Flew Over the Cuckoo's Nest (1975)              Drama  \n",
       "4       One Flew Over the Cuckoo's Nest (1975)              Drama  \n",
       "7       One Flew Over the Cuckoo's Nest (1975)              Drama  \n",
       "...                                        ...                ...  \n",
       "799455                      Auntie Mame (1958)       Comedy|Drama  \n",
       "810947                           Harvey (1950)             Comedy  \n",
       "815636             English Patient, The (1996)  Drama|Romance|War  \n",
       "836349                        Walkabout (1971)              Drama  \n",
       "957512               Breaking the Waves (1996)              Drama  \n",
       "\n",
       "[981020 rows x 10 columns]"
      ]
     },
     "execution_count": 74,
     "metadata": {},
     "output_type": "execute_result"
    }
   ],
   "source": [
    "train"
   ]
  },
  {
   "cell_type": "code",
   "execution_count": 75,
   "metadata": {},
   "outputs": [
    {
     "data": {
      "text/html": [
       "<div>\n",
       "<style scoped>\n",
       "    .dataframe tbody tr th:only-of-type {\n",
       "        vertical-align: middle;\n",
       "    }\n",
       "\n",
       "    .dataframe tbody tr th {\n",
       "        vertical-align: top;\n",
       "    }\n",
       "\n",
       "    .dataframe thead th {\n",
       "        text-align: right;\n",
       "    }\n",
       "</style>\n",
       "<table border=\"1\" class=\"dataframe\">\n",
       "  <thead>\n",
       "    <tr style=\"text-align: right;\">\n",
       "      <th></th>\n",
       "      <th>user_id</th>\n",
       "      <th>movie_id</th>\n",
       "      <th>rating</th>\n",
       "      <th>timestamp</th>\n",
       "      <th>gender</th>\n",
       "      <th>age</th>\n",
       "      <th>occupation</th>\n",
       "      <th>zip</th>\n",
       "      <th>title</th>\n",
       "      <th>genres</th>\n",
       "    </tr>\n",
       "  </thead>\n",
       "  <tbody>\n",
       "    <tr>\n",
       "      <th>549762</th>\n",
       "      <td>10</td>\n",
       "      <td>1928</td>\n",
       "      <td>5</td>\n",
       "      <td>978903658</td>\n",
       "      <td>F</td>\n",
       "      <td>25</td>\n",
       "      <td>1</td>\n",
       "      <td>04093</td>\n",
       "      <td>Jerk, The (1979)</td>\n",
       "      <td>Comedy</td>\n",
       "    </tr>\n",
       "    <tr>\n",
       "      <th>14388</th>\n",
       "      <td>10</td>\n",
       "      <td>2710</td>\n",
       "      <td>5</td>\n",
       "      <td>978903129</td>\n",
       "      <td>F</td>\n",
       "      <td>25</td>\n",
       "      <td>1</td>\n",
       "      <td>04093</td>\n",
       "      <td>Ferris Bueller's Day Off (1986)</td>\n",
       "      <td>Comedy</td>\n",
       "    </tr>\n",
       "    <tr>\n",
       "      <th>111821</th>\n",
       "      <td>10</td>\n",
       "      <td>501</td>\n",
       "      <td>3</td>\n",
       "      <td>978220867</td>\n",
       "      <td>F</td>\n",
       "      <td>25</td>\n",
       "      <td>1</td>\n",
       "      <td>04093</td>\n",
       "      <td>Remains of the Day, The (1993)</td>\n",
       "      <td>Drama</td>\n",
       "    </tr>\n",
       "    <tr>\n",
       "      <th>471534</th>\n",
       "      <td>10</td>\n",
       "      <td>1993</td>\n",
       "      <td>4</td>\n",
       "      <td>978903278</td>\n",
       "      <td>F</td>\n",
       "      <td>25</td>\n",
       "      <td>1</td>\n",
       "      <td>04093</td>\n",
       "      <td>Beetlejuice (1988)</td>\n",
       "      <td>Comedy|Fantasy</td>\n",
       "    </tr>\n",
       "    <tr>\n",
       "      <th>210644</th>\n",
       "      <td>10</td>\n",
       "      <td>1059</td>\n",
       "      <td>4</td>\n",
       "      <td>978902965</td>\n",
       "      <td>F</td>\n",
       "      <td>25</td>\n",
       "      <td>1</td>\n",
       "      <td>04093</td>\n",
       "      <td>Monty Python and the Holy Grail (1974)</td>\n",
       "      <td>Comedy</td>\n",
       "    </tr>\n",
       "    <tr>\n",
       "      <th>...</th>\n",
       "      <td>...</td>\n",
       "      <td>...</td>\n",
       "      <td>...</td>\n",
       "      <td>...</td>\n",
       "      <td>...</td>\n",
       "      <td>...</td>\n",
       "      <td>...</td>\n",
       "      <td>...</td>\n",
       "      <td>...</td>\n",
       "      <td>...</td>\n",
       "    </tr>\n",
       "    <tr>\n",
       "      <th>239639</th>\n",
       "      <td>6030</td>\n",
       "      <td>46</td>\n",
       "      <td>3</td>\n",
       "      <td>956718439</td>\n",
       "      <td>F</td>\n",
       "      <td>18</td>\n",
       "      <td>0</td>\n",
       "      <td>45123</td>\n",
       "      <td>Seven (Se7en) (1995)</td>\n",
       "      <td>Crime|Thriller</td>\n",
       "    </tr>\n",
       "    <tr>\n",
       "      <th>656926</th>\n",
       "      <td>6037</td>\n",
       "      <td>225</td>\n",
       "      <td>4</td>\n",
       "      <td>956707640</td>\n",
       "      <td>F</td>\n",
       "      <td>56</td>\n",
       "      <td>1</td>\n",
       "      <td>14706</td>\n",
       "      <td>Eat Drink Man Woman (1994)</td>\n",
       "      <td>Comedy|Drama</td>\n",
       "    </tr>\n",
       "    <tr>\n",
       "      <th>212239</th>\n",
       "      <td>6037</td>\n",
       "      <td>1059</td>\n",
       "      <td>4</td>\n",
       "      <td>956707708</td>\n",
       "      <td>F</td>\n",
       "      <td>56</td>\n",
       "      <td>1</td>\n",
       "      <td>14706</td>\n",
       "      <td>Monty Python and the Holy Grail (1974)</td>\n",
       "      <td>Comedy</td>\n",
       "    </tr>\n",
       "    <tr>\n",
       "      <th>189932</th>\n",
       "      <td>6037</td>\n",
       "      <td>1007</td>\n",
       "      <td>5</td>\n",
       "      <td>956707547</td>\n",
       "      <td>F</td>\n",
       "      <td>56</td>\n",
       "      <td>1</td>\n",
       "      <td>14706</td>\n",
       "      <td>Fish Called Wanda, A (1988)</td>\n",
       "      <td>Comedy</td>\n",
       "    </tr>\n",
       "    <tr>\n",
       "      <th>221006</th>\n",
       "      <td>6037</td>\n",
       "      <td>1288</td>\n",
       "      <td>2</td>\n",
       "      <td>956707005</td>\n",
       "      <td>F</td>\n",
       "      <td>56</td>\n",
       "      <td>1</td>\n",
       "      <td>14706</td>\n",
       "      <td>Jaws (1975)</td>\n",
       "      <td>Action|Horror</td>\n",
       "    </tr>\n",
       "  </tbody>\n",
       "</table>\n",
       "<p>19189 rows × 10 columns</p>\n",
       "</div>"
      ],
      "text/plain": [
       "        user_id  movie_id  rating  timestamp gender  age  occupation    zip  \\\n",
       "549762       10      1928       5  978903658      F   25           1  04093   \n",
       "14388        10      2710       5  978903129      F   25           1  04093   \n",
       "111821       10       501       3  978220867      F   25           1  04093   \n",
       "471534       10      1993       4  978903278      F   25           1  04093   \n",
       "210644       10      1059       4  978902965      F   25           1  04093   \n",
       "...         ...       ...     ...        ...    ...  ...         ...    ...   \n",
       "239639     6030        46       3  956718439      F   18           0  45123   \n",
       "656926     6037       225       4  956707640      F   56           1  14706   \n",
       "212239     6037      1059       4  956707708      F   56           1  14706   \n",
       "189932     6037      1007       5  956707547      F   56           1  14706   \n",
       "221006     6037      1288       2  956707005      F   56           1  14706   \n",
       "\n",
       "                                         title          genres  \n",
       "549762                        Jerk, The (1979)          Comedy  \n",
       "14388          Ferris Bueller's Day Off (1986)          Comedy  \n",
       "111821          Remains of the Day, The (1993)           Drama  \n",
       "471534                      Beetlejuice (1988)  Comedy|Fantasy  \n",
       "210644  Monty Python and the Holy Grail (1974)          Comedy  \n",
       "...                                        ...             ...  \n",
       "239639                    Seven (Se7en) (1995)  Crime|Thriller  \n",
       "656926              Eat Drink Man Woman (1994)    Comedy|Drama  \n",
       "212239  Monty Python and the Holy Grail (1974)          Comedy  \n",
       "189932             Fish Called Wanda, A (1988)          Comedy  \n",
       "221006                             Jaws (1975)   Action|Horror  \n",
       "\n",
       "[19189 rows x 10 columns]"
      ]
     },
     "execution_count": 75,
     "metadata": {},
     "output_type": "execute_result"
    }
   ],
   "source": [
    "test"
   ]
  },
  {
   "cell_type": "code",
   "execution_count": 76,
   "metadata": {},
   "outputs": [
    {
     "data": {
      "text/plain": [
       "(981020, 10)"
      ]
     },
     "execution_count": 76,
     "metadata": {},
     "output_type": "execute_result"
    }
   ],
   "source": [
    "train.shape"
   ]
  },
  {
   "cell_type": "code",
   "execution_count": 77,
   "metadata": {},
   "outputs": [
    {
     "data": {
      "text/plain": [
       "(19189, 10)"
      ]
     },
     "execution_count": 77,
     "metadata": {},
     "output_type": "execute_result"
    }
   ],
   "source": [
    "test.shape"
   ]
  },
  {
   "cell_type": "code",
   "execution_count": 78,
   "metadata": {},
   "outputs": [
    {
     "data": {
      "text/plain": [
       "(1000209, 10)"
      ]
     },
     "execution_count": 78,
     "metadata": {},
     "output_type": "execute_result"
    }
   ],
   "source": [
    "data.shape"
   ]
  },
  {
   "cell_type": "code",
   "execution_count": 79,
   "metadata": {},
   "outputs": [],
   "source": [
    "assert train.shape[0] + test.shape[0] == data.shape[0]"
   ]
  },
  {
   "cell_type": "markdown",
   "metadata": {},
   "source": [
    "#### EXERCICI G.3"
   ]
  },
  {
   "cell_type": "markdown",
   "metadata": {},
   "source": [
    "+ Fes una funció que serveixi per evaluar el nostre sistema usant la mètrica MAE. "
   ]
  },
  {
   "cell_type": "code",
   "execution_count": 80,
   "metadata": {},
   "outputs": [],
   "source": [
    "def evaluateRecommendations(train, test, m, n, sim):\n",
    "    \"\"\"\n",
    "    Retorna l'error generat pel model\n",
    "    \n",
    "    :param train: dataframe que conté totes les dades d'entrenament\n",
    "    :param test: dataframe que conté totes les dades de test\n",
    "    :param m: nombre d'usuaris que volem per fer la recomanació\n",
    "    :param n: nombre de pelis a recomanar als usuaris\n",
    "    :param sim: matriu de similaritat\n",
    "    :return : Escalar (float) corresponent al MAE\n",
    "    \"\"\"\n",
    "   \n",
    "    # la vostra solució\n",
    "    \"\"\"\n",
    "    Mirem les pel·lícules recomanades per cada usuari. Si està valorada (al conjunt de test), determinem quina és la \n",
    "    diferència entre la predicció i el rating real. Fem una mitjana aritmètica del valor absolut dels errors (MAE).\n",
    "    \"\"\"\n",
    "    suma = 0\n",
    "    count = 0\n",
    "    for u in test.index:\n",
    "        \"\"\"\n",
    "        Per cada usuari determinem quines pel·lícules s'han predit i valorat simultàniament. D'aquestes, determinem\n",
    "        la diferència en valor absolut (diffs). Afegim a les variables de la mitjana els valors no NaN d'aquest vector.\n",
    "        \"\"\"\n",
    "        predictions = getRecommendationsUser(train, u, sim, n, m)\n",
    "        ratings = test.loc[u]\n",
    "        I = np.intersect1d(predictions.index, ratings.index)\n",
    "        diffs = np.abs(predictions.loc[I].values.reshape(len(I)) - ratings.loc[I].values)\n",
    "        diffs = diffs[~np.isnan(diffs)]\n",
    "        suma += np.sum(diffs)\n",
    "        count += len(diffs)\n",
    "        \n",
    "    \"\"\"Si no hi cap coincidència entre prediccions i valoracions retornem np.nan per no confondre amb MAE=0.\"\"\"\n",
    "    return np.nan if count == 0 else suma/count"
   ]
  },
  {
   "cell_type": "code",
   "execution_count": 81,
   "metadata": {},
   "outputs": [
    {
     "name": "stdout",
     "output_type": "stream",
     "text": [
      "Temps en construir la matriu de similaritat i calcular el MAE: 0:00:07.209506\n"
     ]
    }
   ],
   "source": [
    "\"\"\"\n",
    "Primer determinem df_counts i similarity_matrix a partir del df train. Volem també df_counts de test \n",
    "per saber quins son els ratings reals a avaluar. Notem que aquests df_counts NO contenen necessàriament \n",
    "tots els usuaris ni totes les pel·lícules! Caldrà tenir-ho en compte (per exemple, usar .loc i no .iloc).\n",
    "\"\"\"\n",
    "df_counts_train = build_counts_table(train).fillna(0)\n",
    "df_counts_test = build_counts_table(test)\n",
    "\n",
    "t = datetime.datetime.now()\n",
    "sim_train = similarity_matrix2(df_counts_train)\n",
    "mae = evaluateRecommendations(df_counts_train, df_counts_test, 50, 10, sim_train)\n",
    "t = datetime.datetime.now()-t\n",
    "print(f\"Temps en construir la matriu de similaritat i calcular el MAE: {t}\")"
   ]
  },
  {
   "cell_type": "code",
   "execution_count": 82,
   "metadata": {},
   "outputs": [
    {
     "data": {
      "text/plain": [
       "0.29486984879418654"
      ]
     },
     "execution_count": 82,
     "metadata": {},
     "output_type": "execute_result"
    }
   ],
   "source": [
    "mae"
   ]
  },
  {
   "cell_type": "markdown",
   "metadata": {},
   "source": [
    "Així, en mitjana, l'error en el *rating* de les pel·lícules recomanades és inferior a 0.3."
   ]
  },
  {
   "cell_type": "markdown",
   "metadata": {},
   "source": [
    "### 3.8. EXERCICI H (exercici opcional, no obligatori)\n",
    "\n",
    "\n",
    "+ **Que surt més a compte, fer un recomanador unic pels dos sexes o un per cada sexe?** Justifica la resposta per escrit i amb el codi necessari.\n",
    "\n",
    "Per veure si podria sortir més a compte farem dos recomanadors: un per cada gènere (preferim aquesta terminologia a sexe perquè a les dades originals la columna s'anomena ``gender``) a partir del conjunt d'entrenament i test generats a l'apartat anterior. Per cadascun d'ells, determinarem el MAE (*Mean Absolute Error*) obtingut (tal i com hem fet a l'anterior exercici). Si és un valor similar o superior al del recomanador únic (variable ``mae``), podrem estar segurs que no guanyarem res amb un recomanador específic, doncs això comportarà un esforç addicional (càlcul de 2 recomanadors, haver de consultar si l'usuari és home i dona cada cop que vulguem recomanar...) sense ser profitós."
   ]
  },
  {
   "cell_type": "code",
   "execution_count": 83,
   "metadata": {},
   "outputs": [
    {
     "name": "stdout",
     "output_type": "stream",
     "text": [
      "MAE recomanador genèric: 0.29486984879418654\n",
      "MAE recomanador masculí: 0.5000000000000009\n",
      "MAE recomanador femení: nan\n"
     ]
    }
   ],
   "source": [
    "\"\"\"df_counts d'entrenament i test per cada gènere.\"\"\"\n",
    "train_m = build_counts_table(train[train['gender'] == 'M']).fillna(0)\n",
    "test_m = build_counts_table(test[test['gender'] == 'M'])\n",
    "train_f = build_counts_table(train[train['gender'] == 'F']).fillna(0)\n",
    "test_f = build_counts_table(test[test['gender'] == 'F'])\n",
    "\n",
    "\"\"\"Matrius de similaritat.\"\"\"\n",
    "sim_train_m = similarity_matrix2(train_m)\n",
    "sim_train_f = similarity_matrix2(train_f)\n",
    "\n",
    "\"\"\"MAE dels recomanadors específics.\"\"\"\n",
    "mae_m = evaluateRecommendations(train_m, test_m, 50, 10, sim_train_m)\n",
    "mae_f = evaluateRecommendations(train_f, test_f, 50, 10, sim_train_f)\n",
    "\n",
    "\"\"\"Resultats.\"\"\"\n",
    "print(f\"MAE recomanador genèric: {mae}\\nMAE recomanador masculí: {mae_m}\\nMAE recomanador femení: {mae_f}\")"
   ]
  },
  {
   "cell_type": "markdown",
   "metadata": {},
   "source": [
    "Comparant-ho amb l'experiment de l'exercici G obtenim un resultat pitjor en el gènere masculí. De fet, la ràtio 0.5/0.29487 és propera a 1.7, indicant-nos que l'error s'incrementa en, aproximadament, un 70%. D'altra banda, les pel·lícules recomanades en el gènere femení no coincideixen, en cap cas, amb les que teníem per avaluar al conjunt de test. Per tant, no només el recomanador específic ho fa pitjor (segons aquesta tria de conjunt d'entrenament i test, almenys) al gènere masculí, sinó que amb el femení ni tan sols podem determinar com de bo és. Això té sentit si pensem que al dividir el recomanador en 2 tenim moltes menys dades per treballar en cada cas. \n",
    "\n",
    "En conclusió, tal i com hem comentat a l'inici de l'exercici, en la nostra opinió **no surt a compte** fer un recomanador específic per cada gènere. A més, no sabem com està la legislació en aquest àmbit però no ens sembla gaire ètic usar el gènere per recomanar, doncs això implica considerar els gustos de cadascun per separat (i, per tant, diferenciant-los)."
   ]
  }
 ],
 "metadata": {
  "colab": {
   "collapsed_sections": [
    "jA23uCs6wksC",
    "9rsNZQEvueYW",
    "AnjjZz6Sr_de"
   ],
   "provenance": []
  },
  "kernelspec": {
   "display_name": "Python 3 (ipykernel)",
   "language": "python",
   "name": "python3"
  },
  "language_info": {
   "codemirror_mode": {
    "name": "ipython",
    "version": 3
   },
   "file_extension": ".py",
   "mimetype": "text/x-python",
   "name": "python",
   "nbconvert_exporter": "python",
   "pygments_lexer": "ipython3",
   "version": "3.9.7"
  }
 },
 "nbformat": 4,
 "nbformat_minor": 4
}
